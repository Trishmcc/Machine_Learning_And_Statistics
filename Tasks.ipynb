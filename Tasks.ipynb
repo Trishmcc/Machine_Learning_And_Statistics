{
 "cells": [
  {
   "cell_type": "markdown",
   "metadata": {},
   "source": [
    "# Tasks\n",
    "\n",
    "***\n",
    "\n",
    "Machine Learning and Statistics\n",
    "\n",
    "2023/24\n",
    "\n",
    "By Trish O'Grady\n",
    "\n",
    "***"
   ]
  },
  {
   "cell_type": "code",
   "execution_count": 4,
   "metadata": {},
   "outputs": [],
   "source": [
    "# Data Frames\n",
    "import pandas as pd\n",
    "\n",
    "# Shuffles\n",
    "\n",
    "import random\n",
    "\n",
    "# Statistics\n",
    "\n",
    "import scipy.stats.contingency as ss"
   ]
  },
  {
   "cell_type": "markdown",
   "metadata": {},
   "source": [
    "# Task 1\n",
    "\n",
    "> Square roots are difficult to calculate. In Python, you typically use the \n",
    "power operator (a double asterisk) or a package such as `math`. In this task a function is written `sqrt(x)`to approximate the square root of a floating point number x without using the power operator or a package.\n",
    "\n",
    "> Newton’s method is used instead. An initial guess is used as a starting point for the square root called $z_0$. It is then repeatedly improved using the following formula, until the difference between some previous guess $z_i$ and the next $z_{i+1}$ is less than some threshold, say 0.01\n",
    "\n",
    "$$ z_{i+1} = z_i − \\frac{zi × zi − x}{2z_i} $$"
   ]
  },
  {
   "cell_type": "code",
   "execution_count": 5,
   "metadata": {},
   "outputs": [],
   "source": [
    "def sqrt(x):\n",
    "    #Initial Guess for the Square Root\n",
    "    z = x / 4.0\n",
    "    #Loop until we are accurate enough\n",
    "    for i in range(100):\n",
    "        # Newton's Method for a Better Approximation.\n",
    "        z = z - (((z * z) - x) / (2 * z))\n",
    "\n",
    "    # z should now be a good approxiamtion for the square root\n",
    "    return z"
   ]
  },
  {
   "cell_type": "markdown",
   "metadata": {},
   "source": [
    "## Test the function on 3 \n",
    "\n",
    "sqrt(16)"
   ]
  },
  {
   "cell_type": "markdown",
   "metadata": {},
   "source": [
    "## Check Python's value for square root of 3\n",
    "\n",
    "16**0.5"
   ]
  },
  {
   "cell_type": "markdown",
   "metadata": {},
   "source": [
    "***\n",
    "\n",
    "## End"
   ]
  },
  {
   "cell_type": "markdown",
   "metadata": {},
   "source": [
    "\n",
    "# Task 2\n",
    "\n",
    "## Laerd Statistics Chi-Square Test for Independence\n",
    "\n",
    "https://statistics.laerd.com/spss-tutorials/chi-square-test-for-association-using-spss-statistics.php\n",
    "\n",
    "***"
   ]
  },
  {
   "attachments": {
    "713b4db2-16d5-4b6d-bc35-4ed1193eb916.png": {
     "image/png": "[encoded data removed]"
    }
   },
   "cell_type": "markdown",
   "metadata": {},
   "source": [
    "## Chi Square Test for Independence\n",
    "\n",
    "In this task, scipy.stats will be used to perform a chi squared test to see if there is evidence of an association between drink preference and biscuit preference in this instance. Data will be simulated and scipy.stats will be used to produce a contingency table whereby it counts across 2 variables with categories which then return counts and statistical analysis can then be performed.\n",
    "\n",
    "![image.png](attachment:713b4db2-16d5-4b6d-bc35-4ed1193eb916.png)\n",
    "\n",
    "\n",
    "The chi-square test for independence, also called Pearson's chi-square test is used to discover if there is a relationship between two categorical variables.[1]\n",
    "The Chi-square test is mainly used for hypothesis testing. Checking if observed frequencies in one or more categories match expected frequencies is one of two frequent Chi-square tests.[2] The Chi-square test is used to determine whether your data is as expected. The test's core premise is to compare the observed values in your data to the expected values that you would see if the null hypothesis is true.[3]"
   ]
  },
  {
   "cell_type": "code",
   "execution_count": 6,
   "metadata": {
    "scrolled": true
   },
   "outputs": [
    {
     "data": {
      "text/plain": [
       "[['Coffee', 'Chocolate'],\n",
       " ['Coffee', 'Chocolate'],\n",
       " ['Coffee', 'Chocolate'],\n",
       " ['Coffee', 'Chocolate'],\n",
       " ['Coffee', 'Chocolate'],\n",
       " ['Coffee', 'Chocolate'],\n",
       " ['Coffee', 'Chocolate'],\n",
       " ['Coffee', 'Chocolate'],\n",
       " ['Coffee', 'Chocolate'],\n",
       " ['Coffee', 'Chocolate'],\n",
       " ['Coffee', 'Chocolate'],\n",
       " ['Coffee', 'Chocolate'],\n",
       " ['Coffee', 'Chocolate'],\n",
       " ['Coffee', 'Chocolate'],\n",
       " ['Coffee', 'Chocolate'],\n",
       " ['Coffee', 'Chocolate'],\n",
       " ['Coffee', 'Chocolate'],\n",
       " ['Coffee', 'Chocolate'],\n",
       " ['Coffee', 'Chocolate'],\n",
       " ['Coffee', 'Chocolate'],\n",
       " ['Coffee', 'Chocolate'],\n",
       " ['Coffee', 'Chocolate'],\n",
       " ['Coffee', 'Chocolate'],\n",
       " ['Coffee', 'Chocolate'],\n",
       " ['Coffee', 'Chocolate'],\n",
       " ['Coffee', 'Chocolate'],\n",
       " ['Coffee', 'Chocolate'],\n",
       " ['Coffee', 'Chocolate'],\n",
       " ['Coffee', 'Chocolate'],\n",
       " ['Coffee', 'Chocolate'],\n",
       " ['Coffee', 'Chocolate'],\n",
       " ['Coffee', 'Chocolate'],\n",
       " ['Coffee', 'Chocolate'],\n",
       " ['Coffee', 'Chocolate'],\n",
       " ['Coffee', 'Chocolate'],\n",
       " ['Coffee', 'Chocolate'],\n",
       " ['Coffee', 'Chocolate'],\n",
       " ['Coffee', 'Chocolate'],\n",
       " ['Coffee', 'Chocolate'],\n",
       " ['Coffee', 'Chocolate'],\n",
       " ['Coffee', 'Chocolate'],\n",
       " ['Coffee', 'Chocolate'],\n",
       " ['Coffee', 'Chocolate']]"
      ]
     },
     "execution_count": 6,
     "metadata": {},
     "output_type": "execute_result"
    }
   ],
   "source": [
    "## Create a list containing 43 individual list of Coffee Drinkers who prefered to eat chocolates biscuits\n",
    "\n",
    "coffee_choc = [['Coffee', 'Chocolate'] for i in range(43)]\n",
    "# Show\n",
    "coffee_choc"
   ]
  },
  {
   "cell_type": "code",
   "execution_count": 7,
   "metadata": {
    "scrolled": true
   },
   "outputs": [
    {
     "data": {
      "text/plain": [
       "[['Tea', 'Chocolate'],\n",
       " ['Tea', 'Chocolate'],\n",
       " ['Tea', 'Chocolate'],\n",
       " ['Tea', 'Chocolate'],\n",
       " ['Tea', 'Chocolate'],\n",
       " ['Tea', 'Chocolate'],\n",
       " ['Tea', 'Chocolate'],\n",
       " ['Tea', 'Chocolate'],\n",
       " ['Tea', 'Chocolate'],\n",
       " ['Tea', 'Chocolate'],\n",
       " ['Tea', 'Chocolate'],\n",
       " ['Tea', 'Chocolate'],\n",
       " ['Tea', 'Chocolate'],\n",
       " ['Tea', 'Chocolate'],\n",
       " ['Tea', 'Chocolate'],\n",
       " ['Tea', 'Chocolate'],\n",
       " ['Tea', 'Chocolate'],\n",
       " ['Tea', 'Chocolate'],\n",
       " ['Tea', 'Chocolate'],\n",
       " ['Tea', 'Chocolate'],\n",
       " ['Tea', 'Chocolate'],\n",
       " ['Tea', 'Chocolate'],\n",
       " ['Tea', 'Chocolate'],\n",
       " ['Tea', 'Chocolate'],\n",
       " ['Tea', 'Chocolate'],\n",
       " ['Tea', 'Chocolate'],\n",
       " ['Tea', 'Chocolate'],\n",
       " ['Tea', 'Chocolate'],\n",
       " ['Tea', 'Chocolate'],\n",
       " ['Tea', 'Chocolate'],\n",
       " ['Tea', 'Chocolate'],\n",
       " ['Tea', 'Chocolate'],\n",
       " ['Tea', 'Chocolate'],\n",
       " ['Tea', 'Chocolate'],\n",
       " ['Tea', 'Chocolate'],\n",
       " ['Tea', 'Chocolate'],\n",
       " ['Tea', 'Chocolate'],\n",
       " ['Tea', 'Chocolate'],\n",
       " ['Tea', 'Chocolate'],\n",
       " ['Tea', 'Chocolate'],\n",
       " ['Tea', 'Chocolate'],\n",
       " ['Tea', 'Chocolate'],\n",
       " ['Tea', 'Chocolate'],\n",
       " ['Tea', 'Chocolate'],\n",
       " ['Tea', 'Chocolate'],\n",
       " ['Tea', 'Chocolate'],\n",
       " ['Tea', 'Chocolate'],\n",
       " ['Tea', 'Chocolate'],\n",
       " ['Tea', 'Chocolate'],\n",
       " ['Tea', 'Chocolate'],\n",
       " ['Tea', 'Chocolate'],\n",
       " ['Tea', 'Chocolate'],\n",
       " ['Tea', 'Chocolate'],\n",
       " ['Tea', 'Chocolate'],\n",
       " ['Tea', 'Chocolate'],\n",
       " ['Tea', 'Chocolate']]"
      ]
     },
     "execution_count": 7,
     "metadata": {},
     "output_type": "execute_result"
    }
   ],
   "source": [
    "## Create a list containing 56 individual list of Tea Drinkers who prefered to eat chocolates biscuits'''\n",
    "Tea_choc = [['Tea', 'Chocolate'] for i in range(56)]\n",
    "# Show\n",
    "Tea_choc"
   ]
  },
  {
   "cell_type": "code",
   "execution_count": 8,
   "metadata": {
    "scrolled": true
   },
   "outputs": [
    {
     "data": {
      "text/plain": [
       "[['Coffee', 'Plain'],\n",
       " ['Coffee', 'Plain'],\n",
       " ['Coffee', 'Plain'],\n",
       " ['Coffee', 'Plain'],\n",
       " ['Coffee', 'Plain'],\n",
       " ['Coffee', 'Plain'],\n",
       " ['Coffee', 'Plain'],\n",
       " ['Coffee', 'Plain'],\n",
       " ['Coffee', 'Plain'],\n",
       " ['Coffee', 'Plain'],\n",
       " ['Coffee', 'Plain'],\n",
       " ['Coffee', 'Plain'],\n",
       " ['Coffee', 'Plain'],\n",
       " ['Coffee', 'Plain'],\n",
       " ['Coffee', 'Plain'],\n",
       " ['Coffee', 'Plain'],\n",
       " ['Coffee', 'Plain'],\n",
       " ['Coffee', 'Plain'],\n",
       " ['Coffee', 'Plain'],\n",
       " ['Coffee', 'Plain'],\n",
       " ['Coffee', 'Plain'],\n",
       " ['Coffee', 'Plain'],\n",
       " ['Coffee', 'Plain'],\n",
       " ['Coffee', 'Plain'],\n",
       " ['Coffee', 'Plain'],\n",
       " ['Coffee', 'Plain'],\n",
       " ['Coffee', 'Plain'],\n",
       " ['Coffee', 'Plain'],\n",
       " ['Coffee', 'Plain'],\n",
       " ['Coffee', 'Plain'],\n",
       " ['Coffee', 'Plain'],\n",
       " ['Coffee', 'Plain'],\n",
       " ['Coffee', 'Plain'],\n",
       " ['Coffee', 'Plain'],\n",
       " ['Coffee', 'Plain'],\n",
       " ['Coffee', 'Plain'],\n",
       " ['Coffee', 'Plain'],\n",
       " ['Coffee', 'Plain'],\n",
       " ['Coffee', 'Plain'],\n",
       " ['Coffee', 'Plain'],\n",
       " ['Coffee', 'Plain'],\n",
       " ['Coffee', 'Plain'],\n",
       " ['Coffee', 'Plain'],\n",
       " ['Coffee', 'Plain'],\n",
       " ['Coffee', 'Plain'],\n",
       " ['Coffee', 'Plain'],\n",
       " ['Coffee', 'Plain'],\n",
       " ['Coffee', 'Plain'],\n",
       " ['Coffee', 'Plain'],\n",
       " ['Coffee', 'Plain'],\n",
       " ['Coffee', 'Plain'],\n",
       " ['Coffee', 'Plain'],\n",
       " ['Coffee', 'Plain'],\n",
       " ['Coffee', 'Plain'],\n",
       " ['Coffee', 'Plain'],\n",
       " ['Coffee', 'Plain'],\n",
       " ['Coffee', 'Plain']]"
      ]
     },
     "execution_count": 8,
     "metadata": {},
     "output_type": "execute_result"
    }
   ],
   "source": [
    "## Create a list containing 57 individual list of Coffee Drinkers who prefered to eat plain biscuits'''\n",
    "\n",
    "Coffee_plain = [['Coffee', 'Plain'] for i in range(57)]\n",
    "# Show\n",
    "Coffee_plain"
   ]
  },
  {
   "cell_type": "code",
   "execution_count": 9,
   "metadata": {
    "scrolled": true
   },
   "outputs": [
    {
     "data": {
      "text/plain": [
       "[['Tea', 'Plain'],\n",
       " ['Tea', 'Plain'],\n",
       " ['Tea', 'Plain'],\n",
       " ['Tea', 'Plain'],\n",
       " ['Tea', 'Plain'],\n",
       " ['Tea', 'Plain'],\n",
       " ['Tea', 'Plain'],\n",
       " ['Tea', 'Plain'],\n",
       " ['Tea', 'Plain'],\n",
       " ['Tea', 'Plain'],\n",
       " ['Tea', 'Plain'],\n",
       " ['Tea', 'Plain'],\n",
       " ['Tea', 'Plain'],\n",
       " ['Tea', 'Plain'],\n",
       " ['Tea', 'Plain'],\n",
       " ['Tea', 'Plain'],\n",
       " ['Tea', 'Plain'],\n",
       " ['Tea', 'Plain'],\n",
       " ['Tea', 'Plain'],\n",
       " ['Tea', 'Plain'],\n",
       " ['Tea', 'Plain'],\n",
       " ['Tea', 'Plain'],\n",
       " ['Tea', 'Plain'],\n",
       " ['Tea', 'Plain'],\n",
       " ['Tea', 'Plain'],\n",
       " ['Tea', 'Plain'],\n",
       " ['Tea', 'Plain'],\n",
       " ['Tea', 'Plain'],\n",
       " ['Tea', 'Plain'],\n",
       " ['Tea', 'Plain'],\n",
       " ['Tea', 'Plain'],\n",
       " ['Tea', 'Plain'],\n",
       " ['Tea', 'Plain'],\n",
       " ['Tea', 'Plain'],\n",
       " ['Tea', 'Plain'],\n",
       " ['Tea', 'Plain'],\n",
       " ['Tea', 'Plain'],\n",
       " ['Tea', 'Plain'],\n",
       " ['Tea', 'Plain'],\n",
       " ['Tea', 'Plain'],\n",
       " ['Tea', 'Plain'],\n",
       " ['Tea', 'Plain'],\n",
       " ['Tea', 'Plain'],\n",
       " ['Tea', 'Plain'],\n",
       " ['Tea', 'Plain']]"
      ]
     },
     "execution_count": 9,
     "metadata": {},
     "output_type": "execute_result"
    }
   ],
   "source": [
    "## Create a list containing 45 individual list of Tea Drinkers who prefered to eat plain biscuits'''\n",
    "\n",
    "Tea_plain = [['Tea', 'Plain']for i in range(45)]\n",
    "# Show\n",
    "Tea_plain"
   ]
  },
  {
   "cell_type": "code",
   "execution_count": 10,
   "metadata": {
    "scrolled": true
   },
   "outputs": [
    {
     "data": {
      "text/plain": [
       "[['Coffee', 'Chocolate'],\n",
       " ['Coffee', 'Chocolate'],\n",
       " ['Coffee', 'Chocolate'],\n",
       " ['Coffee', 'Chocolate'],\n",
       " ['Coffee', 'Chocolate'],\n",
       " ['Coffee', 'Chocolate'],\n",
       " ['Coffee', 'Chocolate'],\n",
       " ['Coffee', 'Chocolate'],\n",
       " ['Coffee', 'Chocolate'],\n",
       " ['Coffee', 'Chocolate'],\n",
       " ['Coffee', 'Chocolate'],\n",
       " ['Coffee', 'Chocolate'],\n",
       " ['Coffee', 'Chocolate'],\n",
       " ['Coffee', 'Chocolate'],\n",
       " ['Coffee', 'Chocolate'],\n",
       " ['Coffee', 'Chocolate'],\n",
       " ['Coffee', 'Chocolate'],\n",
       " ['Coffee', 'Chocolate'],\n",
       " ['Coffee', 'Chocolate'],\n",
       " ['Coffee', 'Chocolate'],\n",
       " ['Coffee', 'Chocolate'],\n",
       " ['Coffee', 'Chocolate'],\n",
       " ['Coffee', 'Chocolate'],\n",
       " ['Coffee', 'Chocolate'],\n",
       " ['Coffee', 'Chocolate'],\n",
       " ['Coffee', 'Chocolate'],\n",
       " ['Coffee', 'Chocolate'],\n",
       " ['Coffee', 'Chocolate'],\n",
       " ['Coffee', 'Chocolate'],\n",
       " ['Coffee', 'Chocolate'],\n",
       " ['Coffee', 'Chocolate'],\n",
       " ['Coffee', 'Chocolate'],\n",
       " ['Coffee', 'Chocolate'],\n",
       " ['Coffee', 'Chocolate'],\n",
       " ['Coffee', 'Chocolate'],\n",
       " ['Coffee', 'Chocolate'],\n",
       " ['Coffee', 'Chocolate'],\n",
       " ['Coffee', 'Chocolate'],\n",
       " ['Coffee', 'Chocolate'],\n",
       " ['Coffee', 'Chocolate'],\n",
       " ['Coffee', 'Chocolate'],\n",
       " ['Coffee', 'Chocolate'],\n",
       " ['Coffee', 'Chocolate'],\n",
       " ['Coffee', 'Plain'],\n",
       " ['Coffee', 'Plain'],\n",
       " ['Coffee', 'Plain'],\n",
       " ['Coffee', 'Plain'],\n",
       " ['Coffee', 'Plain'],\n",
       " ['Coffee', 'Plain'],\n",
       " ['Coffee', 'Plain'],\n",
       " ['Coffee', 'Plain'],\n",
       " ['Coffee', 'Plain'],\n",
       " ['Coffee', 'Plain'],\n",
       " ['Coffee', 'Plain'],\n",
       " ['Coffee', 'Plain'],\n",
       " ['Coffee', 'Plain'],\n",
       " ['Coffee', 'Plain'],\n",
       " ['Coffee', 'Plain'],\n",
       " ['Coffee', 'Plain'],\n",
       " ['Coffee', 'Plain'],\n",
       " ['Coffee', 'Plain'],\n",
       " ['Coffee', 'Plain'],\n",
       " ['Coffee', 'Plain'],\n",
       " ['Coffee', 'Plain'],\n",
       " ['Coffee', 'Plain'],\n",
       " ['Coffee', 'Plain'],\n",
       " ['Coffee', 'Plain'],\n",
       " ['Coffee', 'Plain'],\n",
       " ['Coffee', 'Plain'],\n",
       " ['Coffee', 'Plain'],\n",
       " ['Coffee', 'Plain'],\n",
       " ['Coffee', 'Plain'],\n",
       " ['Coffee', 'Plain'],\n",
       " ['Coffee', 'Plain'],\n",
       " ['Coffee', 'Plain'],\n",
       " ['Coffee', 'Plain'],\n",
       " ['Coffee', 'Plain'],\n",
       " ['Coffee', 'Plain'],\n",
       " ['Coffee', 'Plain'],\n",
       " ['Coffee', 'Plain'],\n",
       " ['Coffee', 'Plain'],\n",
       " ['Coffee', 'Plain'],\n",
       " ['Coffee', 'Plain'],\n",
       " ['Coffee', 'Plain'],\n",
       " ['Coffee', 'Plain'],\n",
       " ['Coffee', 'Plain'],\n",
       " ['Coffee', 'Plain'],\n",
       " ['Coffee', 'Plain'],\n",
       " ['Coffee', 'Plain'],\n",
       " ['Coffee', 'Plain'],\n",
       " ['Coffee', 'Plain'],\n",
       " ['Coffee', 'Plain'],\n",
       " ['Coffee', 'Plain'],\n",
       " ['Coffee', 'Plain'],\n",
       " ['Coffee', 'Plain'],\n",
       " ['Coffee', 'Plain'],\n",
       " ['Coffee', 'Plain'],\n",
       " ['Coffee', 'Plain'],\n",
       " ['Coffee', 'Plain'],\n",
       " ['Coffee', 'Plain'],\n",
       " ['Tea', 'Chocolate'],\n",
       " ['Tea', 'Chocolate'],\n",
       " ['Tea', 'Chocolate'],\n",
       " ['Tea', 'Chocolate'],\n",
       " ['Tea', 'Chocolate'],\n",
       " ['Tea', 'Chocolate'],\n",
       " ['Tea', 'Chocolate'],\n",
       " ['Tea', 'Chocolate'],\n",
       " ['Tea', 'Chocolate'],\n",
       " ['Tea', 'Chocolate'],\n",
       " ['Tea', 'Chocolate'],\n",
       " ['Tea', 'Chocolate'],\n",
       " ['Tea', 'Chocolate'],\n",
       " ['Tea', 'Chocolate'],\n",
       " ['Tea', 'Chocolate'],\n",
       " ['Tea', 'Chocolate'],\n",
       " ['Tea', 'Chocolate'],\n",
       " ['Tea', 'Chocolate'],\n",
       " ['Tea', 'Chocolate'],\n",
       " ['Tea', 'Chocolate'],\n",
       " ['Tea', 'Chocolate'],\n",
       " ['Tea', 'Chocolate'],\n",
       " ['Tea', 'Chocolate'],\n",
       " ['Tea', 'Chocolate'],\n",
       " ['Tea', 'Chocolate'],\n",
       " ['Tea', 'Chocolate'],\n",
       " ['Tea', 'Chocolate'],\n",
       " ['Tea', 'Chocolate'],\n",
       " ['Tea', 'Chocolate'],\n",
       " ['Tea', 'Chocolate'],\n",
       " ['Tea', 'Chocolate'],\n",
       " ['Tea', 'Chocolate'],\n",
       " ['Tea', 'Chocolate'],\n",
       " ['Tea', 'Chocolate'],\n",
       " ['Tea', 'Chocolate'],\n",
       " ['Tea', 'Chocolate'],\n",
       " ['Tea', 'Chocolate'],\n",
       " ['Tea', 'Chocolate'],\n",
       " ['Tea', 'Chocolate'],\n",
       " ['Tea', 'Chocolate'],\n",
       " ['Tea', 'Chocolate'],\n",
       " ['Tea', 'Chocolate'],\n",
       " ['Tea', 'Chocolate'],\n",
       " ['Tea', 'Chocolate'],\n",
       " ['Tea', 'Chocolate'],\n",
       " ['Tea', 'Chocolate'],\n",
       " ['Tea', 'Chocolate'],\n",
       " ['Tea', 'Chocolate'],\n",
       " ['Tea', 'Chocolate'],\n",
       " ['Tea', 'Chocolate'],\n",
       " ['Tea', 'Chocolate'],\n",
       " ['Tea', 'Chocolate'],\n",
       " ['Tea', 'Chocolate'],\n",
       " ['Tea', 'Chocolate'],\n",
       " ['Tea', 'Chocolate'],\n",
       " ['Tea', 'Chocolate'],\n",
       " ['Tea', 'Plain'],\n",
       " ['Tea', 'Plain'],\n",
       " ['Tea', 'Plain'],\n",
       " ['Tea', 'Plain'],\n",
       " ['Tea', 'Plain'],\n",
       " ['Tea', 'Plain'],\n",
       " ['Tea', 'Plain'],\n",
       " ['Tea', 'Plain'],\n",
       " ['Tea', 'Plain'],\n",
       " ['Tea', 'Plain'],\n",
       " ['Tea', 'Plain'],\n",
       " ['Tea', 'Plain'],\n",
       " ['Tea', 'Plain'],\n",
       " ['Tea', 'Plain'],\n",
       " ['Tea', 'Plain'],\n",
       " ['Tea', 'Plain'],\n",
       " ['Tea', 'Plain'],\n",
       " ['Tea', 'Plain'],\n",
       " ['Tea', 'Plain'],\n",
       " ['Tea', 'Plain'],\n",
       " ['Tea', 'Plain'],\n",
       " ['Tea', 'Plain'],\n",
       " ['Tea', 'Plain'],\n",
       " ['Tea', 'Plain'],\n",
       " ['Tea', 'Plain'],\n",
       " ['Tea', 'Plain'],\n",
       " ['Tea', 'Plain'],\n",
       " ['Tea', 'Plain'],\n",
       " ['Tea', 'Plain'],\n",
       " ['Tea', 'Plain'],\n",
       " ['Tea', 'Plain'],\n",
       " ['Tea', 'Plain'],\n",
       " ['Tea', 'Plain'],\n",
       " ['Tea', 'Plain'],\n",
       " ['Tea', 'Plain'],\n",
       " ['Tea', 'Plain'],\n",
       " ['Tea', 'Plain'],\n",
       " ['Tea', 'Plain'],\n",
       " ['Tea', 'Plain'],\n",
       " ['Tea', 'Plain'],\n",
       " ['Tea', 'Plain'],\n",
       " ['Tea', 'Plain'],\n",
       " ['Tea', 'Plain'],\n",
       " ['Tea', 'Plain'],\n",
       " ['Tea', 'Plain']]"
      ]
     },
     "execution_count": 10,
     "metadata": {},
     "output_type": "execute_result"
    }
   ],
   "source": [
    "## Raw Data, merge the 4 lists\n",
    "\n",
    "raw_data = coffee_choc + Coffee_plain + Tea_choc + Tea_plain\n",
    "\n",
    "## Show\n",
    "\n",
    "raw_data"
   ]
  },
  {
   "cell_type": "code",
   "execution_count": 11,
   "metadata": {
    "scrolled": true
   },
   "outputs": [
    {
     "data": {
      "text/plain": [
       "[['Tea', 'Plain'],\n",
       " ['Tea', 'Chocolate'],\n",
       " ['Coffee', 'Plain'],\n",
       " ['Tea', 'Plain'],\n",
       " ['Tea', 'Plain'],\n",
       " ['Coffee', 'Plain'],\n",
       " ['Coffee', 'Chocolate'],\n",
       " ['Tea', 'Chocolate'],\n",
       " ['Coffee', 'Plain'],\n",
       " ['Tea', 'Plain'],\n",
       " ['Coffee', 'Chocolate'],\n",
       " ['Tea', 'Plain'],\n",
       " ['Tea', 'Chocolate'],\n",
       " ['Coffee', 'Plain'],\n",
       " ['Tea', 'Chocolate'],\n",
       " ['Tea', 'Chocolate'],\n",
       " ['Tea', 'Plain'],\n",
       " ['Tea', 'Plain'],\n",
       " ['Coffee', 'Chocolate'],\n",
       " ['Tea', 'Plain'],\n",
       " ['Coffee', 'Chocolate'],\n",
       " ['Tea', 'Chocolate'],\n",
       " ['Coffee', 'Chocolate'],\n",
       " ['Tea', 'Plain'],\n",
       " ['Tea', 'Chocolate'],\n",
       " ['Tea', 'Chocolate'],\n",
       " ['Coffee', 'Plain'],\n",
       " ['Tea', 'Plain'],\n",
       " ['Tea', 'Chocolate'],\n",
       " ['Tea', 'Chocolate'],\n",
       " ['Tea', 'Plain'],\n",
       " ['Tea', 'Chocolate'],\n",
       " ['Coffee', 'Chocolate'],\n",
       " ['Tea', 'Plain'],\n",
       " ['Tea', 'Plain'],\n",
       " ['Coffee', 'Plain'],\n",
       " ['Tea', 'Chocolate'],\n",
       " ['Tea', 'Plain'],\n",
       " ['Tea', 'Chocolate'],\n",
       " ['Coffee', 'Chocolate'],\n",
       " ['Coffee', 'Chocolate'],\n",
       " ['Coffee', 'Chocolate'],\n",
       " ['Coffee', 'Plain'],\n",
       " ['Tea', 'Plain'],\n",
       " ['Coffee', 'Plain'],\n",
       " ['Tea', 'Chocolate'],\n",
       " ['Coffee', 'Plain'],\n",
       " ['Coffee', 'Plain'],\n",
       " ['Tea', 'Plain'],\n",
       " ['Coffee', 'Plain'],\n",
       " ['Tea', 'Plain'],\n",
       " ['Tea', 'Chocolate'],\n",
       " ['Tea', 'Chocolate'],\n",
       " ['Tea', 'Plain'],\n",
       " ['Tea', 'Chocolate'],\n",
       " ['Coffee', 'Plain'],\n",
       " ['Tea', 'Plain'],\n",
       " ['Tea', 'Plain'],\n",
       " ['Tea', 'Plain'],\n",
       " ['Tea', 'Chocolate'],\n",
       " ['Tea', 'Chocolate'],\n",
       " ['Tea', 'Chocolate'],\n",
       " ['Coffee', 'Chocolate'],\n",
       " ['Coffee', 'Plain'],\n",
       " ['Tea', 'Chocolate'],\n",
       " ['Coffee', 'Chocolate'],\n",
       " ['Coffee', 'Plain'],\n",
       " ['Tea', 'Chocolate'],\n",
       " ['Coffee', 'Plain'],\n",
       " ['Tea', 'Chocolate'],\n",
       " ['Tea', 'Chocolate'],\n",
       " ['Coffee', 'Chocolate'],\n",
       " ['Tea', 'Chocolate'],\n",
       " ['Coffee', 'Chocolate'],\n",
       " ['Tea', 'Chocolate'],\n",
       " ['Coffee', 'Chocolate'],\n",
       " ['Tea', 'Plain'],\n",
       " ['Tea', 'Chocolate'],\n",
       " ['Coffee', 'Plain'],\n",
       " ['Tea', 'Plain'],\n",
       " ['Tea', 'Chocolate'],\n",
       " ['Coffee', 'Chocolate'],\n",
       " ['Coffee', 'Plain'],\n",
       " ['Coffee', 'Chocolate'],\n",
       " ['Tea', 'Plain'],\n",
       " ['Coffee', 'Chocolate'],\n",
       " ['Tea', 'Chocolate'],\n",
       " ['Coffee', 'Chocolate'],\n",
       " ['Coffee', 'Chocolate'],\n",
       " ['Coffee', 'Plain'],\n",
       " ['Coffee', 'Plain'],\n",
       " ['Coffee', 'Plain'],\n",
       " ['Coffee', 'Plain'],\n",
       " ['Coffee', 'Plain'],\n",
       " ['Tea', 'Plain'],\n",
       " ['Coffee', 'Plain'],\n",
       " ['Tea', 'Plain'],\n",
       " ['Coffee', 'Plain'],\n",
       " ['Coffee', 'Plain'],\n",
       " ['Coffee', 'Plain'],\n",
       " ['Tea', 'Plain'],\n",
       " ['Tea', 'Plain'],\n",
       " ['Coffee', 'Chocolate'],\n",
       " ['Tea', 'Chocolate'],\n",
       " ['Coffee', 'Plain'],\n",
       " ['Tea', 'Chocolate'],\n",
       " ['Coffee', 'Plain'],\n",
       " ['Tea', 'Plain'],\n",
       " ['Coffee', 'Plain'],\n",
       " ['Tea', 'Plain'],\n",
       " ['Tea', 'Chocolate'],\n",
       " ['Coffee', 'Chocolate'],\n",
       " ['Tea', 'Plain'],\n",
       " ['Tea', 'Chocolate'],\n",
       " ['Tea', 'Chocolate'],\n",
       " ['Tea', 'Chocolate'],\n",
       " ['Coffee', 'Plain'],\n",
       " ['Tea', 'Chocolate'],\n",
       " ['Tea', 'Chocolate'],\n",
       " ['Coffee', 'Plain'],\n",
       " ['Coffee', 'Chocolate'],\n",
       " ['Tea', 'Plain'],\n",
       " ['Coffee', 'Chocolate'],\n",
       " ['Coffee', 'Chocolate'],\n",
       " ['Tea', 'Chocolate'],\n",
       " ['Tea', 'Chocolate'],\n",
       " ['Coffee', 'Plain'],\n",
       " ['Tea', 'Chocolate'],\n",
       " ['Tea', 'Plain'],\n",
       " ['Coffee', 'Plain'],\n",
       " ['Coffee', 'Plain'],\n",
       " ['Tea', 'Chocolate'],\n",
       " ['Tea', 'Plain'],\n",
       " ['Coffee', 'Plain'],\n",
       " ['Tea', 'Chocolate'],\n",
       " ['Coffee', 'Plain'],\n",
       " ['Tea', 'Plain'],\n",
       " ['Coffee', 'Chocolate'],\n",
       " ['Coffee', 'Chocolate'],\n",
       " ['Tea', 'Chocolate'],\n",
       " ['Coffee', 'Plain'],\n",
       " ['Coffee', 'Plain'],\n",
       " ['Coffee', 'Chocolate'],\n",
       " ['Tea', 'Chocolate'],\n",
       " ['Coffee', 'Chocolate'],\n",
       " ['Coffee', 'Chocolate'],\n",
       " ['Coffee', 'Plain'],\n",
       " ['Coffee', 'Plain'],\n",
       " ['Coffee', 'Chocolate'],\n",
       " ['Tea', 'Chocolate'],\n",
       " ['Coffee', 'Plain'],\n",
       " ['Coffee', 'Plain'],\n",
       " ['Coffee', 'Chocolate'],\n",
       " ['Tea', 'Chocolate'],\n",
       " ['Coffee', 'Chocolate'],\n",
       " ['Coffee', 'Chocolate'],\n",
       " ['Tea', 'Plain'],\n",
       " ['Tea', 'Plain'],\n",
       " ['Tea', 'Chocolate'],\n",
       " ['Coffee', 'Plain'],\n",
       " ['Coffee', 'Plain'],\n",
       " ['Coffee', 'Plain'],\n",
       " ['Tea', 'Chocolate'],\n",
       " ['Coffee', 'Chocolate'],\n",
       " ['Tea', 'Chocolate'],\n",
       " ['Coffee', 'Plain'],\n",
       " ['Coffee', 'Chocolate'],\n",
       " ['Tea', 'Plain'],\n",
       " ['Tea', 'Chocolate'],\n",
       " ['Coffee', 'Plain'],\n",
       " ['Coffee', 'Plain'],\n",
       " ['Coffee', 'Plain'],\n",
       " ['Tea', 'Chocolate'],\n",
       " ['Coffee', 'Plain'],\n",
       " ['Tea', 'Chocolate'],\n",
       " ['Tea', 'Chocolate'],\n",
       " ['Tea', 'Plain'],\n",
       " ['Tea', 'Plain'],\n",
       " ['Tea', 'Chocolate'],\n",
       " ['Coffee', 'Plain'],\n",
       " ['Coffee', 'Plain'],\n",
       " ['Tea', 'Plain'],\n",
       " ['Tea', 'Plain'],\n",
       " ['Coffee', 'Chocolate'],\n",
       " ['Tea', 'Plain'],\n",
       " ['Coffee', 'Chocolate'],\n",
       " ['Tea', 'Chocolate'],\n",
       " ['Coffee', 'Chocolate'],\n",
       " ['Coffee', 'Chocolate'],\n",
       " ['Tea', 'Chocolate'],\n",
       " ['Coffee', 'Chocolate'],\n",
       " ['Coffee', 'Plain'],\n",
       " ['Coffee', 'Plain'],\n",
       " ['Coffee', 'Plain'],\n",
       " ['Coffee', 'Chocolate'],\n",
       " ['Coffee', 'Plain'],\n",
       " ['Tea', 'Plain'],\n",
       " ['Tea', 'Plain'],\n",
       " ['Coffee', 'Chocolate'],\n",
       " ['Coffee', 'Chocolate'],\n",
       " ['Coffee', 'Plain']]"
      ]
     },
     "execution_count": 11,
     "metadata": {},
     "output_type": "execute_result"
    }
   ],
   "source": [
    "# Shuffle a list\n",
    "\n",
    "random.shuffle(raw_data)\n",
    "\n",
    "# Show.\n",
    "\n",
    "raw_data"
   ]
  },
  {
   "cell_type": "markdown",
   "metadata": {},
   "source": [
    "drink, biscuit = list(zip(*raw_data))\n",
    "\n",
    "#show\n",
    "drink"
   ]
  },
  {
   "cell_type": "code",
   "execution_count": 12,
   "metadata": {
    "scrolled": true
   },
   "outputs": [
    {
     "data": {
      "text/plain": [
       "[('Tea',\n",
       "  'Tea',\n",
       "  'Coffee',\n",
       "  'Tea',\n",
       "  'Tea',\n",
       "  'Coffee',\n",
       "  'Coffee',\n",
       "  'Tea',\n",
       "  'Coffee',\n",
       "  'Tea',\n",
       "  'Coffee',\n",
       "  'Tea',\n",
       "  'Tea',\n",
       "  'Coffee',\n",
       "  'Tea',\n",
       "  'Tea',\n",
       "  'Tea',\n",
       "  'Tea',\n",
       "  'Coffee',\n",
       "  'Tea',\n",
       "  'Coffee',\n",
       "  'Tea',\n",
       "  'Coffee',\n",
       "  'Tea',\n",
       "  'Tea',\n",
       "  'Tea',\n",
       "  'Coffee',\n",
       "  'Tea',\n",
       "  'Tea',\n",
       "  'Tea',\n",
       "  'Tea',\n",
       "  'Tea',\n",
       "  'Coffee',\n",
       "  'Tea',\n",
       "  'Tea',\n",
       "  'Coffee',\n",
       "  'Tea',\n",
       "  'Tea',\n",
       "  'Tea',\n",
       "  'Coffee',\n",
       "  'Coffee',\n",
       "  'Coffee',\n",
       "  'Coffee',\n",
       "  'Tea',\n",
       "  'Coffee',\n",
       "  'Tea',\n",
       "  'Coffee',\n",
       "  'Coffee',\n",
       "  'Tea',\n",
       "  'Coffee',\n",
       "  'Tea',\n",
       "  'Tea',\n",
       "  'Tea',\n",
       "  'Tea',\n",
       "  'Tea',\n",
       "  'Coffee',\n",
       "  'Tea',\n",
       "  'Tea',\n",
       "  'Tea',\n",
       "  'Tea',\n",
       "  'Tea',\n",
       "  'Tea',\n",
       "  'Coffee',\n",
       "  'Coffee',\n",
       "  'Tea',\n",
       "  'Coffee',\n",
       "  'Coffee',\n",
       "  'Tea',\n",
       "  'Coffee',\n",
       "  'Tea',\n",
       "  'Tea',\n",
       "  'Coffee',\n",
       "  'Tea',\n",
       "  'Coffee',\n",
       "  'Tea',\n",
       "  'Coffee',\n",
       "  'Tea',\n",
       "  'Tea',\n",
       "  'Coffee',\n",
       "  'Tea',\n",
       "  'Tea',\n",
       "  'Coffee',\n",
       "  'Coffee',\n",
       "  'Coffee',\n",
       "  'Tea',\n",
       "  'Coffee',\n",
       "  'Tea',\n",
       "  'Coffee',\n",
       "  'Coffee',\n",
       "  'Coffee',\n",
       "  'Coffee',\n",
       "  'Coffee',\n",
       "  'Coffee',\n",
       "  'Coffee',\n",
       "  'Tea',\n",
       "  'Coffee',\n",
       "  'Tea',\n",
       "  'Coffee',\n",
       "  'Coffee',\n",
       "  'Coffee',\n",
       "  'Tea',\n",
       "  'Tea',\n",
       "  'Coffee',\n",
       "  'Tea',\n",
       "  'Coffee',\n",
       "  'Tea',\n",
       "  'Coffee',\n",
       "  'Tea',\n",
       "  'Coffee',\n",
       "  'Tea',\n",
       "  'Tea',\n",
       "  'Coffee',\n",
       "  'Tea',\n",
       "  'Tea',\n",
       "  'Tea',\n",
       "  'Tea',\n",
       "  'Coffee',\n",
       "  'Tea',\n",
       "  'Tea',\n",
       "  'Coffee',\n",
       "  'Coffee',\n",
       "  'Tea',\n",
       "  'Coffee',\n",
       "  'Coffee',\n",
       "  'Tea',\n",
       "  'Tea',\n",
       "  'Coffee',\n",
       "  'Tea',\n",
       "  'Tea',\n",
       "  'Coffee',\n",
       "  'Coffee',\n",
       "  'Tea',\n",
       "  'Tea',\n",
       "  'Coffee',\n",
       "  'Tea',\n",
       "  'Coffee',\n",
       "  'Tea',\n",
       "  'Coffee',\n",
       "  'Coffee',\n",
       "  'Tea',\n",
       "  'Coffee',\n",
       "  'Coffee',\n",
       "  'Coffee',\n",
       "  'Tea',\n",
       "  'Coffee',\n",
       "  'Coffee',\n",
       "  'Coffee',\n",
       "  'Coffee',\n",
       "  'Coffee',\n",
       "  'Tea',\n",
       "  'Coffee',\n",
       "  'Coffee',\n",
       "  'Coffee',\n",
       "  'Tea',\n",
       "  'Coffee',\n",
       "  'Coffee',\n",
       "  'Tea',\n",
       "  'Tea',\n",
       "  'Tea',\n",
       "  'Coffee',\n",
       "  'Coffee',\n",
       "  'Coffee',\n",
       "  'Tea',\n",
       "  'Coffee',\n",
       "  'Tea',\n",
       "  'Coffee',\n",
       "  'Coffee',\n",
       "  'Tea',\n",
       "  'Tea',\n",
       "  'Coffee',\n",
       "  'Coffee',\n",
       "  'Coffee',\n",
       "  'Tea',\n",
       "  'Coffee',\n",
       "  'Tea',\n",
       "  'Tea',\n",
       "  'Tea',\n",
       "  'Tea',\n",
       "  'Tea',\n",
       "  'Coffee',\n",
       "  'Coffee',\n",
       "  'Tea',\n",
       "  'Tea',\n",
       "  'Coffee',\n",
       "  'Tea',\n",
       "  'Coffee',\n",
       "  'Tea',\n",
       "  'Coffee',\n",
       "  'Coffee',\n",
       "  'Tea',\n",
       "  'Coffee',\n",
       "  'Coffee',\n",
       "  'Coffee',\n",
       "  'Coffee',\n",
       "  'Coffee',\n",
       "  'Coffee',\n",
       "  'Tea',\n",
       "  'Tea',\n",
       "  'Coffee',\n",
       "  'Coffee',\n",
       "  'Coffee'),\n",
       " ('Plain',\n",
       "  'Chocolate',\n",
       "  'Plain',\n",
       "  'Plain',\n",
       "  'Plain',\n",
       "  'Plain',\n",
       "  'Chocolate',\n",
       "  'Chocolate',\n",
       "  'Plain',\n",
       "  'Plain',\n",
       "  'Chocolate',\n",
       "  'Plain',\n",
       "  'Chocolate',\n",
       "  'Plain',\n",
       "  'Chocolate',\n",
       "  'Chocolate',\n",
       "  'Plain',\n",
       "  'Plain',\n",
       "  'Chocolate',\n",
       "  'Plain',\n",
       "  'Chocolate',\n",
       "  'Chocolate',\n",
       "  'Chocolate',\n",
       "  'Plain',\n",
       "  'Chocolate',\n",
       "  'Chocolate',\n",
       "  'Plain',\n",
       "  'Plain',\n",
       "  'Chocolate',\n",
       "  'Chocolate',\n",
       "  'Plain',\n",
       "  'Chocolate',\n",
       "  'Chocolate',\n",
       "  'Plain',\n",
       "  'Plain',\n",
       "  'Plain',\n",
       "  'Chocolate',\n",
       "  'Plain',\n",
       "  'Chocolate',\n",
       "  'Chocolate',\n",
       "  'Chocolate',\n",
       "  'Chocolate',\n",
       "  'Plain',\n",
       "  'Plain',\n",
       "  'Plain',\n",
       "  'Chocolate',\n",
       "  'Plain',\n",
       "  'Plain',\n",
       "  'Plain',\n",
       "  'Plain',\n",
       "  'Plain',\n",
       "  'Chocolate',\n",
       "  'Chocolate',\n",
       "  'Plain',\n",
       "  'Chocolate',\n",
       "  'Plain',\n",
       "  'Plain',\n",
       "  'Plain',\n",
       "  'Plain',\n",
       "  'Chocolate',\n",
       "  'Chocolate',\n",
       "  'Chocolate',\n",
       "  'Chocolate',\n",
       "  'Plain',\n",
       "  'Chocolate',\n",
       "  'Chocolate',\n",
       "  'Plain',\n",
       "  'Chocolate',\n",
       "  'Plain',\n",
       "  'Chocolate',\n",
       "  'Chocolate',\n",
       "  'Chocolate',\n",
       "  'Chocolate',\n",
       "  'Chocolate',\n",
       "  'Chocolate',\n",
       "  'Chocolate',\n",
       "  'Plain',\n",
       "  'Chocolate',\n",
       "  'Plain',\n",
       "  'Plain',\n",
       "  'Chocolate',\n",
       "  'Chocolate',\n",
       "  'Plain',\n",
       "  'Chocolate',\n",
       "  'Plain',\n",
       "  'Chocolate',\n",
       "  'Chocolate',\n",
       "  'Chocolate',\n",
       "  'Chocolate',\n",
       "  'Plain',\n",
       "  'Plain',\n",
       "  'Plain',\n",
       "  'Plain',\n",
       "  'Plain',\n",
       "  'Plain',\n",
       "  'Plain',\n",
       "  'Plain',\n",
       "  'Plain',\n",
       "  'Plain',\n",
       "  'Plain',\n",
       "  'Plain',\n",
       "  'Plain',\n",
       "  'Chocolate',\n",
       "  'Chocolate',\n",
       "  'Plain',\n",
       "  'Chocolate',\n",
       "  'Plain',\n",
       "  'Plain',\n",
       "  'Plain',\n",
       "  'Plain',\n",
       "  'Chocolate',\n",
       "  'Chocolate',\n",
       "  'Plain',\n",
       "  'Chocolate',\n",
       "  'Chocolate',\n",
       "  'Chocolate',\n",
       "  'Plain',\n",
       "  'Chocolate',\n",
       "  'Chocolate',\n",
       "  'Plain',\n",
       "  'Chocolate',\n",
       "  'Plain',\n",
       "  'Chocolate',\n",
       "  'Chocolate',\n",
       "  'Chocolate',\n",
       "  'Chocolate',\n",
       "  'Plain',\n",
       "  'Chocolate',\n",
       "  'Plain',\n",
       "  'Plain',\n",
       "  'Plain',\n",
       "  'Chocolate',\n",
       "  'Plain',\n",
       "  'Plain',\n",
       "  'Chocolate',\n",
       "  'Plain',\n",
       "  'Plain',\n",
       "  'Chocolate',\n",
       "  'Chocolate',\n",
       "  'Chocolate',\n",
       "  'Plain',\n",
       "  'Plain',\n",
       "  'Chocolate',\n",
       "  'Chocolate',\n",
       "  'Chocolate',\n",
       "  'Chocolate',\n",
       "  'Plain',\n",
       "  'Plain',\n",
       "  'Chocolate',\n",
       "  'Chocolate',\n",
       "  'Plain',\n",
       "  'Plain',\n",
       "  'Chocolate',\n",
       "  'Chocolate',\n",
       "  'Chocolate',\n",
       "  'Chocolate',\n",
       "  'Plain',\n",
       "  'Plain',\n",
       "  'Chocolate',\n",
       "  'Plain',\n",
       "  'Plain',\n",
       "  'Plain',\n",
       "  'Chocolate',\n",
       "  'Chocolate',\n",
       "  'Chocolate',\n",
       "  'Plain',\n",
       "  'Chocolate',\n",
       "  'Plain',\n",
       "  'Chocolate',\n",
       "  'Plain',\n",
       "  'Plain',\n",
       "  'Plain',\n",
       "  'Chocolate',\n",
       "  'Plain',\n",
       "  'Chocolate',\n",
       "  'Chocolate',\n",
       "  'Plain',\n",
       "  'Plain',\n",
       "  'Chocolate',\n",
       "  'Plain',\n",
       "  'Plain',\n",
       "  'Plain',\n",
       "  'Plain',\n",
       "  'Chocolate',\n",
       "  'Plain',\n",
       "  'Chocolate',\n",
       "  'Chocolate',\n",
       "  'Chocolate',\n",
       "  'Chocolate',\n",
       "  'Chocolate',\n",
       "  'Chocolate',\n",
       "  'Plain',\n",
       "  'Plain',\n",
       "  'Plain',\n",
       "  'Chocolate',\n",
       "  'Plain',\n",
       "  'Plain',\n",
       "  'Plain',\n",
       "  'Chocolate',\n",
       "  'Chocolate',\n",
       "  'Plain')]"
      ]
     },
     "execution_count": 12,
     "metadata": {},
     "output_type": "execute_result"
    }
   ],
   "source": [
    "# zip the list - make the rows columns and the columns rows\n",
    "# Interchanges the outer and inner lists\n",
    "list(zip(*raw_data))\n"
   ]
  },
  {
   "cell_type": "code",
   "execution_count": 13,
   "metadata": {
    "scrolled": true
   },
   "outputs": [
    {
     "data": {
      "text/plain": [
       "(('Tea',\n",
       "  'Tea',\n",
       "  'Coffee',\n",
       "  'Tea',\n",
       "  'Tea',\n",
       "  'Coffee',\n",
       "  'Coffee',\n",
       "  'Tea',\n",
       "  'Coffee',\n",
       "  'Tea',\n",
       "  'Coffee',\n",
       "  'Tea',\n",
       "  'Tea',\n",
       "  'Coffee',\n",
       "  'Tea',\n",
       "  'Tea',\n",
       "  'Tea',\n",
       "  'Tea',\n",
       "  'Coffee',\n",
       "  'Tea',\n",
       "  'Coffee',\n",
       "  'Tea',\n",
       "  'Coffee',\n",
       "  'Tea',\n",
       "  'Tea',\n",
       "  'Tea',\n",
       "  'Coffee',\n",
       "  'Tea',\n",
       "  'Tea',\n",
       "  'Tea',\n",
       "  'Tea',\n",
       "  'Tea',\n",
       "  'Coffee',\n",
       "  'Tea',\n",
       "  'Tea',\n",
       "  'Coffee',\n",
       "  'Tea',\n",
       "  'Tea',\n",
       "  'Tea',\n",
       "  'Coffee',\n",
       "  'Coffee',\n",
       "  'Coffee',\n",
       "  'Coffee',\n",
       "  'Tea',\n",
       "  'Coffee',\n",
       "  'Tea',\n",
       "  'Coffee',\n",
       "  'Coffee',\n",
       "  'Tea',\n",
       "  'Coffee',\n",
       "  'Tea',\n",
       "  'Tea',\n",
       "  'Tea',\n",
       "  'Tea',\n",
       "  'Tea',\n",
       "  'Coffee',\n",
       "  'Tea',\n",
       "  'Tea',\n",
       "  'Tea',\n",
       "  'Tea',\n",
       "  'Tea',\n",
       "  'Tea',\n",
       "  'Coffee',\n",
       "  'Coffee',\n",
       "  'Tea',\n",
       "  'Coffee',\n",
       "  'Coffee',\n",
       "  'Tea',\n",
       "  'Coffee',\n",
       "  'Tea',\n",
       "  'Tea',\n",
       "  'Coffee',\n",
       "  'Tea',\n",
       "  'Coffee',\n",
       "  'Tea',\n",
       "  'Coffee',\n",
       "  'Tea',\n",
       "  'Tea',\n",
       "  'Coffee',\n",
       "  'Tea',\n",
       "  'Tea',\n",
       "  'Coffee',\n",
       "  'Coffee',\n",
       "  'Coffee',\n",
       "  'Tea',\n",
       "  'Coffee',\n",
       "  'Tea',\n",
       "  'Coffee',\n",
       "  'Coffee',\n",
       "  'Coffee',\n",
       "  'Coffee',\n",
       "  'Coffee',\n",
       "  'Coffee',\n",
       "  'Coffee',\n",
       "  'Tea',\n",
       "  'Coffee',\n",
       "  'Tea',\n",
       "  'Coffee',\n",
       "  'Coffee',\n",
       "  'Coffee',\n",
       "  'Tea',\n",
       "  'Tea',\n",
       "  'Coffee',\n",
       "  'Tea',\n",
       "  'Coffee',\n",
       "  'Tea',\n",
       "  'Coffee',\n",
       "  'Tea',\n",
       "  'Coffee',\n",
       "  'Tea',\n",
       "  'Tea',\n",
       "  'Coffee',\n",
       "  'Tea',\n",
       "  'Tea',\n",
       "  'Tea',\n",
       "  'Tea',\n",
       "  'Coffee',\n",
       "  'Tea',\n",
       "  'Tea',\n",
       "  'Coffee',\n",
       "  'Coffee',\n",
       "  'Tea',\n",
       "  'Coffee',\n",
       "  'Coffee',\n",
       "  'Tea',\n",
       "  'Tea',\n",
       "  'Coffee',\n",
       "  'Tea',\n",
       "  'Tea',\n",
       "  'Coffee',\n",
       "  'Coffee',\n",
       "  'Tea',\n",
       "  'Tea',\n",
       "  'Coffee',\n",
       "  'Tea',\n",
       "  'Coffee',\n",
       "  'Tea',\n",
       "  'Coffee',\n",
       "  'Coffee',\n",
       "  'Tea',\n",
       "  'Coffee',\n",
       "  'Coffee',\n",
       "  'Coffee',\n",
       "  'Tea',\n",
       "  'Coffee',\n",
       "  'Coffee',\n",
       "  'Coffee',\n",
       "  'Coffee',\n",
       "  'Coffee',\n",
       "  'Tea',\n",
       "  'Coffee',\n",
       "  'Coffee',\n",
       "  'Coffee',\n",
       "  'Tea',\n",
       "  'Coffee',\n",
       "  'Coffee',\n",
       "  'Tea',\n",
       "  'Tea',\n",
       "  'Tea',\n",
       "  'Coffee',\n",
       "  'Coffee',\n",
       "  'Coffee',\n",
       "  'Tea',\n",
       "  'Coffee',\n",
       "  'Tea',\n",
       "  'Coffee',\n",
       "  'Coffee',\n",
       "  'Tea',\n",
       "  'Tea',\n",
       "  'Coffee',\n",
       "  'Coffee',\n",
       "  'Coffee',\n",
       "  'Tea',\n",
       "  'Coffee',\n",
       "  'Tea',\n",
       "  'Tea',\n",
       "  'Tea',\n",
       "  'Tea',\n",
       "  'Tea',\n",
       "  'Coffee',\n",
       "  'Coffee',\n",
       "  'Tea',\n",
       "  'Tea',\n",
       "  'Coffee',\n",
       "  'Tea',\n",
       "  'Coffee',\n",
       "  'Tea',\n",
       "  'Coffee',\n",
       "  'Coffee',\n",
       "  'Tea',\n",
       "  'Coffee',\n",
       "  'Coffee',\n",
       "  'Coffee',\n",
       "  'Coffee',\n",
       "  'Coffee',\n",
       "  'Coffee',\n",
       "  'Tea',\n",
       "  'Tea',\n",
       "  'Coffee',\n",
       "  'Coffee',\n",
       "  'Coffee'),\n",
       " ('Plain',\n",
       "  'Chocolate',\n",
       "  'Plain',\n",
       "  'Plain',\n",
       "  'Plain',\n",
       "  'Plain',\n",
       "  'Chocolate',\n",
       "  'Chocolate',\n",
       "  'Plain',\n",
       "  'Plain',\n",
       "  'Chocolate',\n",
       "  'Plain',\n",
       "  'Chocolate',\n",
       "  'Plain',\n",
       "  'Chocolate',\n",
       "  'Chocolate',\n",
       "  'Plain',\n",
       "  'Plain',\n",
       "  'Chocolate',\n",
       "  'Plain',\n",
       "  'Chocolate',\n",
       "  'Chocolate',\n",
       "  'Chocolate',\n",
       "  'Plain',\n",
       "  'Chocolate',\n",
       "  'Chocolate',\n",
       "  'Plain',\n",
       "  'Plain',\n",
       "  'Chocolate',\n",
       "  'Chocolate',\n",
       "  'Plain',\n",
       "  'Chocolate',\n",
       "  'Chocolate',\n",
       "  'Plain',\n",
       "  'Plain',\n",
       "  'Plain',\n",
       "  'Chocolate',\n",
       "  'Plain',\n",
       "  'Chocolate',\n",
       "  'Chocolate',\n",
       "  'Chocolate',\n",
       "  'Chocolate',\n",
       "  'Plain',\n",
       "  'Plain',\n",
       "  'Plain',\n",
       "  'Chocolate',\n",
       "  'Plain',\n",
       "  'Plain',\n",
       "  'Plain',\n",
       "  'Plain',\n",
       "  'Plain',\n",
       "  'Chocolate',\n",
       "  'Chocolate',\n",
       "  'Plain',\n",
       "  'Chocolate',\n",
       "  'Plain',\n",
       "  'Plain',\n",
       "  'Plain',\n",
       "  'Plain',\n",
       "  'Chocolate',\n",
       "  'Chocolate',\n",
       "  'Chocolate',\n",
       "  'Chocolate',\n",
       "  'Plain',\n",
       "  'Chocolate',\n",
       "  'Chocolate',\n",
       "  'Plain',\n",
       "  'Chocolate',\n",
       "  'Plain',\n",
       "  'Chocolate',\n",
       "  'Chocolate',\n",
       "  'Chocolate',\n",
       "  'Chocolate',\n",
       "  'Chocolate',\n",
       "  'Chocolate',\n",
       "  'Chocolate',\n",
       "  'Plain',\n",
       "  'Chocolate',\n",
       "  'Plain',\n",
       "  'Plain',\n",
       "  'Chocolate',\n",
       "  'Chocolate',\n",
       "  'Plain',\n",
       "  'Chocolate',\n",
       "  'Plain',\n",
       "  'Chocolate',\n",
       "  'Chocolate',\n",
       "  'Chocolate',\n",
       "  'Chocolate',\n",
       "  'Plain',\n",
       "  'Plain',\n",
       "  'Plain',\n",
       "  'Plain',\n",
       "  'Plain',\n",
       "  'Plain',\n",
       "  'Plain',\n",
       "  'Plain',\n",
       "  'Plain',\n",
       "  'Plain',\n",
       "  'Plain',\n",
       "  'Plain',\n",
       "  'Plain',\n",
       "  'Chocolate',\n",
       "  'Chocolate',\n",
       "  'Plain',\n",
       "  'Chocolate',\n",
       "  'Plain',\n",
       "  'Plain',\n",
       "  'Plain',\n",
       "  'Plain',\n",
       "  'Chocolate',\n",
       "  'Chocolate',\n",
       "  'Plain',\n",
       "  'Chocolate',\n",
       "  'Chocolate',\n",
       "  'Chocolate',\n",
       "  'Plain',\n",
       "  'Chocolate',\n",
       "  'Chocolate',\n",
       "  'Plain',\n",
       "  'Chocolate',\n",
       "  'Plain',\n",
       "  'Chocolate',\n",
       "  'Chocolate',\n",
       "  'Chocolate',\n",
       "  'Chocolate',\n",
       "  'Plain',\n",
       "  'Chocolate',\n",
       "  'Plain',\n",
       "  'Plain',\n",
       "  'Plain',\n",
       "  'Chocolate',\n",
       "  'Plain',\n",
       "  'Plain',\n",
       "  'Chocolate',\n",
       "  'Plain',\n",
       "  'Plain',\n",
       "  'Chocolate',\n",
       "  'Chocolate',\n",
       "  'Chocolate',\n",
       "  'Plain',\n",
       "  'Plain',\n",
       "  'Chocolate',\n",
       "  'Chocolate',\n",
       "  'Chocolate',\n",
       "  'Chocolate',\n",
       "  'Plain',\n",
       "  'Plain',\n",
       "  'Chocolate',\n",
       "  'Chocolate',\n",
       "  'Plain',\n",
       "  'Plain',\n",
       "  'Chocolate',\n",
       "  'Chocolate',\n",
       "  'Chocolate',\n",
       "  'Chocolate',\n",
       "  'Plain',\n",
       "  'Plain',\n",
       "  'Chocolate',\n",
       "  'Plain',\n",
       "  'Plain',\n",
       "  'Plain',\n",
       "  'Chocolate',\n",
       "  'Chocolate',\n",
       "  'Chocolate',\n",
       "  'Plain',\n",
       "  'Chocolate',\n",
       "  'Plain',\n",
       "  'Chocolate',\n",
       "  'Plain',\n",
       "  'Plain',\n",
       "  'Plain',\n",
       "  'Chocolate',\n",
       "  'Plain',\n",
       "  'Chocolate',\n",
       "  'Chocolate',\n",
       "  'Plain',\n",
       "  'Plain',\n",
       "  'Chocolate',\n",
       "  'Plain',\n",
       "  'Plain',\n",
       "  'Plain',\n",
       "  'Plain',\n",
       "  'Chocolate',\n",
       "  'Plain',\n",
       "  'Chocolate',\n",
       "  'Chocolate',\n",
       "  'Chocolate',\n",
       "  'Chocolate',\n",
       "  'Chocolate',\n",
       "  'Chocolate',\n",
       "  'Plain',\n",
       "  'Plain',\n",
       "  'Plain',\n",
       "  'Chocolate',\n",
       "  'Plain',\n",
       "  'Plain',\n",
       "  'Plain',\n",
       "  'Chocolate',\n",
       "  'Chocolate',\n",
       "  'Plain'))"
      ]
     },
     "execution_count": 13,
     "metadata": {},
     "output_type": "execute_result"
    }
   ],
   "source": [
    "drink, biscuit = list(zip(*raw_data))\n",
    "#show\n",
    "drink, biscuit"
   ]
  },
  {
   "cell_type": "code",
   "execution_count": 14,
   "metadata": {
    "scrolled": true
   },
   "outputs": [
    {
     "data": {
      "text/html": [
       "<div>\n",
       "<style scoped>\n",
       "    .dataframe tbody tr th:only-of-type {\n",
       "        vertical-align: middle;\n",
       "    }\n",
       "\n",
       "    .dataframe tbody tr th {\n",
       "        vertical-align: top;\n",
       "    }\n",
       "\n",
       "    .dataframe thead th {\n",
       "        text-align: right;\n",
       "    }\n",
       "</style>\n",
       "<table border=\"1\" class=\"dataframe\">\n",
       "  <thead>\n",
       "    <tr style=\"text-align: right;\">\n",
       "      <th></th>\n",
       "      <th>Drink</th>\n",
       "      <th>Biscuit</th>\n",
       "    </tr>\n",
       "  </thead>\n",
       "  <tbody>\n",
       "    <tr>\n",
       "      <th>0</th>\n",
       "      <td>Tea</td>\n",
       "      <td>Plain</td>\n",
       "    </tr>\n",
       "    <tr>\n",
       "      <th>1</th>\n",
       "      <td>Tea</td>\n",
       "      <td>Chocolate</td>\n",
       "    </tr>\n",
       "    <tr>\n",
       "      <th>2</th>\n",
       "      <td>Coffee</td>\n",
       "      <td>Plain</td>\n",
       "    </tr>\n",
       "    <tr>\n",
       "      <th>3</th>\n",
       "      <td>Tea</td>\n",
       "      <td>Plain</td>\n",
       "    </tr>\n",
       "    <tr>\n",
       "      <th>4</th>\n",
       "      <td>Tea</td>\n",
       "      <td>Plain</td>\n",
       "    </tr>\n",
       "    <tr>\n",
       "      <th>...</th>\n",
       "      <td>...</td>\n",
       "      <td>...</td>\n",
       "    </tr>\n",
       "    <tr>\n",
       "      <th>196</th>\n",
       "      <td>Tea</td>\n",
       "      <td>Plain</td>\n",
       "    </tr>\n",
       "    <tr>\n",
       "      <th>197</th>\n",
       "      <td>Tea</td>\n",
       "      <td>Plain</td>\n",
       "    </tr>\n",
       "    <tr>\n",
       "      <th>198</th>\n",
       "      <td>Coffee</td>\n",
       "      <td>Chocolate</td>\n",
       "    </tr>\n",
       "    <tr>\n",
       "      <th>199</th>\n",
       "      <td>Coffee</td>\n",
       "      <td>Chocolate</td>\n",
       "    </tr>\n",
       "    <tr>\n",
       "      <th>200</th>\n",
       "      <td>Coffee</td>\n",
       "      <td>Plain</td>\n",
       "    </tr>\n",
       "  </tbody>\n",
       "</table>\n",
       "<p>201 rows × 2 columns</p>\n",
       "</div>"
      ],
      "text/plain": [
       "      Drink    Biscuit\n",
       "0       Tea      Plain\n",
       "1       Tea  Chocolate\n",
       "2    Coffee      Plain\n",
       "3       Tea      Plain\n",
       "4       Tea      Plain\n",
       "..      ...        ...\n",
       "196     Tea      Plain\n",
       "197     Tea      Plain\n",
       "198  Coffee  Chocolate\n",
       "199  Coffee  Chocolate\n",
       "200  Coffee      Plain\n",
       "\n",
       "[201 rows x 2 columns]"
      ]
     },
     "execution_count": 14,
     "metadata": {},
     "output_type": "execute_result"
    }
   ],
   "source": [
    "# Create a Data Frame\n",
    "# Table indexed with column 'Drink' and 'Biscuit'\n",
    "df = pd.DataFrame({'Drink': drink, 'Biscuit': biscuit}) \n",
    "# Show\n",
    "df"
   ]
  },
  {
   "cell_type": "raw",
   "metadata": {},
   "source": [
    "## Contingency Tables\n",
    "\n",
    "Contingency Tables or Crosstabs contingency demonstrate the frequency distribution of the data and the relationship between the two categorical variables. In essence, it is a count of instances for two or more category variables.[4] \n",
    "\n",
    "***"
   ]
  },
  {
   "cell_type": "code",
   "execution_count": 15,
   "metadata": {},
   "outputs": [
    {
     "data": {
      "text/plain": [
       "CrosstabResult(elements=(array(['Coffee', 'Tea'], dtype='<U6'), array(['Chocolate', 'Plain'], dtype='<U9')), count=array([[43, 57],\n",
       "       [56, 45]]))"
      ]
     },
     "execution_count": 15,
     "metadata": {},
     "output_type": "execute_result"
    }
   ],
   "source": [
    "# Perform Crosstabs Contingency \n",
    "\n",
    "cross = ss.crosstab(drink, biscuit)\n",
    "\n",
    "# Show\n",
    "\n",
    "cross\n"
   ]
  },
  {
   "cell_type": "code",
   "execution_count": 16,
   "metadata": {},
   "outputs": [
    {
     "data": {
      "text/plain": [
       "(array(['Coffee', 'Tea'], dtype='<U6'),\n",
       " array(['Chocolate', 'Plain'], dtype='<U9'))"
      ]
     },
     "execution_count": 16,
     "metadata": {},
     "output_type": "execute_result"
    }
   ],
   "source": [
    "# The first variable values and the second\n",
    "\n",
    "first, second = cross.elements\n",
    "\n",
    "# Show\n",
    "\n",
    "first, second"
   ]
  },
  {
   "cell_type": "code",
   "execution_count": 17,
   "metadata": {},
   "outputs": [
    {
     "data": {
      "text/plain": [
       "array([[43, 57],\n",
       "       [56, 45]])"
      ]
     },
     "execution_count": 17,
     "metadata": {},
     "output_type": "execute_result"
    }
   ],
   "source": [
    "# The Counts for each category - The first outer array is coffee (43, 57) and the second outer array is tea (56, 45) \n",
    "# The first value of the inner array is chocolate and the second value of the inner array is plain\n",
    "\n",
    "cross.count"
   ]
  },
  {
   "cell_type": "code",
   "execution_count": 18,
   "metadata": {
    "scrolled": true
   },
   "outputs": [
    {
     "data": {
      "text/html": [
       "<div>\n",
       "<style scoped>\n",
       "    .dataframe tbody tr th:only-of-type {\n",
       "        vertical-align: middle;\n",
       "    }\n",
       "\n",
       "    .dataframe tbody tr th {\n",
       "        vertical-align: top;\n",
       "    }\n",
       "\n",
       "    .dataframe thead th {\n",
       "        text-align: right;\n",
       "    }\n",
       "</style>\n",
       "<table border=\"1\" class=\"dataframe\">\n",
       "  <thead>\n",
       "    <tr style=\"text-align: right;\">\n",
       "      <th></th>\n",
       "      <th>Drink</th>\n",
       "      <th>Biscuit</th>\n",
       "    </tr>\n",
       "  </thead>\n",
       "  <tbody>\n",
       "    <tr>\n",
       "      <th>2</th>\n",
       "      <td>Coffee</td>\n",
       "      <td>Plain</td>\n",
       "    </tr>\n",
       "    <tr>\n",
       "      <th>5</th>\n",
       "      <td>Coffee</td>\n",
       "      <td>Plain</td>\n",
       "    </tr>\n",
       "    <tr>\n",
       "      <th>6</th>\n",
       "      <td>Coffee</td>\n",
       "      <td>Chocolate</td>\n",
       "    </tr>\n",
       "    <tr>\n",
       "      <th>8</th>\n",
       "      <td>Coffee</td>\n",
       "      <td>Plain</td>\n",
       "    </tr>\n",
       "    <tr>\n",
       "      <th>10</th>\n",
       "      <td>Coffee</td>\n",
       "      <td>Chocolate</td>\n",
       "    </tr>\n",
       "    <tr>\n",
       "      <th>...</th>\n",
       "      <td>...</td>\n",
       "      <td>...</td>\n",
       "    </tr>\n",
       "    <tr>\n",
       "      <th>194</th>\n",
       "      <td>Coffee</td>\n",
       "      <td>Chocolate</td>\n",
       "    </tr>\n",
       "    <tr>\n",
       "      <th>195</th>\n",
       "      <td>Coffee</td>\n",
       "      <td>Plain</td>\n",
       "    </tr>\n",
       "    <tr>\n",
       "      <th>198</th>\n",
       "      <td>Coffee</td>\n",
       "      <td>Chocolate</td>\n",
       "    </tr>\n",
       "    <tr>\n",
       "      <th>199</th>\n",
       "      <td>Coffee</td>\n",
       "      <td>Chocolate</td>\n",
       "    </tr>\n",
       "    <tr>\n",
       "      <th>200</th>\n",
       "      <td>Coffee</td>\n",
       "      <td>Plain</td>\n",
       "    </tr>\n",
       "  </tbody>\n",
       "</table>\n",
       "<p>100 rows × 2 columns</p>\n",
       "</div>"
      ],
      "text/plain": [
       "      Drink    Biscuit\n",
       "2    Coffee      Plain\n",
       "5    Coffee      Plain\n",
       "6    Coffee  Chocolate\n",
       "8    Coffee      Plain\n",
       "10   Coffee  Chocolate\n",
       "..      ...        ...\n",
       "194  Coffee  Chocolate\n",
       "195  Coffee      Plain\n",
       "198  Coffee  Chocolate\n",
       "199  Coffee  Chocolate\n",
       "200  Coffee      Plain\n",
       "\n",
       "[100 rows x 2 columns]"
      ]
     },
     "execution_count": 18,
     "metadata": {},
     "output_type": "execute_result"
    }
   ],
   "source": [
    "# Find all rows in df with drink equal to the first value in first and biscuit equal to first value in second\n",
    "df[df['Drink'] == first[0]]"
   ]
  },
  {
   "cell_type": "code",
   "execution_count": 19,
   "metadata": {},
   "outputs": [
    {
     "data": {
      "text/plain": [
       "(100, 2)"
      ]
     },
     "execution_count": 19,
     "metadata": {},
     "output_type": "execute_result"
    }
   ],
   "source": [
    "## Size of all rows in df with drink equal to the first value in first and biscuit equal to first value in second. \n",
    "## 100 rows returned and 2 columns as displayed in the previous cell.\n",
    "\n",
    "df[df['Drink'] == first[0]].shape\n"
   ]
  },
  {
   "cell_type": "code",
   "execution_count": 20,
   "metadata": {
    "scrolled": true
   },
   "outputs": [
    {
     "name": "stderr",
     "output_type": "stream",
     "text": [
      "C:\\Users\\Trish\\AppData\\Local\\Temp\\ipykernel_42160\\312021625.py:3: UserWarning: Boolean Series key will be reindexed to match DataFrame index.\n",
      "  df[df['Drink'] == first[0]][df['Biscuit'] == second[0]]\n"
     ]
    },
    {
     "data": {
      "text/html": [
       "<div>\n",
       "<style scoped>\n",
       "    .dataframe tbody tr th:only-of-type {\n",
       "        vertical-align: middle;\n",
       "    }\n",
       "\n",
       "    .dataframe tbody tr th {\n",
       "        vertical-align: top;\n",
       "    }\n",
       "\n",
       "    .dataframe thead th {\n",
       "        text-align: right;\n",
       "    }\n",
       "</style>\n",
       "<table border=\"1\" class=\"dataframe\">\n",
       "  <thead>\n",
       "    <tr style=\"text-align: right;\">\n",
       "      <th></th>\n",
       "      <th>Drink</th>\n",
       "      <th>Biscuit</th>\n",
       "    </tr>\n",
       "  </thead>\n",
       "  <tbody>\n",
       "    <tr>\n",
       "      <th>6</th>\n",
       "      <td>Coffee</td>\n",
       "      <td>Chocolate</td>\n",
       "    </tr>\n",
       "    <tr>\n",
       "      <th>10</th>\n",
       "      <td>Coffee</td>\n",
       "      <td>Chocolate</td>\n",
       "    </tr>\n",
       "    <tr>\n",
       "      <th>18</th>\n",
       "      <td>Coffee</td>\n",
       "      <td>Chocolate</td>\n",
       "    </tr>\n",
       "    <tr>\n",
       "      <th>20</th>\n",
       "      <td>Coffee</td>\n",
       "      <td>Chocolate</td>\n",
       "    </tr>\n",
       "    <tr>\n",
       "      <th>22</th>\n",
       "      <td>Coffee</td>\n",
       "      <td>Chocolate</td>\n",
       "    </tr>\n",
       "    <tr>\n",
       "      <th>32</th>\n",
       "      <td>Coffee</td>\n",
       "      <td>Chocolate</td>\n",
       "    </tr>\n",
       "    <tr>\n",
       "      <th>39</th>\n",
       "      <td>Coffee</td>\n",
       "      <td>Chocolate</td>\n",
       "    </tr>\n",
       "    <tr>\n",
       "      <th>40</th>\n",
       "      <td>Coffee</td>\n",
       "      <td>Chocolate</td>\n",
       "    </tr>\n",
       "    <tr>\n",
       "      <th>41</th>\n",
       "      <td>Coffee</td>\n",
       "      <td>Chocolate</td>\n",
       "    </tr>\n",
       "    <tr>\n",
       "      <th>62</th>\n",
       "      <td>Coffee</td>\n",
       "      <td>Chocolate</td>\n",
       "    </tr>\n",
       "    <tr>\n",
       "      <th>65</th>\n",
       "      <td>Coffee</td>\n",
       "      <td>Chocolate</td>\n",
       "    </tr>\n",
       "    <tr>\n",
       "      <th>71</th>\n",
       "      <td>Coffee</td>\n",
       "      <td>Chocolate</td>\n",
       "    </tr>\n",
       "    <tr>\n",
       "      <th>73</th>\n",
       "      <td>Coffee</td>\n",
       "      <td>Chocolate</td>\n",
       "    </tr>\n",
       "    <tr>\n",
       "      <th>75</th>\n",
       "      <td>Coffee</td>\n",
       "      <td>Chocolate</td>\n",
       "    </tr>\n",
       "    <tr>\n",
       "      <th>81</th>\n",
       "      <td>Coffee</td>\n",
       "      <td>Chocolate</td>\n",
       "    </tr>\n",
       "    <tr>\n",
       "      <th>83</th>\n",
       "      <td>Coffee</td>\n",
       "      <td>Chocolate</td>\n",
       "    </tr>\n",
       "    <tr>\n",
       "      <th>85</th>\n",
       "      <td>Coffee</td>\n",
       "      <td>Chocolate</td>\n",
       "    </tr>\n",
       "    <tr>\n",
       "      <th>87</th>\n",
       "      <td>Coffee</td>\n",
       "      <td>Chocolate</td>\n",
       "    </tr>\n",
       "    <tr>\n",
       "      <th>88</th>\n",
       "      <td>Coffee</td>\n",
       "      <td>Chocolate</td>\n",
       "    </tr>\n",
       "    <tr>\n",
       "      <th>102</th>\n",
       "      <td>Coffee</td>\n",
       "      <td>Chocolate</td>\n",
       "    </tr>\n",
       "    <tr>\n",
       "      <th>111</th>\n",
       "      <td>Coffee</td>\n",
       "      <td>Chocolate</td>\n",
       "    </tr>\n",
       "    <tr>\n",
       "      <th>120</th>\n",
       "      <td>Coffee</td>\n",
       "      <td>Chocolate</td>\n",
       "    </tr>\n",
       "    <tr>\n",
       "      <th>122</th>\n",
       "      <td>Coffee</td>\n",
       "      <td>Chocolate</td>\n",
       "    </tr>\n",
       "    <tr>\n",
       "      <th>123</th>\n",
       "      <td>Coffee</td>\n",
       "      <td>Chocolate</td>\n",
       "    </tr>\n",
       "    <tr>\n",
       "      <th>137</th>\n",
       "      <td>Coffee</td>\n",
       "      <td>Chocolate</td>\n",
       "    </tr>\n",
       "    <tr>\n",
       "      <th>138</th>\n",
       "      <td>Coffee</td>\n",
       "      <td>Chocolate</td>\n",
       "    </tr>\n",
       "    <tr>\n",
       "      <th>142</th>\n",
       "      <td>Coffee</td>\n",
       "      <td>Chocolate</td>\n",
       "    </tr>\n",
       "    <tr>\n",
       "      <th>144</th>\n",
       "      <td>Coffee</td>\n",
       "      <td>Chocolate</td>\n",
       "    </tr>\n",
       "    <tr>\n",
       "      <th>145</th>\n",
       "      <td>Coffee</td>\n",
       "      <td>Chocolate</td>\n",
       "    </tr>\n",
       "    <tr>\n",
       "      <th>148</th>\n",
       "      <td>Coffee</td>\n",
       "      <td>Chocolate</td>\n",
       "    </tr>\n",
       "    <tr>\n",
       "      <th>152</th>\n",
       "      <td>Coffee</td>\n",
       "      <td>Chocolate</td>\n",
       "    </tr>\n",
       "    <tr>\n",
       "      <th>154</th>\n",
       "      <td>Coffee</td>\n",
       "      <td>Chocolate</td>\n",
       "    </tr>\n",
       "    <tr>\n",
       "      <th>155</th>\n",
       "      <td>Coffee</td>\n",
       "      <td>Chocolate</td>\n",
       "    </tr>\n",
       "    <tr>\n",
       "      <th>163</th>\n",
       "      <td>Coffee</td>\n",
       "      <td>Chocolate</td>\n",
       "    </tr>\n",
       "    <tr>\n",
       "      <th>166</th>\n",
       "      <td>Coffee</td>\n",
       "      <td>Chocolate</td>\n",
       "    </tr>\n",
       "    <tr>\n",
       "      <th>183</th>\n",
       "      <td>Coffee</td>\n",
       "      <td>Chocolate</td>\n",
       "    </tr>\n",
       "    <tr>\n",
       "      <th>185</th>\n",
       "      <td>Coffee</td>\n",
       "      <td>Chocolate</td>\n",
       "    </tr>\n",
       "    <tr>\n",
       "      <th>187</th>\n",
       "      <td>Coffee</td>\n",
       "      <td>Chocolate</td>\n",
       "    </tr>\n",
       "    <tr>\n",
       "      <th>188</th>\n",
       "      <td>Coffee</td>\n",
       "      <td>Chocolate</td>\n",
       "    </tr>\n",
       "    <tr>\n",
       "      <th>190</th>\n",
       "      <td>Coffee</td>\n",
       "      <td>Chocolate</td>\n",
       "    </tr>\n",
       "    <tr>\n",
       "      <th>194</th>\n",
       "      <td>Coffee</td>\n",
       "      <td>Chocolate</td>\n",
       "    </tr>\n",
       "    <tr>\n",
       "      <th>198</th>\n",
       "      <td>Coffee</td>\n",
       "      <td>Chocolate</td>\n",
       "    </tr>\n",
       "    <tr>\n",
       "      <th>199</th>\n",
       "      <td>Coffee</td>\n",
       "      <td>Chocolate</td>\n",
       "    </tr>\n",
       "  </tbody>\n",
       "</table>\n",
       "</div>"
      ],
      "text/plain": [
       "      Drink    Biscuit\n",
       "6    Coffee  Chocolate\n",
       "10   Coffee  Chocolate\n",
       "18   Coffee  Chocolate\n",
       "20   Coffee  Chocolate\n",
       "22   Coffee  Chocolate\n",
       "32   Coffee  Chocolate\n",
       "39   Coffee  Chocolate\n",
       "40   Coffee  Chocolate\n",
       "41   Coffee  Chocolate\n",
       "62   Coffee  Chocolate\n",
       "65   Coffee  Chocolate\n",
       "71   Coffee  Chocolate\n",
       "73   Coffee  Chocolate\n",
       "75   Coffee  Chocolate\n",
       "81   Coffee  Chocolate\n",
       "83   Coffee  Chocolate\n",
       "85   Coffee  Chocolate\n",
       "87   Coffee  Chocolate\n",
       "88   Coffee  Chocolate\n",
       "102  Coffee  Chocolate\n",
       "111  Coffee  Chocolate\n",
       "120  Coffee  Chocolate\n",
       "122  Coffee  Chocolate\n",
       "123  Coffee  Chocolate\n",
       "137  Coffee  Chocolate\n",
       "138  Coffee  Chocolate\n",
       "142  Coffee  Chocolate\n",
       "144  Coffee  Chocolate\n",
       "145  Coffee  Chocolate\n",
       "148  Coffee  Chocolate\n",
       "152  Coffee  Chocolate\n",
       "154  Coffee  Chocolate\n",
       "155  Coffee  Chocolate\n",
       "163  Coffee  Chocolate\n",
       "166  Coffee  Chocolate\n",
       "183  Coffee  Chocolate\n",
       "185  Coffee  Chocolate\n",
       "187  Coffee  Chocolate\n",
       "188  Coffee  Chocolate\n",
       "190  Coffee  Chocolate\n",
       "194  Coffee  Chocolate\n",
       "198  Coffee  Chocolate\n",
       "199  Coffee  Chocolate"
      ]
     },
     "execution_count": 20,
     "metadata": {},
     "output_type": "execute_result"
    }
   ],
   "source": [
    "## Result of the this operation is shown below\n",
    "\n",
    "df[df['Drink'] == first[0]][df['Biscuit'] == second[0]]\n"
   ]
  },
  {
   "cell_type": "markdown",
   "metadata": {},
   "source": [
    "## Statistical Test\n",
    "\n",
    "The Chi-Square Test for Independence can be applied to a contingency table, which is a table that shows the relationship between two or more categorical variables, using the chi2_contingency function, which was created specifically for this purpose. This test is used to examine whether the variables in the contingency table are statistically significantly associated.[6]\n",
    "\n",
    "The chi2_contingency function takes the observed data from the contingency table and returns the test statistic, p-value, degrees of freedom, and anticipated frequencies, simplifying the Chi-Square Test for Independence procedure. This is especially helpful if you wish to run the test as part of a larger statistical study or have extensive contingency tables.[6]\n",
    "\n",
    "The Chi-Square test statistic, measures the degree of association between the variables. Higher values of chi2 indicate a stronger association.[6]\n",
    "\n",
    "The p-value, abbreviated as p, is used to assess the test's statistical significance. A correlation between the variables is presumed to be significant when the p-value is minimal (usually less than 0.05).[6]\n",
    "\n",
    "The Degrees of Freedom or dof is represented as 1 for a 2x2 contingency table.[6]\n",
    "\n",
    "Each cell in the contingency table's expected column contains the anticipated or predicted frequencies. These are computed under the presumption of independence between the two variables.[6]\n",
    "\n",
    "***"
   ]
  },
  {
   "cell_type": "code",
   "execution_count": 21,
   "metadata": {},
   "outputs": [
    {
     "data": {
      "text/plain": [
       "array([[43, 57],\n",
       "       [56, 45]])"
      ]
     },
     "execution_count": 21,
     "metadata": {},
     "output_type": "execute_result"
    }
   ],
   "source": [
    "# The Contingency Table is all that is required to perform the statistical analysis.\n",
    "cross.count"
   ]
  },
  {
   "cell_type": "code",
   "execution_count": 22,
   "metadata": {},
   "outputs": [
    {
     "data": {
      "text/plain": [
       "Chi2ContingencyResult(statistic=3.113937364324669, pvalue=0.07762509678333357, dof=1, expected_freq=array([[49.25373134, 50.74626866],\n",
       "       [49.74626866, 51.25373134]]))"
      ]
     },
     "execution_count": 22,
     "metadata": {},
     "output_type": "execute_result"
    }
   ],
   "source": [
    "#Statistical results\n",
    "\n",
    "# False is a Boolean value that typically denotes an illogically false condition or a condition that is not true.[6]\n",
    "# The p-value that is returned is 0.07 This p value would be considered small therefore the null hypothesis is rejected, \n",
    "# that is, there is no relationship between the varaibles.\n",
    "\n",
    "result = ss.chi2_contingency(cross.count, correction=False)\n",
    "\n",
    "# Show\n",
    "\n",
    "result"
   ]
  },
  {
   "cell_type": "code",
   "execution_count": 23,
   "metadata": {},
   "outputs": [
    {
     "data": {
      "text/plain": [
       "array([[49.25373134, 50.74626866],\n",
       "       [49.74626866, 51.25373134]])"
      ]
     },
     "execution_count": 23,
     "metadata": {},
     "output_type": "execute_result"
    }
   ],
   "source": [
    "# The expected frequencies if independent. This returns a list of relating to coffee and tea.\n",
    "\n",
    "result.expected_freq"
   ]
  },
  {
   "cell_type": "code",
   "execution_count": 24,
   "metadata": {},
   "outputs": [
    {
     "data": {
      "text/plain": [
       "0.99"
      ]
     },
     "execution_count": 24,
     "metadata": {},
     "output_type": "execute_result"
    }
   ],
   "source": [
    "# Preferred chocolate - this returned a value of 99%\n",
    "99 / 100"
   ]
  },
  {
   "cell_type": "code",
   "execution_count": 25,
   "metadata": {},
   "outputs": [
    {
     "data": {
      "text/plain": [
       "49.25373134328358"
      ]
     },
     "execution_count": 25,
     "metadata": {},
     "output_type": "execute_result"
    }
   ],
   "source": [
    "# If no relationship between drink and biscuit,\n",
    "# then we should have same proportion of coffee\n",
    "# liking choc as we have overall. \n",
    "# The number 49.25 reflects the number in the array above.\n",
    "\n",
    "100 * 99 /201"
   ]
  },
  {
   "cell_type": "code",
   "execution_count": 26,
   "metadata": {},
   "outputs": [
    {
     "data": {
      "text/plain": [
       "51.76119402985075"
      ]
     },
     "execution_count": 26,
     "metadata": {},
     "output_type": "execute_result"
    }
   ],
   "source": [
    "# If no relationship between drink and biscuit,\n",
    "# then we should have same proportion of people\n",
    "# liking plain biscuits who are tea drinkers as we have overall. \n",
    "# This closely reflects the number above 51.25\n",
    "\n",
    "102 * 102 / 201"
   ]
  },
  {
   "cell_type": "markdown",
   "metadata": {},
   "source": [
    "***\n",
    "\n",
    "## End"
   ]
  },
  {
   "cell_type": "code",
   "execution_count": 27,
   "metadata": {},
   "outputs": [
    {
     "name": "stdout",
     "output_type": "stream",
     "text": [
      "Requirement already satisfied: scikit-learn in c:\\users\\trish\\anaconda3\\lib\\site-packages (1.3.0)\n",
      "Requirement already satisfied: numpy>=1.17.3 in c:\\users\\trish\\anaconda3\\lib\\site-packages (from scikit-learn) (1.24.3)\n",
      "Requirement already satisfied: scipy>=1.5.0 in c:\\users\\trish\\anaconda3\\lib\\site-packages (from scikit-learn) (1.11.1)\n",
      "Requirement already satisfied: joblib>=1.1.1 in c:\\users\\trish\\anaconda3\\lib\\site-packages (from scikit-learn) (1.2.0)\n",
      "Requirement already satisfied: threadpoolctl>=2.0.0 in c:\\users\\trish\\anaconda3\\lib\\site-packages (from scikit-learn) (2.2.0)\n",
      "Requirement already satisfied: numpy in c:\\users\\trish\\anaconda3\\lib\\site-packages (1.24.3)\n",
      "Requirement already satisfied: matplotlib in c:\\users\\trish\\anaconda3\\lib\\site-packages (3.7.2)\n",
      "Requirement already satisfied: contourpy>=1.0.1 in c:\\users\\trish\\anaconda3\\lib\\site-packages (from matplotlib) (1.0.5)\n",
      "Requirement already satisfied: cycler>=0.10 in c:\\users\\trish\\anaconda3\\lib\\site-packages (from matplotlib) (0.11.0)\n",
      "Requirement already satisfied: fonttools>=4.22.0 in c:\\users\\trish\\anaconda3\\lib\\site-packages (from matplotlib) (4.25.0)\n",
      "Requirement already satisfied: kiwisolver>=1.0.1 in c:\\users\\trish\\anaconda3\\lib\\site-packages (from matplotlib) (1.4.4)\n",
      "Requirement already satisfied: numpy>=1.20 in c:\\users\\trish\\anaconda3\\lib\\site-packages (from matplotlib) (1.24.3)\n",
      "Requirement already satisfied: packaging>=20.0 in c:\\users\\trish\\anaconda3\\lib\\site-packages (from matplotlib) (23.1)\n",
      "Requirement already satisfied: pillow>=6.2.0 in c:\\users\\trish\\anaconda3\\lib\\site-packages (from matplotlib) (9.4.0)\n",
      "Requirement already satisfied: pyparsing<3.1,>=2.3.1 in c:\\users\\trish\\anaconda3\\lib\\site-packages (from matplotlib) (3.0.9)\n",
      "Requirement already satisfied: python-dateutil>=2.7 in c:\\users\\trish\\anaconda3\\lib\\site-packages (from matplotlib) (2.8.2)\n",
      "Requirement already satisfied: six>=1.5 in c:\\users\\trish\\anaconda3\\lib\\site-packages (from python-dateutil>=2.7->matplotlib) (1.16.0)\n"
     ]
    }
   ],
   "source": [
    "!pip install scikit-learn\n",
    "!pip install numpy\n",
    "!pip3 install matplotlib"
   ]
  },
  {
   "cell_type": "code",
   "execution_count": 28,
   "metadata": {},
   "outputs": [],
   "source": [
    "import sklearn\n",
    "from sklearn import datasets\n",
    "import pandas as pd\n",
    "# import missingno as msno \n",
    "import matplotlib.pyplot as plt\n",
    "import numpy as np\n",
    "from scipy.stats import ttest_ind"
   ]
  },
  {
   "cell_type": "markdown",
   "metadata": {},
   "source": [
    "# Task 3\n",
    "\n",
    "\n",
    "## t-Tests\n",
    "\n",
    "In this task, a t-test will be performed on the famous penguins data set to investigate whether there is evidence of a significant difference in the body mass of male and female gentoo penguin\n",
    "\n",
    "When comparing the means of two groups or samples, a t-test is a statistical hypothesis test that is used to evaluate whether there is a significant difference. It is frequently used to compare the means of two groups and determine whether the observed differences are most likely caused by random variation (chance) or if they actually reflect variations in the population from which the samples were taken.[8]\n",
    "\n",
    "The t-test, commonly referred to as the Student's t-test, is named after William Sealy Gosset, who created it. In the early 20th century, Gosset, an English statistician, worked in Dublin, Ireland, for the Guinness Brewery. He created the t-test to deal with the difficulties of performing statistical analysis on tiny sample sizes, which were frequently used in the quality assurance and production procedures at the brewery.[8]\n",
    "\n",
    "Gosset made substantial contributions to statistics, and he is particularly well-known for his work on the sample mean distribution for small sample sizes. He invented the \"t-distribution\" (also known as the \"Student's t-distribution\") to take into account the extra uncertainty and variability that come with working with small samples. Similar to the normal distribution but with larger tails, the t-distribution is better suited for small samples.[8]\n",
    "\n",
    "Another important statistician is Sir Ronald A. Fisher, who made significant contributions to experimental planning and hypothesis testing. [8].\n",
    "\n"
   ]
  },
  {
   "cell_type": "markdown",
   "metadata": {},
   "source": [
    "# Normal Distribution\n",
    "\n",
    "numpy.random.normal\n",
    "\n",
    "This function uses normal distribution, otherwise known as a bell curve, to select samples. The probability density function of the normal distribution was initially computed by De Moivre and later by both Gauss and Laplaceis. Its commonly referred as the bell curve because of its shape. [10]\n",
    "\n",
    "In nature normal distributions are common. It represents for example the observed distribution of samples altered by by a large number of small random disturbances, each having its own unique distribution.\n",
    "\n",
    "A normal (or Gaussian, Gauss, or Laplace–Gauss) distribution is a type of continuous probability distribution for a real-valued random variable in probability theory. The probability density function uses the following formula. [10]\n",
    "\n",
    "#### Probability Density Function\n",
    "\n",
    "![formula](https://wikimedia.org/api/rest_v1/media/math/render/svg/00cb9b2c9b866378626bcfa45c86a6de2f2b2e40)\n",
    "\n",
    "The parameter mu represents the distribution's mean or expectation, whereas sigma represents its standard deviation. The distribution's variance is v. A normal deviate is a random variable that has a Gaussian distribution and is normally distributed. [10]"
   ]
  },
  {
   "cell_type": "code",
   "execution_count": 29,
   "metadata": {},
   "outputs": [],
   "source": [
    "def normal_pdf(x, mu=0.0, sigma=1.0):\n",
    "  A = 1.0 / (sigma * np.sqrt(2.0 * np.pi))\n",
    "  B = np.exp(-0.5 * ((x - mu) / sigma)**2)\n",
    "  return A * B"
   ]
  },
  {
   "cell_type": "code",
   "execution_count": 30,
   "metadata": {},
   "outputs": [
    {
     "data": {
      "text/plain": [
       "0.3989422804014327"
      ]
     },
     "execution_count": 30,
     "metadata": {},
     "output_type": "execute_result"
    }
   ],
   "source": [
    "# Middle of the Standard Normal pdf [11]\n",
    "normal_pdf(0.0)"
   ]
  },
  {
   "cell_type": "code",
   "execution_count": 31,
   "metadata": {},
   "outputs": [
    {
     "data": {
      "text/plain": [
       "0.8920620580763857"
      ]
     },
     "execution_count": 31,
     "metadata": {},
     "output_type": "execute_result"
    }
   ],
   "source": [
    "# Blue Line.[11]\n",
    "normal_pdf(0.0, mu=0.0, sigma=np.sqrt(0.2))"
   ]
  },
  {
   "cell_type": "code",
   "execution_count": 32,
   "metadata": {},
   "outputs": [
    {
     "data": {
      "text/plain": [
       "0.010333492677046035"
      ]
     },
     "execution_count": 32,
     "metadata": {},
     "output_type": "execute_result"
    }
   ],
   "source": [
    "# Green Line.[11]\n",
    "normal_pdf(0.0, mu=2.0, sigma=np.sqrt(0.5))"
   ]
  },
  {
   "cell_type": "markdown",
   "metadata": {},
   "source": [
    "## Plots\n",
    "\n",
    "***\n",
    "\n",
    "The probability distribution of a continuous random variable is represented graphically by a density probability function graph, also called a probability density function (PDF) graph. It gives details on how likely it is for different values to fall inside a given range.[11]"
   ]
  },
  {
   "cell_type": "markdown",
   "metadata": {},
   "source": [
    "\n",
    "![Normal PDF](https://upload.wikimedia.org/wikipedia/commons/thumb/7/74/Normal_Distribution_PDF.svg/640px-Normal_Distribution_PDF.svg.png)\n",
    "\n",
    "https://en.wikipedia.org/wiki/Normal_distribution"
   ]
  },
  {
   "cell_type": "code",
   "execution_count": 33,
   "metadata": {},
   "outputs": [
    {
     "data": {
      "image/png": "[encoded data removed]",
      "text/plain": [
       "<Figure size 640x480 with 1 Axes>"
      ]
     },
     "metadata": {},
     "output_type": "display_data"
    }
   ],
   "source": [
    "# Create a blank plot.\n",
    "fig, ax = plt.subplots()\n",
    "\n",
    "# Range of x values.\n",
    "x = np.linspace(-5.0, 5.0, 1001)\n",
    "\n",
    "# Plot various values for pdf.\n",
    "for mu, sigma2 in [[0.0, 0.2], [0.0, 1.0], [0.0, 5.0], [-2.0, 0.5]]:\n",
    "  y = normal_pdf(x, mu=mu, sigma=np.sqrt(sigma2))\n",
    "  ax.plot(x, y, label=f'$\\mu = {mu}, \\sigma^2 = {sigma2}$')\n",
    "\n",
    "# Add a legend.\n",
    "ax.legend()\n",
    "\n",
    "# Add a grid.\n",
    "ax.grid()"
   ]
  },
  {
   "cell_type": "markdown",
   "metadata": {},
   "source": [
    "## Area under the curve"
   ]
  },
  {
   "cell_type": "markdown",
   "metadata": {},
   "source": [
    "Two key ideas in statistics are standard deviation and coverage, particularly when working with a normal distribution.\n",
    "The spread or dispersion of data within a dataset is measured by the standard deviation. The standard deviation is important for a normal distribution. As seen in the diagram below:[10]\n",
    "\n",
    "About 68% of the data falls within one standard deviation of the mean.\n",
    "About 95% of the data falls within two standard deviations of the mean.\n",
    "About 99.7% of the data falls within three standard deviations of the mean.[11]\n",
    "\n",
    "This is commonly known as the 68-95-99.7 rule or the empirical rule. It indicates that most data points in a normal distribution are concentrated near the mean, and that the number of data points diminishes as one moves away from the mean. The amount that every one data point deviates from the mean is expressed as a standard deviation. Data points are more widely distributed when the standard deviation is bigger than when it is smaller, indicating that the data points are closer to the mean.[10]\n",
    "\n",
    "The percentage of data points that fall within a given range or interval that is expressed in terms of standard deviations from the mean is commonly referred to as coverage in the context of a normal distribution. As previously indicated, the 68-95-99.7 rule can be used to ascertain the coverage for particular intervals, i.e for a range of one standard deviation on each side of the mean, you have a coverage of approximately 68%, 95% or 99.7%[10]\n",
    "\n",
    "These coverage percentages help establish confidence intervals, draw statistical conclusions, and comprehend how data is distributed in a normal distribution.\n",
    "\n",
    "In conclusion, coverage describes the percentage of data that falls within a given standard deviation interval from the mean, while the standard deviation quantifies the dispersion of data in a normal distribution.[11]"
   ]
  },
  {
   "cell_type": "code",
   "execution_count": 34,
   "metadata": {},
   "outputs": [
    {
     "data": {
      "text/plain": [
       "<matplotlib.legend.Legend at 0x21f1be11950>"
      ]
     },
     "execution_count": 34,
     "metadata": {},
     "output_type": "execute_result"
    },
    {
     "data": {
      "image/png": "[encoded data removed]",
      "text/plain": [
       "<Figure size 1200x600 with 1 Axes>"
      ]
     },
     "metadata": {},
     "output_type": "display_data"
    }
   ],
   "source": [
    "# Create a blank plot.\n",
    "fig, ax = plt.subplots(figsize=(12,6))\n",
    "\n",
    "# Range of x values.\n",
    "x = np.linspace(-4.0, 4.0, 1001)\n",
    "\n",
    "# Plot the pdf for the standard normal distribution.\n",
    "mu, sigma2 = 0.0, 1.0\n",
    "y = normal_pdf(x, mu=mu, sigma=np.sqrt(sigma2))\n",
    "ax.plot(x, y, label=f'$\\mu = {mu}, \\sigma^2 = {sigma2}$')\n",
    "\n",
    "# Add an x axis.\n",
    "ax.axhline(0.0, color='black')\n",
    "\n",
    "# Add vertical lines.\n",
    "ax.vlines([-1.0, 1.0], 0.0, 0.4, color=\"grey\")\n",
    "\n",
    "# x values between the vertical lines.\n",
    "x_interval = np.linspace(-1.0, 1.0, 101)\n",
    "\n",
    "# Shade the area under the blue curve between the vertical lines.\n",
    "ax.fill_between(x_interval, normal_pdf(x_interval), color='green', alpha=0.25)\n",
    "\n",
    "# Add a legend.\n",
    "ax.legend()"
   ]
  },
  {
   "cell_type": "code",
   "execution_count": 35,
   "metadata": {},
   "outputs": [
    {
     "name": "stdout",
     "output_type": "stream",
     "text": [
      "(-1.0, 0.24197072451914337)\n",
      "(1.0, 0.24197072451914337)\n"
     ]
    }
   ],
   "source": [
    "# The intersection of the grey and blue line.\n",
    "print(f'(-1.0, {normal_pdf(-1.0)})')\n",
    "print(f'(1.0, {normal_pdf(1.0)})')"
   ]
  },
  {
   "cell_type": "markdown",
   "metadata": {},
   "source": [
    "![Normal PDF](https://upload.wikimedia.org/wikipedia/commons/thumb/3/3a/Standard_deviation_diagram_micro.svg/1920px-Standard_deviation_diagram_micro.svg.png)\n",
    "\n",
    "https://en.wikipedia.org/wiki/Normal_distribution"
   ]
  },
  {
   "cell_type": "markdown",
   "metadata": {},
   "source": [
    "## Normal Data\n",
    "\n",
    "***"
   ]
  },
  {
   "cell_type": "code",
   "execution_count": 36,
   "metadata": {},
   "outputs": [],
   "source": [
    "# Generate some random normal data.\n",
    "# np.random.standard_normal()\n",
    "random_data = np.random.standard_normal(100000)"
   ]
  },
  {
   "cell_type": "code",
   "execution_count": 37,
   "metadata": {},
   "outputs": [
    {
     "data": {
      "image/png": "[encoded data removed]",
      "text/plain": [
       "<Figure size 1200x600 with 1 Axes>"
      ]
     },
     "metadata": {},
     "output_type": "display_data"
    }
   ],
   "source": [
    "# Create an empty plot\n",
    "\n",
    "fig, ax = plt.subplots(figsize=(12,6))\n",
    "\n",
    "# Plot a histogram of the data\n",
    "\n",
    "ax.hist(random_data, bins=40, density=True)\n",
    "\n",
    "# Plot the pdf for the standard normal distribution\n",
    "\n",
    "mu, sigma2 = 0.0, 1.0\n",
    "y = normal_pdf(x, mu=mu, sigma=np.sqrt(sigma2))\n",
    "ax.plot(x, y, label=f'$\\mu = {mu}, \\sigma^2 = {sigma2}$');\n",
    "\n",
    "#The orange curve (standard normal distribution) fits the data (the 100,000 values that numpy generated)"
   ]
  },
  {
   "cell_type": "markdown",
   "metadata": {},
   "source": [
    "## Sampling Distribution\n",
    "\n",
    "***"
   ]
  },
  {
   "cell_type": "markdown",
   "metadata": {},
   "source": [
    "The probability distribution known as a sampling distribution denotes the range of values or results that can be obtained from a random sample of a population when calculating a statistic (such as the mean, variance, proportion, etc.). It is a basic idea in statistics and is important when using sample data to draw conclusions about the population (inferential statistics).[12]\n",
    "\n",
    "A population in statistics is the total group of people, objects, or data points that you want to examine. A sample is a portion of the population chosen for examination. Using data from the sample to make inferences about the population is the aim of inferential statistics.[12]\n",
    "\n",
    "A statistic is a tally or measurement of numbers derived from a sample. The sample mean, sample variance, sample proportion, and other common statistics are examples. The characteristics of the sample are shown by these statistics.[12]\n",
    "\n",
    "The probability distribution of all possible values of a statistic when calculated from numerous random samples of the same size from the population is known as the sampling distribution of that statistic. It characterises the variation in the statistic across various samples.[12]\n",
    "\n",
    "Distributions of sampling are essential for drawing statistical conclusions. They enable the computation of confidence intervals, run hypothesis tests, and evaluate the accuracy of sample estimates. By knowing the characteristics of sampling distributions, sample data can be used to establish meaningful inferences about the population and make well-informed decisions.[10]\n",
    "\n"
   ]
  },
  {
   "cell_type": "code",
   "execution_count": 38,
   "metadata": {},
   "outputs": [
    {
     "data": {
      "text/plain": [
       "array([[ 1.03831786,  0.33634626,  0.50415651, ..., -1.98692211,\n",
       "         1.10144301,  1.77051527],\n",
       "       [ 1.1811539 , -0.79162823,  1.47981853, ..., -0.33708719,\n",
       "        -1.44988625,  1.32347395],\n",
       "       [ 0.00820033,  0.81852311, -1.68619114, ...,  0.23689689,\n",
       "         1.67307795, -0.33690149],\n",
       "       ...,\n",
       "       [ 0.79696489, -1.61303478,  0.11647112, ..., -0.68796555,\n",
       "         0.27004942,  1.13525395],\n",
       "       [ 0.77989284,  1.02688051,  0.06284545, ...,  0.05474048,\n",
       "         0.21259085, -0.25387789],\n",
       "       [ 1.06104517, -0.29440693, -0.66959654, ...,  0.9881966 ,\n",
       "         0.81529426, -0.91292687]])"
      ]
     },
     "execution_count": 38,
     "metadata": {},
     "output_type": "execute_result"
    }
   ],
   "source": [
    "# Generate some random normal data.\n",
    "random_data = np.random.standard_normal((10000, 25))\n",
    "\n",
    "# Show.\n",
    "random_data"
   ]
  },
  {
   "cell_type": "code",
   "execution_count": 39,
   "metadata": {},
   "outputs": [
    {
     "data": {
      "text/plain": [
       "array([ 0.11081808, -0.25243578,  0.35017075, ...,  0.20851917,\n",
       "       -0.16324803,  0.02216681])"
      ]
     },
     "execution_count": 39,
     "metadata": {},
     "output_type": "execute_result"
    }
   ],
   "source": [
    "# Mean across the rows\n",
    "random_data.mean(axis=1)"
   ]
  },
  {
   "cell_type": "code",
   "execution_count": 40,
   "metadata": {},
   "outputs": [
    {
     "data": {
      "image/png": "[encoded data removed]",
      "text/plain": [
       "<Figure size 1200x600 with 1 Axes>"
      ]
     },
     "metadata": {},
     "output_type": "display_data"
    }
   ],
   "source": [
    "# Create an empty figure.\n",
    "fig, ax = plt.subplots(figsize=(12,6))\n",
    "\n",
    "# Histogram of means.\n",
    "ax.hist(random_data.mean(axis=1), bins=30);"
   ]
  },
  {
   "cell_type": "code",
   "execution_count": 41,
   "metadata": {},
   "outputs": [
    {
     "data": {
      "image/png": "[encoded data removed]",
      "text/plain": [
       "<Figure size 1200x600 with 1 Axes>"
      ]
     },
     "metadata": {},
     "output_type": "display_data"
    }
   ],
   "source": [
    "# Create an empty figure.\n",
    "fig, ax = plt.subplots(figsize=(12,6))\n",
    "\n",
    "# Histogram of means.\n",
    "ax.hist(random_data.mean(axis=1), bins=30, density=True)\n",
    "\n",
    "# Plot standard normal distribution.\n",
    "x = np.linspace(-4.0, 4.0, 1001)\n",
    "y = normal_pdf(x)\n",
    "ax.plot(x, y)\n",
    "\n",
    "# Plot normal distribution with mu = 0.0 and sigma = 0.2.\n",
    "y = normal_pdf(x, mu=0.0, sigma=0.2)\n",
    "ax.plot(x, y);"
   ]
  },
  {
   "cell_type": "code",
   "execution_count": 42,
   "metadata": {},
   "outputs": [
    {
     "data": {
      "image/png": "[encoded data removed]",
      "text/plain": [
       "<Figure size 1200x600 with 1 Axes>"
      ]
     },
     "metadata": {},
     "output_type": "display_data"
    }
   ],
   "source": [
    "# Create an empty figure.\n",
    "fig, ax = plt.subplots(figsize=(12,6))\n",
    "\n",
    "# Histogram of means.\n",
    "ax.hist(random_data.mean(axis=1), bins=30, density=True)\n",
    "\n",
    "# Plot standard normal distribution.\n",
    "x = np.linspace(-4.0, 4.0, 1001)\n",
    "y = normal_pdf(x)\n",
    "ax.plot(x, y);"
   ]
  },
  {
   "cell_type": "code",
   "execution_count": 43,
   "metadata": {},
   "outputs": [
    {
     "data": {
      "image/png": "[encoded data removed]",
      "text/plain": [
       "<Figure size 1200x600 with 1 Axes>"
      ]
     },
     "metadata": {},
     "output_type": "display_data"
    }
   ],
   "source": [
    "# Create an empty figure.\n",
    "fig, ax = plt.subplots(figsize=(12,6))\n",
    "\n",
    "# Histogram of means.\n",
    "ax.hist(random_data.mean(axis=1), bins=30, density=True)\n",
    "\n",
    "# Plot standard normal distribution.\n",
    "x = np.linspace(-4.0, 4.0, 1001)\n",
    "y = normal_pdf(x)\n",
    "ax.plot(x, y)\n",
    "\n",
    "# Plot normal distribution with mu = 0.0 and sigma = 0.2\n",
    "y = normal_pdf(x, mu=0.0, sigma=0.2)\n",
    "ax.plot(x, y);"
   ]
  },
  {
   "cell_type": "markdown",
   "metadata": {},
   "source": [
    "## Random Normal\n",
    "\n",
    "***"
   ]
  },
  {
   "cell_type": "markdown",
   "metadata": {},
   "source": [
    "IID stands for \"independent and identically distributed.\" It is a basic idea that is employed to explain a collection of random variables. Numerous statistical and probabilistic applications depend on this idea.[13]\n",
    "\n",
    "If the result of one random variable does not reveal anything about the results of the other variables, then the variables are deemed independent, that is, knowing the value of one random variable does not affect the probability distribution of the others.[13]\n",
    "\n",
    "If every random variable has the same probability distribution, then they are all said to be identically distributed. This indicates that their probability density functions or probability mass functions are the same, as well as having the same mean (average) and variance (measure of spread).[13]"
   ]
  },
  {
   "cell_type": "code",
   "execution_count": 44,
   "metadata": {},
   "outputs": [],
   "source": [
    "# Let's pick a random mean value.\n",
    "random_mu = np.random.uniform(-3.0, 3.0)\n",
    "\n",
    "# Show.\n",
    "# random_mu"
   ]
  },
  {
   "cell_type": "code",
   "execution_count": 45,
   "metadata": {},
   "outputs": [
    {
     "data": {
      "text/plain": [
       "array([[ 0.65178946,  1.12060774,  1.66638649, ..., -0.57829299,\n",
       "        -0.47600529, -1.23730191],\n",
       "       [-0.28604962,  0.54068496,  0.24395904, ..., -0.4420902 ,\n",
       "         1.65829645, -0.25341605],\n",
       "       [ 1.01022805, -0.558675  ,  0.65264496, ...,  0.64205419,\n",
       "        -0.21632135,  0.48610864],\n",
       "       ...,\n",
       "       [-1.84432516, -0.29071279,  0.81375605, ..., -0.42757709,\n",
       "        -0.73844871, -0.87961907],\n",
       "       [-1.1696525 , -0.89106025,  0.65407609, ...,  0.73329154,\n",
       "         1.14017703,  1.7459114 ],\n",
       "       [-0.18117444, -1.66304314, -0.23266208, ...,  0.6465673 ,\n",
       "         0.90260772, -1.29499422]])"
      ]
     },
     "execution_count": 45,
     "metadata": {},
     "output_type": "execute_result"
    }
   ],
   "source": [
    "# Generate some random normal data with this unknown mu.\n",
    "random_data = np.random.normal(random_mu, 1.0, (10000, 25))\n",
    "\n",
    "# Show.\n",
    "random_data"
   ]
  },
  {
   "cell_type": "code",
   "execution_count": 46,
   "metadata": {},
   "outputs": [
    {
     "data": {
      "text/plain": [
       "(array([0.00199956, 0.00199956, 0.01999555, 0.02999333, 0.02999333,\n",
       "        0.10197732, 0.1879582 , 0.3399244 , 0.44590084, 0.73783591,\n",
       "        0.98578077, 1.26771807, 1.55965315, 1.73761357, 1.98155932,\n",
       "        1.90357666, 1.91557399, 1.74361224, 1.37969317, 1.09975542,\n",
       "        0.86980656, 0.65985325, 0.44390128, 0.21995108, 0.18195953,\n",
       "        0.07798266, 0.03199289, 0.02599422, 0.00799822, 0.00399911]),\n",
       " array([-0.82383862, -0.7738275 , -0.72381638, -0.67380526, -0.62379414,\n",
       "        -0.57378302, -0.5237719 , -0.47376078, -0.42374966, -0.37373854,\n",
       "        -0.32372742, -0.2737163 , -0.22370518, -0.17369406, -0.12368294,\n",
       "        -0.07367182, -0.0236607 ,  0.02635042,  0.07636153,  0.12637265,\n",
       "         0.17638377,  0.22639489,  0.27640601,  0.32641713,  0.37642825,\n",
       "         0.42643937,  0.47645049,  0.52646161,  0.57647273,  0.62648385,\n",
       "         0.67649497]),\n",
       " <BarContainer object of 30 artists>)"
      ]
     },
     "execution_count": 46,
     "metadata": {},
     "output_type": "execute_result"
    },
    {
     "data": {
      "image/png": "[encoded data removed]",
      "text/plain": [
       "<Figure size 1200x600 with 1 Axes>"
      ]
     },
     "metadata": {},
     "output_type": "display_data"
    }
   ],
   "source": [
    "# Create an empty figure.\n",
    "fig, ax = plt.subplots(figsize=(12,6))\n",
    "\n",
    "# Histogram of means.\n",
    "ax.hist(random_data.mean(axis=1), bins=30, density=True)"
   ]
  },
  {
   "cell_type": "code",
   "execution_count": 47,
   "metadata": {},
   "outputs": [
    {
     "data": {
      "text/plain": [
       "-0.05878042631976932"
      ]
     },
     "execution_count": 47,
     "metadata": {},
     "output_type": "execute_result"
    }
   ],
   "source": [
    "# Estimate random_mu from above histogram.\n",
    "# Now look at the value.\n",
    "random_mu"
   ]
  },
  {
   "cell_type": "code",
   "execution_count": 48,
   "metadata": {},
   "outputs": [
    {
     "data": {
      "text/plain": [
       "array([-1.02267705, -0.38884761,  1.35538369, -0.29231517, -1.06169933,\n",
       "       -1.11213339,  1.64290247,  0.34093307, -0.88758613, -0.10746643,\n",
       "        2.01455474,  0.86306648, -1.39796131, -1.17026094, -0.20092798,\n",
       "       -1.12429306, -0.64180161, -0.56422933, -0.38174777,  0.49139704,\n",
       "       -0.55130787,  1.01854211, -0.21139346,  0.23379531, -1.24666277,\n",
       "       -1.13532122,  1.37909243,  0.1563875 ,  0.00715581,  0.2683941 ,\n",
       "        0.59366853,  0.97693875, -0.26991537, -1.73619947, -0.77704984,\n",
       "        1.10788497,  0.87305279,  0.35650381, -1.22543184, -0.04136225,\n",
       "       -0.01355988, -0.74959416,  0.33099529,  1.33739803,  0.41423065,\n",
       "       -2.55000775, -0.29248314, -1.60709552, -0.88082577,  0.21009767])"
      ]
     },
     "execution_count": 48,
     "metadata": {},
     "output_type": "execute_result"
    }
   ],
   "source": [
    "# A random sample of size 50.\n",
    "sample = np.random.normal(random_mu, 1.0, 50)\n",
    "\n",
    "# Show.\n",
    "sample"
   ]
  },
  {
   "cell_type": "code",
   "execution_count": 49,
   "metadata": {},
   "outputs": [
    {
     "data": {
      "text/plain": [
       "-0.15339564328299604"
      ]
     },
     "execution_count": 49,
     "metadata": {},
     "output_type": "execute_result"
    }
   ],
   "source": [
    "# Calculate the mean of the sample.\n",
    "sample.mean()"
   ]
  },
  {
   "cell_type": "markdown",
   "metadata": {},
   "source": [
    "## Independent Samples t-test\n",
    "\n",
    "***"
   ]
  },
  {
   "cell_type": "markdown",
   "metadata": {},
   "source": [
    "A statistical hypothesis test called an independent sample t-test, or two-sample t-test, is used to see if the means of two independent groups differ significantly. It is frequently employed when comparing two groups' means to look for indications of differences between them.[10]\n",
    "\n",
    "It is crucial to take into account certain statistical assumptions that support the validity of the test while doing an independent sample t-test. The data and the characteristics of the two separate groups under comparison are factors in these presumptions.[13]\n",
    "\n",
    "Some key assumptions are as follows:\n",
    "\n",
    "Independence: There should be no relationship between the two samples that are being compared. This implies that there should be no relationship between the data points in one sample and the data points in the other sample.[13]\n",
    "\n",
    "Normality: The distribution of each group should be approximately normal. The t-test can withstand deviations from normalcy if the sample sizes are big, usually greater than thirty. It is advantageous to have data that closely resembles a normal distribution if sample sizes are small.[14]\n",
    "\n",
    "Equal Variances: There should be roughly equal variances in the two groups. We refer to this as the homogeneity of variance assumption. Welch's t-test, a modified t-test, is employed if the variances differ statistically.[14]\n",
    "\n",
    "Random sampling: To guarantee that the samples are representative of the populations from which they were taken, the data in each group should be gathered using a random sampling technique. Random sampling helps prevent data bias.[10]\n",
    "\n",
    "Continuous data: Continuous data is intended for use with the t-test; not categorical data. Ensure that the measurements in every group are made on a constant scale.[10]\n",
    "\n",
    "Independence of observations: Individual observations within each group should be unrelated to one another. This presumption makes sure that no observation is impacted by another.[10]\n",
    "\n",
    "The t-test results may not be reliable if certain presumptions are not met, in which case other statistical tests or approaches might need to be taken into account.\n",
    "\n",
    "In conclusion, the Independent Sample t-Test helps researchers in determining whether for example a course of medical treatment or intervention has a substantial effect or whether there are variations between two groups.[14]"
   ]
  },
  {
   "cell_type": "code",
   "execution_count": 50,
   "metadata": {},
   "outputs": [],
   "source": [
    "# Create variable name for csv\n",
    "csv_path = r\"C:\\Users\\Trish\\repo\\MachineLearningandStatistics\\Machine_Learning_And_Statistics\\penguins.csv\""
   ]
  },
  {
   "cell_type": "code",
   "execution_count": 51,
   "metadata": {},
   "outputs": [
    {
     "data": {
      "text/html": [
       "<div>\n",
       "<style scoped>\n",
       "    .dataframe tbody tr th:only-of-type {\n",
       "        vertical-align: middle;\n",
       "    }\n",
       "\n",
       "    .dataframe tbody tr th {\n",
       "        vertical-align: top;\n",
       "    }\n",
       "\n",
       "    .dataframe thead th {\n",
       "        text-align: right;\n",
       "    }\n",
       "</style>\n",
       "<table border=\"1\" class=\"dataframe\">\n",
       "  <thead>\n",
       "    <tr style=\"text-align: right;\">\n",
       "      <th></th>\n",
       "      <th>species</th>\n",
       "      <th>island</th>\n",
       "      <th>bill_length_mm</th>\n",
       "      <th>bill_depth_mm</th>\n",
       "      <th>flipper_length_mm</th>\n",
       "      <th>body_mass_g</th>\n",
       "      <th>sex</th>\n",
       "    </tr>\n",
       "  </thead>\n",
       "  <tbody>\n",
       "    <tr>\n",
       "      <th>0</th>\n",
       "      <td>Adelie</td>\n",
       "      <td>Torgersen</td>\n",
       "      <td>39.1</td>\n",
       "      <td>18.7</td>\n",
       "      <td>181.0</td>\n",
       "      <td>3750.0</td>\n",
       "      <td>MALE</td>\n",
       "    </tr>\n",
       "    <tr>\n",
       "      <th>1</th>\n",
       "      <td>Adelie</td>\n",
       "      <td>Torgersen</td>\n",
       "      <td>39.5</td>\n",
       "      <td>17.4</td>\n",
       "      <td>186.0</td>\n",
       "      <td>3800.0</td>\n",
       "      <td>FEMALE</td>\n",
       "    </tr>\n",
       "    <tr>\n",
       "      <th>2</th>\n",
       "      <td>Adelie</td>\n",
       "      <td>Torgersen</td>\n",
       "      <td>40.3</td>\n",
       "      <td>18.0</td>\n",
       "      <td>195.0</td>\n",
       "      <td>3250.0</td>\n",
       "      <td>FEMALE</td>\n",
       "    </tr>\n",
       "    <tr>\n",
       "      <th>3</th>\n",
       "      <td>Adelie</td>\n",
       "      <td>Torgersen</td>\n",
       "      <td>NaN</td>\n",
       "      <td>NaN</td>\n",
       "      <td>NaN</td>\n",
       "      <td>NaN</td>\n",
       "      <td>NaN</td>\n",
       "    </tr>\n",
       "    <tr>\n",
       "      <th>4</th>\n",
       "      <td>Adelie</td>\n",
       "      <td>Torgersen</td>\n",
       "      <td>36.7</td>\n",
       "      <td>19.3</td>\n",
       "      <td>193.0</td>\n",
       "      <td>3450.0</td>\n",
       "      <td>FEMALE</td>\n",
       "    </tr>\n",
       "    <tr>\n",
       "      <th>...</th>\n",
       "      <td>...</td>\n",
       "      <td>...</td>\n",
       "      <td>...</td>\n",
       "      <td>...</td>\n",
       "      <td>...</td>\n",
       "      <td>...</td>\n",
       "      <td>...</td>\n",
       "    </tr>\n",
       "    <tr>\n",
       "      <th>339</th>\n",
       "      <td>Gentoo</td>\n",
       "      <td>Biscoe</td>\n",
       "      <td>NaN</td>\n",
       "      <td>NaN</td>\n",
       "      <td>NaN</td>\n",
       "      <td>NaN</td>\n",
       "      <td>NaN</td>\n",
       "    </tr>\n",
       "    <tr>\n",
       "      <th>340</th>\n",
       "      <td>Gentoo</td>\n",
       "      <td>Biscoe</td>\n",
       "      <td>46.8</td>\n",
       "      <td>14.3</td>\n",
       "      <td>215.0</td>\n",
       "      <td>4850.0</td>\n",
       "      <td>FEMALE</td>\n",
       "    </tr>\n",
       "    <tr>\n",
       "      <th>341</th>\n",
       "      <td>Gentoo</td>\n",
       "      <td>Biscoe</td>\n",
       "      <td>50.4</td>\n",
       "      <td>15.7</td>\n",
       "      <td>222.0</td>\n",
       "      <td>5750.0</td>\n",
       "      <td>MALE</td>\n",
       "    </tr>\n",
       "    <tr>\n",
       "      <th>342</th>\n",
       "      <td>Gentoo</td>\n",
       "      <td>Biscoe</td>\n",
       "      <td>45.2</td>\n",
       "      <td>14.8</td>\n",
       "      <td>212.0</td>\n",
       "      <td>5200.0</td>\n",
       "      <td>FEMALE</td>\n",
       "    </tr>\n",
       "    <tr>\n",
       "      <th>343</th>\n",
       "      <td>Gentoo</td>\n",
       "      <td>Biscoe</td>\n",
       "      <td>49.9</td>\n",
       "      <td>16.1</td>\n",
       "      <td>213.0</td>\n",
       "      <td>5400.0</td>\n",
       "      <td>MALE</td>\n",
       "    </tr>\n",
       "  </tbody>\n",
       "</table>\n",
       "<p>344 rows × 7 columns</p>\n",
       "</div>"
      ],
      "text/plain": [
       "    species     island  bill_length_mm  bill_depth_mm  flipper_length_mm  \\\n",
       "0    Adelie  Torgersen            39.1           18.7              181.0   \n",
       "1    Adelie  Torgersen            39.5           17.4              186.0   \n",
       "2    Adelie  Torgersen            40.3           18.0              195.0   \n",
       "3    Adelie  Torgersen             NaN            NaN                NaN   \n",
       "4    Adelie  Torgersen            36.7           19.3              193.0   \n",
       "..      ...        ...             ...            ...                ...   \n",
       "339  Gentoo     Biscoe             NaN            NaN                NaN   \n",
       "340  Gentoo     Biscoe            46.8           14.3              215.0   \n",
       "341  Gentoo     Biscoe            50.4           15.7              222.0   \n",
       "342  Gentoo     Biscoe            45.2           14.8              212.0   \n",
       "343  Gentoo     Biscoe            49.9           16.1              213.0   \n",
       "\n",
       "     body_mass_g     sex  \n",
       "0         3750.0    MALE  \n",
       "1         3800.0  FEMALE  \n",
       "2         3250.0  FEMALE  \n",
       "3            NaN     NaN  \n",
       "4         3450.0  FEMALE  \n",
       "..           ...     ...  \n",
       "339          NaN     NaN  \n",
       "340       4850.0  FEMALE  \n",
       "341       5750.0    MALE  \n",
       "342       5200.0  FEMALE  \n",
       "343       5400.0    MALE  \n",
       "\n",
       "[344 rows x 7 columns]"
      ]
     },
     "execution_count": 51,
     "metadata": {},
     "output_type": "execute_result"
    }
   ],
   "source": [
    "# Load penguin dataset\n",
    "penguin_dataset = pd.read_csv(csv_path)\n",
    "penguin_dataset"
   ]
  },
  {
   "cell_type": "code",
   "execution_count": 52,
   "metadata": {},
   "outputs": [
    {
     "data": {
      "text/plain": [
       "species               0\n",
       "island                0\n",
       "bill_length_mm        2\n",
       "bill_depth_mm         2\n",
       "flipper_length_mm     2\n",
       "body_mass_g           2\n",
       "sex                  11\n",
       "dtype: int64"
      ]
     },
     "execution_count": 52,
     "metadata": {},
     "output_type": "execute_result"
    }
   ],
   "source": [
    "# Any missing values\n",
    "penguin_dataset.isnull().sum()"
   ]
  },
  {
   "cell_type": "code",
   "execution_count": 53,
   "metadata": {},
   "outputs": [
    {
     "name": "stdout",
     "output_type": "stream",
     "text": [
      "Requirement already satisfied: missingno in c:\\users\\trish\\anaconda3\\lib\\site-packages (0.5.2)\n",
      "Requirement already satisfied: numpy in c:\\users\\trish\\anaconda3\\lib\\site-packages (from missingno) (1.24.3)\n",
      "Requirement already satisfied: matplotlib in c:\\users\\trish\\anaconda3\\lib\\site-packages (from missingno) (3.7.2)\n",
      "Requirement already satisfied: scipy in c:\\users\\trish\\anaconda3\\lib\\site-packages (from missingno) (1.11.1)\n",
      "Requirement already satisfied: seaborn in c:\\users\\trish\\anaconda3\\lib\\site-packages (from missingno) (0.12.2)\n",
      "Requirement already satisfied: contourpy>=1.0.1 in c:\\users\\trish\\anaconda3\\lib\\site-packages (from matplotlib->missingno) (1.0.5)\n",
      "Requirement already satisfied: cycler>=0.10 in c:\\users\\trish\\anaconda3\\lib\\site-packages (from matplotlib->missingno) (0.11.0)\n",
      "Requirement already satisfied: fonttools>=4.22.0 in c:\\users\\trish\\anaconda3\\lib\\site-packages (from matplotlib->missingno) (4.25.0)\n",
      "Requirement already satisfied: kiwisolver>=1.0.1 in c:\\users\\trish\\anaconda3\\lib\\site-packages (from matplotlib->missingno) (1.4.4)\n",
      "Requirement already satisfied: packaging>=20.0 in c:\\users\\trish\\anaconda3\\lib\\site-packages (from matplotlib->missingno) (23.1)\n",
      "Requirement already satisfied: pillow>=6.2.0 in c:\\users\\trish\\anaconda3\\lib\\site-packages (from matplotlib->missingno) (9.4.0)\n",
      "Requirement already satisfied: pyparsing<3.1,>=2.3.1 in c:\\users\\trish\\anaconda3\\lib\\site-packages (from matplotlib->missingno) (3.0.9)\n",
      "Requirement already satisfied: python-dateutil>=2.7 in c:\\users\\trish\\anaconda3\\lib\\site-packages (from matplotlib->missingno) (2.8.2)\n",
      "Requirement already satisfied: pandas>=0.25 in c:\\users\\trish\\anaconda3\\lib\\site-packages (from seaborn->missingno) (2.0.3)\n",
      "Requirement already satisfied: pytz>=2020.1 in c:\\users\\trish\\anaconda3\\lib\\site-packages (from pandas>=0.25->seaborn->missingno) (2023.3.post1)\n",
      "Requirement already satisfied: tzdata>=2022.1 in c:\\users\\trish\\anaconda3\\lib\\site-packages (from pandas>=0.25->seaborn->missingno) (2023.3)\n",
      "Requirement already satisfied: six>=1.5 in c:\\users\\trish\\anaconda3\\lib\\site-packages (from python-dateutil>=2.7->matplotlib->missingno) (1.16.0)\n",
      "Note: you may need to restart the kernel to use updated packages.\n"
     ]
    }
   ],
   "source": [
    "pip install missingno"
   ]
  },
  {
   "cell_type": "code",
   "execution_count": 54,
   "metadata": {},
   "outputs": [
    {
     "data": {
      "text/plain": [
       "<Axes: >"
      ]
     },
     "execution_count": 54,
     "metadata": {},
     "output_type": "execute_result"
    },
    {
     "data": {
      "image/png": "[encoded data removed]",
      "text/plain": [
       "<Figure size 2500x1000 with 2 Axes>"
      ]
     },
     "metadata": {},
     "output_type": "display_data"
    }
   ],
   "source": [
    "import missingno as msno \n",
    "# Visualize missing values as a matrix \n",
    "msno.matrix(penguin_dataset) "
   ]
  },
  {
   "cell_type": "code",
   "execution_count": 55,
   "metadata": {},
   "outputs": [
    {
     "data": {
      "text/plain": [
       "species              0\n",
       "island               0\n",
       "bill_length_mm       0\n",
       "bill_depth_mm        0\n",
       "flipper_length_mm    0\n",
       "body_mass_g          0\n",
       "sex                  0\n",
       "dtype: int64"
      ]
     },
     "execution_count": 55,
     "metadata": {},
     "output_type": "execute_result"
    }
   ],
   "source": [
    "# Clean up missing values by dropping missing rows\n",
    "penguin_dataset_cleaned = penguin_dataset.dropna()\n",
    "penguin_dataset_cleaned.isnull().sum()"
   ]
  },
  {
   "cell_type": "code",
   "execution_count": 56,
   "metadata": {},
   "outputs": [
    {
     "data": {
      "text/html": [
       "<div>\n",
       "<style scoped>\n",
       "    .dataframe tbody tr th:only-of-type {\n",
       "        vertical-align: middle;\n",
       "    }\n",
       "\n",
       "    .dataframe tbody tr th {\n",
       "        vertical-align: top;\n",
       "    }\n",
       "\n",
       "    .dataframe thead th {\n",
       "        text-align: right;\n",
       "    }\n",
       "</style>\n",
       "<table border=\"1\" class=\"dataframe\">\n",
       "  <thead>\n",
       "    <tr style=\"text-align: right;\">\n",
       "      <th></th>\n",
       "      <th>bill_length_mm</th>\n",
       "      <th>bill_depth_mm</th>\n",
       "      <th>flipper_length_mm</th>\n",
       "      <th>body_mass_g</th>\n",
       "    </tr>\n",
       "  </thead>\n",
       "  <tbody>\n",
       "    <tr>\n",
       "      <th>count</th>\n",
       "      <td>342.000000</td>\n",
       "      <td>342.000000</td>\n",
       "      <td>342.000000</td>\n",
       "      <td>342.000000</td>\n",
       "    </tr>\n",
       "    <tr>\n",
       "      <th>mean</th>\n",
       "      <td>43.921930</td>\n",
       "      <td>17.151170</td>\n",
       "      <td>200.915205</td>\n",
       "      <td>4201.754386</td>\n",
       "    </tr>\n",
       "    <tr>\n",
       "      <th>std</th>\n",
       "      <td>5.459584</td>\n",
       "      <td>1.974793</td>\n",
       "      <td>14.061714</td>\n",
       "      <td>801.954536</td>\n",
       "    </tr>\n",
       "    <tr>\n",
       "      <th>min</th>\n",
       "      <td>32.100000</td>\n",
       "      <td>13.100000</td>\n",
       "      <td>172.000000</td>\n",
       "      <td>2700.000000</td>\n",
       "    </tr>\n",
       "    <tr>\n",
       "      <th>25%</th>\n",
       "      <td>39.225000</td>\n",
       "      <td>15.600000</td>\n",
       "      <td>190.000000</td>\n",
       "      <td>3550.000000</td>\n",
       "    </tr>\n",
       "    <tr>\n",
       "      <th>50%</th>\n",
       "      <td>44.450000</td>\n",
       "      <td>17.300000</td>\n",
       "      <td>197.000000</td>\n",
       "      <td>4050.000000</td>\n",
       "    </tr>\n",
       "    <tr>\n",
       "      <th>75%</th>\n",
       "      <td>48.500000</td>\n",
       "      <td>18.700000</td>\n",
       "      <td>213.000000</td>\n",
       "      <td>4750.000000</td>\n",
       "    </tr>\n",
       "    <tr>\n",
       "      <th>max</th>\n",
       "      <td>59.600000</td>\n",
       "      <td>21.500000</td>\n",
       "      <td>231.000000</td>\n",
       "      <td>6300.000000</td>\n",
       "    </tr>\n",
       "  </tbody>\n",
       "</table>\n",
       "</div>"
      ],
      "text/plain": [
       "       bill_length_mm  bill_depth_mm  flipper_length_mm  body_mass_g\n",
       "count      342.000000     342.000000         342.000000   342.000000\n",
       "mean        43.921930      17.151170         200.915205  4201.754386\n",
       "std          5.459584       1.974793          14.061714   801.954536\n",
       "min         32.100000      13.100000         172.000000  2700.000000\n",
       "25%         39.225000      15.600000         190.000000  3550.000000\n",
       "50%         44.450000      17.300000         197.000000  4050.000000\n",
       "75%         48.500000      18.700000         213.000000  4750.000000\n",
       "max         59.600000      21.500000         231.000000  6300.000000"
      ]
     },
     "execution_count": 56,
     "metadata": {},
     "output_type": "execute_result"
    }
   ],
   "source": [
    "penguin_dataset.describe()"
   ]
  },
  {
   "cell_type": "code",
   "execution_count": 57,
   "metadata": {},
   "outputs": [
    {
     "data": {
      "text/html": [
       "<div>\n",
       "<style scoped>\n",
       "    .dataframe tbody tr th:only-of-type {\n",
       "        vertical-align: middle;\n",
       "    }\n",
       "\n",
       "    .dataframe tbody tr th {\n",
       "        vertical-align: top;\n",
       "    }\n",
       "\n",
       "    .dataframe thead th {\n",
       "        text-align: right;\n",
       "    }\n",
       "</style>\n",
       "<table border=\"1\" class=\"dataframe\">\n",
       "  <thead>\n",
       "    <tr style=\"text-align: right;\">\n",
       "      <th></th>\n",
       "      <th>species</th>\n",
       "      <th>island</th>\n",
       "      <th>bill_length_mm</th>\n",
       "      <th>bill_depth_mm</th>\n",
       "      <th>flipper_length_mm</th>\n",
       "      <th>body_mass_g</th>\n",
       "      <th>sex</th>\n",
       "    </tr>\n",
       "  </thead>\n",
       "  <tbody>\n",
       "    <tr>\n",
       "      <th>220</th>\n",
       "      <td>Gentoo</td>\n",
       "      <td>Biscoe</td>\n",
       "      <td>46.1</td>\n",
       "      <td>13.2</td>\n",
       "      <td>211.0</td>\n",
       "      <td>4500.0</td>\n",
       "      <td>FEMALE</td>\n",
       "    </tr>\n",
       "    <tr>\n",
       "      <th>221</th>\n",
       "      <td>Gentoo</td>\n",
       "      <td>Biscoe</td>\n",
       "      <td>50.0</td>\n",
       "      <td>16.3</td>\n",
       "      <td>230.0</td>\n",
       "      <td>5700.0</td>\n",
       "      <td>MALE</td>\n",
       "    </tr>\n",
       "    <tr>\n",
       "      <th>222</th>\n",
       "      <td>Gentoo</td>\n",
       "      <td>Biscoe</td>\n",
       "      <td>48.7</td>\n",
       "      <td>14.1</td>\n",
       "      <td>210.0</td>\n",
       "      <td>4450.0</td>\n",
       "      <td>FEMALE</td>\n",
       "    </tr>\n",
       "    <tr>\n",
       "      <th>223</th>\n",
       "      <td>Gentoo</td>\n",
       "      <td>Biscoe</td>\n",
       "      <td>50.0</td>\n",
       "      <td>15.2</td>\n",
       "      <td>218.0</td>\n",
       "      <td>5700.0</td>\n",
       "      <td>MALE</td>\n",
       "    </tr>\n",
       "    <tr>\n",
       "      <th>224</th>\n",
       "      <td>Gentoo</td>\n",
       "      <td>Biscoe</td>\n",
       "      <td>47.6</td>\n",
       "      <td>14.5</td>\n",
       "      <td>215.0</td>\n",
       "      <td>5400.0</td>\n",
       "      <td>MALE</td>\n",
       "    </tr>\n",
       "  </tbody>\n",
       "</table>\n",
       "</div>"
      ],
      "text/plain": [
       "    species  island  bill_length_mm  bill_depth_mm  flipper_length_mm  \\\n",
       "220  Gentoo  Biscoe            46.1           13.2              211.0   \n",
       "221  Gentoo  Biscoe            50.0           16.3              230.0   \n",
       "222  Gentoo  Biscoe            48.7           14.1              210.0   \n",
       "223  Gentoo  Biscoe            50.0           15.2              218.0   \n",
       "224  Gentoo  Biscoe            47.6           14.5              215.0   \n",
       "\n",
       "     body_mass_g     sex  \n",
       "220       4500.0  FEMALE  \n",
       "221       5700.0    MALE  \n",
       "222       4450.0  FEMALE  \n",
       "223       5700.0    MALE  \n",
       "224       5400.0    MALE  "
      ]
     },
     "execution_count": 57,
     "metadata": {},
     "output_type": "execute_result"
    }
   ],
   "source": [
    "# Select pengiuns with 'Gentoo' species\n",
    "\n",
    "gentoo_penguins = penguin_dataset_cleaned[penguin_dataset_cleaned[\"species\"] == \"Gentoo\"]\n",
    "\n",
    "gentoo_penguins.head()"
   ]
  },
  {
   "cell_type": "code",
   "execution_count": 58,
   "metadata": {},
   "outputs": [],
   "source": [
    "# Select male and female gentoos\n",
    "\n",
    "male_gentoo = gentoo_penguins[gentoo_penguins[\"sex\"] == \"MALE\"]\n",
    "female_gentoo = gentoo_penguins[gentoo_penguins[\"sex\"] == \"FEMALE\"]"
   ]
  },
  {
   "cell_type": "code",
   "execution_count": 59,
   "metadata": {},
   "outputs": [
    {
     "data": {
      "text/html": [
       "<div>\n",
       "<style scoped>\n",
       "    .dataframe tbody tr th:only-of-type {\n",
       "        vertical-align: middle;\n",
       "    }\n",
       "\n",
       "    .dataframe tbody tr th {\n",
       "        vertical-align: top;\n",
       "    }\n",
       "\n",
       "    .dataframe thead th {\n",
       "        text-align: right;\n",
       "    }\n",
       "</style>\n",
       "<table border=\"1\" class=\"dataframe\">\n",
       "  <thead>\n",
       "    <tr style=\"text-align: right;\">\n",
       "      <th></th>\n",
       "      <th>species</th>\n",
       "      <th>island</th>\n",
       "      <th>bill_length_mm</th>\n",
       "      <th>bill_depth_mm</th>\n",
       "      <th>flipper_length_mm</th>\n",
       "      <th>body_mass_g</th>\n",
       "      <th>sex</th>\n",
       "    </tr>\n",
       "  </thead>\n",
       "  <tbody>\n",
       "    <tr>\n",
       "      <th>221</th>\n",
       "      <td>Gentoo</td>\n",
       "      <td>Biscoe</td>\n",
       "      <td>50.0</td>\n",
       "      <td>16.3</td>\n",
       "      <td>230.0</td>\n",
       "      <td>5700.0</td>\n",
       "      <td>MALE</td>\n",
       "    </tr>\n",
       "    <tr>\n",
       "      <th>223</th>\n",
       "      <td>Gentoo</td>\n",
       "      <td>Biscoe</td>\n",
       "      <td>50.0</td>\n",
       "      <td>15.2</td>\n",
       "      <td>218.0</td>\n",
       "      <td>5700.0</td>\n",
       "      <td>MALE</td>\n",
       "    </tr>\n",
       "    <tr>\n",
       "      <th>224</th>\n",
       "      <td>Gentoo</td>\n",
       "      <td>Biscoe</td>\n",
       "      <td>47.6</td>\n",
       "      <td>14.5</td>\n",
       "      <td>215.0</td>\n",
       "      <td>5400.0</td>\n",
       "      <td>MALE</td>\n",
       "    </tr>\n",
       "  </tbody>\n",
       "</table>\n",
       "</div>"
      ],
      "text/plain": [
       "    species  island  bill_length_mm  bill_depth_mm  flipper_length_mm  \\\n",
       "221  Gentoo  Biscoe            50.0           16.3              230.0   \n",
       "223  Gentoo  Biscoe            50.0           15.2              218.0   \n",
       "224  Gentoo  Biscoe            47.6           14.5              215.0   \n",
       "\n",
       "     body_mass_g   sex  \n",
       "221       5700.0  MALE  \n",
       "223       5700.0  MALE  \n",
       "224       5400.0  MALE  "
      ]
     },
     "execution_count": 59,
     "metadata": {},
     "output_type": "execute_result"
    }
   ],
   "source": [
    "male_gentoo.head(3)"
   ]
  },
  {
   "cell_type": "code",
   "execution_count": 60,
   "metadata": {},
   "outputs": [
    {
     "data": {
      "text/html": [
       "<div>\n",
       "<style scoped>\n",
       "    .dataframe tbody tr th:only-of-type {\n",
       "        vertical-align: middle;\n",
       "    }\n",
       "\n",
       "    .dataframe tbody tr th {\n",
       "        vertical-align: top;\n",
       "    }\n",
       "\n",
       "    .dataframe thead th {\n",
       "        text-align: right;\n",
       "    }\n",
       "</style>\n",
       "<table border=\"1\" class=\"dataframe\">\n",
       "  <thead>\n",
       "    <tr style=\"text-align: right;\">\n",
       "      <th></th>\n",
       "      <th>species</th>\n",
       "      <th>island</th>\n",
       "      <th>bill_length_mm</th>\n",
       "      <th>bill_depth_mm</th>\n",
       "      <th>flipper_length_mm</th>\n",
       "      <th>body_mass_g</th>\n",
       "      <th>sex</th>\n",
       "    </tr>\n",
       "  </thead>\n",
       "  <tbody>\n",
       "    <tr>\n",
       "      <th>220</th>\n",
       "      <td>Gentoo</td>\n",
       "      <td>Biscoe</td>\n",
       "      <td>46.1</td>\n",
       "      <td>13.2</td>\n",
       "      <td>211.0</td>\n",
       "      <td>4500.0</td>\n",
       "      <td>FEMALE</td>\n",
       "    </tr>\n",
       "    <tr>\n",
       "      <th>222</th>\n",
       "      <td>Gentoo</td>\n",
       "      <td>Biscoe</td>\n",
       "      <td>48.7</td>\n",
       "      <td>14.1</td>\n",
       "      <td>210.0</td>\n",
       "      <td>4450.0</td>\n",
       "      <td>FEMALE</td>\n",
       "    </tr>\n",
       "    <tr>\n",
       "      <th>225</th>\n",
       "      <td>Gentoo</td>\n",
       "      <td>Biscoe</td>\n",
       "      <td>46.5</td>\n",
       "      <td>13.5</td>\n",
       "      <td>210.0</td>\n",
       "      <td>4550.0</td>\n",
       "      <td>FEMALE</td>\n",
       "    </tr>\n",
       "  </tbody>\n",
       "</table>\n",
       "</div>"
      ],
      "text/plain": [
       "    species  island  bill_length_mm  bill_depth_mm  flipper_length_mm  \\\n",
       "220  Gentoo  Biscoe            46.1           13.2              211.0   \n",
       "222  Gentoo  Biscoe            48.7           14.1              210.0   \n",
       "225  Gentoo  Biscoe            46.5           13.5              210.0   \n",
       "\n",
       "     body_mass_g     sex  \n",
       "220       4500.0  FEMALE  \n",
       "222       4450.0  FEMALE  \n",
       "225       4550.0  FEMALE  "
      ]
     },
     "execution_count": 60,
     "metadata": {},
     "output_type": "execute_result"
    }
   ],
   "source": [
    "female_gentoo.head(3)"
   ]
  },
  {
   "cell_type": "code",
   "execution_count": 61,
   "metadata": {},
   "outputs": [],
   "source": [
    "# A t-test on the penguins data is set to investigate whether there is evidence of a significant difference \n",
    "# in the body mass of male and female gentoo penguins.\n",
    "# Ref: https://docs.scipy.org/doc/scipy/reference/generated/scipy.stats.ttest_ind.html\n",
    "statistics, p_value = ttest_ind(male_gentoo[\"body_mass_g\"], female_gentoo[\"body_mass_g\"])"
   ]
  },
  {
   "cell_type": "code",
   "execution_count": 62,
   "metadata": {},
   "outputs": [
    {
     "name": "stdout",
     "output_type": "stream",
     "text": [
      "There is significant evidence of a difference in body mass between male and female Gentoo penguins.\n"
     ]
    }
   ],
   "source": [
    "# Determine if the difference is significant at a specific significance level (e.g., 0.05)\n",
    "if p_value < 0.05:\n",
    "    print(\"There is significant evidence of a difference in body mass between male and female Gentoo penguins.\")\n",
    "else:\n",
    "    print(\"There is no significant evidence of a difference in body mass between male and female Gentoo penguins.\")\n"
   ]
  },
  {
   "cell_type": "markdown",
   "metadata": {},
   "source": [
    "***\n",
    "\n",
    "## End"
   ]
  },
  {
   "cell_type": "code",
   "execution_count": 63,
   "metadata": {},
   "outputs": [],
   "source": [
    "import numpy as np\n",
    "import pandas as pd\n",
    "import matplotlib.pyplot as plt\n",
    "import seaborn as sns \n",
    "from sklearn import datasets\n",
    "from sklearn import metrics\n",
    "from sklearn.neighbors import KNeighborsClassifier"
   ]
  },
  {
   "cell_type": "markdown",
   "metadata": {},
   "source": [
    "# Task 4\n",
    "\n",
    "In this task, the famous iris data set will be used to examine if the Setosa class is easily separable from the other two classes.  \n",
    "\n",
    "## scikit-learn\n",
    "\n",
    "A robust Python machine learning framework called Scikit-learn offers a plethora of tools for creating machine learning models.[15] In the context of machine learning, a variety of preprocessing methods are available to prepare data with Scikit-learn, such as the ability to handle missing values, scale features, encode categorical variables, and divide data into training and testing sets. [16]It provides machine learning algorithms including classification, clustering, regression and more.\n",
    "Users can easily instantiate, train, and validate models using scikit-learn's consistent API. For instance, you can create a linear regression model, train it with your data, and make predictions.[16] Tools for assessing model performance using different measures, such as accuracy, are provided by Scikit-learn. It also enables the creation of pipelines that connect together several feature selection, model fitting, and preprocessing stages into a single entity. This facilitates the streamlining of workflow.[16] An extensive and user-friendly ecosystem for machine learning tasks is offered by Scikit-learn.\n",
    "\n",
    "## k Nearest Neighbour\n",
    "\n",
    "A straightforward yet powerful supervised machine learning approach for both regression and classification applications is the k-Nearest Neighbors (k-NN) algorithm.[18] This kind of algorithm uses instance-based learning. The training dataset is fully memorized, and predictions are made by comparing new cases to known examples in the training data.[18] When a new data point is introduced for classification, k-NN finds the 'k' closest data points (neighbors) using a selected distance metric (such as the Euclidean distance).[19] The most common class among these neighbors is then assigned to the new point.  Regression uses the 'k' nearest neighbor's values as a mean to predict the value of the new data point. [19]To get best performance using k-NN, it is important to consider the distance metric, data preprocessing methods, and 'k' selection. For improved predictions, it's also critical to manage missing values and feature scaling correctly.[19]"
   ]
  },
  {
   "cell_type": "code",
   "execution_count": 64,
   "metadata": {},
   "outputs": [],
   "source": [
    "# Data frames.\n",
    "import pandas as pd\n",
    "\n",
    "# Machine Learning.\n",
    "import sklearn as sk"
   ]
  },
  {
   "cell_type": "code",
   "execution_count": 65,
   "metadata": {},
   "outputs": [
    {
     "data": {
      "text/html": [
       "<style>#sk-container-id-1 {color: black;}#sk-container-id-1 pre{padding: 0;}#sk-container-id-1 div.sk-toggleable {background-color: white;}#sk-container-id-1 label.sk-toggleable__label {cursor: pointer;display: block;width: 100%;margin-bottom: 0;padding: 0.3em;box-sizing: border-box;text-align: center;}#sk-container-id-1 label.sk-toggleable__label-arrow:before {content: \"▸\";float: left;margin-right: 0.25em;color: #696969;}#sk-container-id-1 label.sk-toggleable__label-arrow:hover:before {color: black;}#sk-container-id-1 div.sk-estimator:hover label.sk-toggleable__label-arrow:before {color: black;}#sk-container-id-1 div.sk-toggleable__content {max-height: 0;max-width: 0;overflow: hidden;text-align: left;background-color: #f0f8ff;}#sk-container-id-1 div.sk-toggleable__content pre {margin: 0.2em;color: black;border-radius: 0.25em;background-color: #f0f8ff;}#sk-container-id-1 input.sk-toggleable__control:checked~div.sk-toggleable__content {max-height: 200px;max-width: 100%;overflow: auto;}#sk-container-id-1 input.sk-toggleable__control:checked~label.sk-toggleable__label-arrow:before {content: \"▾\";}#sk-container-id-1 div.sk-estimator input.sk-toggleable__control:checked~label.sk-toggleable__label {background-color: #d4ebff;}#sk-container-id-1 div.sk-label input.sk-toggleable__control:checked~label.sk-toggleable__label {background-color: #d4ebff;}#sk-container-id-1 input.sk-hidden--visually {border: 0;clip: rect(1px 1px 1px 1px);clip: rect(1px, 1px, 1px, 1px);height: 1px;margin: -1px;overflow: hidden;padding: 0;position: absolute;width: 1px;}#sk-container-id-1 div.sk-estimator {font-family: monospace;background-color: #f0f8ff;border: 1px dotted black;border-radius: 0.25em;box-sizing: border-box;margin-bottom: 0.5em;}#sk-container-id-1 div.sk-estimator:hover {background-color: #d4ebff;}#sk-container-id-1 div.sk-parallel-item::after {content: \"\";width: 100%;border-bottom: 1px solid gray;flex-grow: 1;}#sk-container-id-1 div.sk-label:hover label.sk-toggleable__label {background-color: #d4ebff;}#sk-container-id-1 div.sk-serial::before {content: \"\";position: absolute;border-left: 1px solid gray;box-sizing: border-box;top: 0;bottom: 0;left: 50%;z-index: 0;}#sk-container-id-1 div.sk-serial {display: flex;flex-direction: column;align-items: center;background-color: white;padding-right: 0.2em;padding-left: 0.2em;position: relative;}#sk-container-id-1 div.sk-item {position: relative;z-index: 1;}#sk-container-id-1 div.sk-parallel {display: flex;align-items: stretch;justify-content: center;background-color: white;position: relative;}#sk-container-id-1 div.sk-item::before, #sk-container-id-1 div.sk-parallel-item::before {content: \"\";position: absolute;border-left: 1px solid gray;box-sizing: border-box;top: 0;bottom: 0;left: 50%;z-index: -1;}#sk-container-id-1 div.sk-parallel-item {display: flex;flex-direction: column;z-index: 1;position: relative;background-color: white;}#sk-container-id-1 div.sk-parallel-item:first-child::after {align-self: flex-end;width: 50%;}#sk-container-id-1 div.sk-parallel-item:last-child::after {align-self: flex-start;width: 50%;}#sk-container-id-1 div.sk-parallel-item:only-child::after {width: 0;}#sk-container-id-1 div.sk-dashed-wrapped {border: 1px dashed gray;margin: 0 0.4em 0.5em 0.4em;box-sizing: border-box;padding-bottom: 0.4em;background-color: white;}#sk-container-id-1 div.sk-label label {font-family: monospace;font-weight: bold;display: inline-block;line-height: 1.2em;}#sk-container-id-1 div.sk-label-container {text-align: center;}#sk-container-id-1 div.sk-container {/* jupyter's `normalize.less` sets `[hidden] { display: none; }` but bootstrap.min.css set `[hidden] { display: none !important; }` so we also need the `!important` here to be able to override the default hidden behavior on the sphinx rendered scikit-learn.org. See: https://github.com/scikit-learn/scikit-learn/issues/21755 */display: inline-block !important;position: relative;}#sk-container-id-1 div.sk-text-repr-fallback {display: none;}</style><div id=\"sk-container-id-1\" class=\"sk-top-container\"><div class=\"sk-text-repr-fallback\"><pre>RandomForestClassifier(random_state=0)</pre><b>In a Jupyter environment, please rerun this cell to show the HTML representation or trust the notebook. <br />On GitHub, the HTML representation is unable to render, please try loading this page with nbviewer.org.</b></div><div class=\"sk-container\" hidden><div class=\"sk-item\"><div class=\"sk-estimator sk-toggleable\"><input class=\"sk-toggleable__control sk-hidden--visually\" id=\"sk-estimator-id-1\" type=\"checkbox\" checked><label for=\"sk-estimator-id-1\" class=\"sk-toggleable__label sk-toggleable__label-arrow\">RandomForestClassifier</label><div class=\"sk-toggleable__content\"><pre>RandomForestClassifier(random_state=0)</pre></div></div></div></div></div>"
      ],
      "text/plain": [
       "RandomForestClassifier(random_state=0)"
      ]
     },
     "execution_count": 65,
     "metadata": {},
     "output_type": "execute_result"
    }
   ],
   "source": [
    "from sklearn.ensemble import RandomForestClassifier\n",
    "\n",
    "clf = RandomForestClassifier(random_state=0)\n",
    "X = [[ 1,  2,  3],  # 2 samples, 3 features\n",
    "     [11, 12, 13]]\n",
    "y = [0, 1]  # classes of each sample\n",
    "clf.fit(X, y)"
   ]
  },
  {
   "cell_type": "code",
   "execution_count": 66,
   "metadata": {},
   "outputs": [],
   "source": [
    "# In a Jupyter environment, please rerun this cell to show the HTML representation or trust the notebook.\n",
    "# On GitHub, the HTML representation is unable to render, please try loading this page with nbviewer.org."
   ]
  },
  {
   "cell_type": "code",
   "execution_count": 67,
   "metadata": {},
   "outputs": [
    {
     "data": {
      "text/plain": [
       "array([0, 1])"
      ]
     },
     "execution_count": 67,
     "metadata": {},
     "output_type": "execute_result"
    }
   ],
   "source": [
    "clf.predict(X)"
   ]
  },
  {
   "cell_type": "code",
   "execution_count": 68,
   "metadata": {},
   "outputs": [
    {
     "data": {
      "text/plain": [
       "array([0, 1])"
      ]
     },
     "execution_count": 68,
     "metadata": {},
     "output_type": "execute_result"
    }
   ],
   "source": [
    "clf.predict([[4, 5, 6], [14, 15, 16]])"
   ]
  },
  {
   "cell_type": "markdown",
   "metadata": {},
   "source": [
    "## kNN in scikit-learn\n",
    "\n",
    "***"
   ]
  },
  {
   "cell_type": "code",
   "execution_count": 69,
   "metadata": {},
   "outputs": [
    {
     "data": {
      "text/plain": [
       "{'data': array([[5.1, 3.5, 1.4, 0.2],\n",
       "        [4.9, 3. , 1.4, 0.2],\n",
       "        [4.7, 3.2, 1.3, 0.2],\n",
       "        [4.6, 3.1, 1.5, 0.2],\n",
       "        [5. , 3.6, 1.4, 0.2],\n",
       "        [5.4, 3.9, 1.7, 0.4],\n",
       "        [4.6, 3.4, 1.4, 0.3],\n",
       "        [5. , 3.4, 1.5, 0.2],\n",
       "        [4.4, 2.9, 1.4, 0.2],\n",
       "        [4.9, 3.1, 1.5, 0.1],\n",
       "        [5.4, 3.7, 1.5, 0.2],\n",
       "        [4.8, 3.4, 1.6, 0.2],\n",
       "        [4.8, 3. , 1.4, 0.1],\n",
       "        [4.3, 3. , 1.1, 0.1],\n",
       "        [5.8, 4. , 1.2, 0.2],\n",
       "        [5.7, 4.4, 1.5, 0.4],\n",
       "        [5.4, 3.9, 1.3, 0.4],\n",
       "        [5.1, 3.5, 1.4, 0.3],\n",
       "        [5.7, 3.8, 1.7, 0.3],\n",
       "        [5.1, 3.8, 1.5, 0.3],\n",
       "        [5.4, 3.4, 1.7, 0.2],\n",
       "        [5.1, 3.7, 1.5, 0.4],\n",
       "        [4.6, 3.6, 1. , 0.2],\n",
       "        [5.1, 3.3, 1.7, 0.5],\n",
       "        [4.8, 3.4, 1.9, 0.2],\n",
       "        [5. , 3. , 1.6, 0.2],\n",
       "        [5. , 3.4, 1.6, 0.4],\n",
       "        [5.2, 3.5, 1.5, 0.2],\n",
       "        [5.2, 3.4, 1.4, 0.2],\n",
       "        [4.7, 3.2, 1.6, 0.2],\n",
       "        [4.8, 3.1, 1.6, 0.2],\n",
       "        [5.4, 3.4, 1.5, 0.4],\n",
       "        [5.2, 4.1, 1.5, 0.1],\n",
       "        [5.5, 4.2, 1.4, 0.2],\n",
       "        [4.9, 3.1, 1.5, 0.2],\n",
       "        [5. , 3.2, 1.2, 0.2],\n",
       "        [5.5, 3.5, 1.3, 0.2],\n",
       "        [4.9, 3.6, 1.4, 0.1],\n",
       "        [4.4, 3. , 1.3, 0.2],\n",
       "        [5.1, 3.4, 1.5, 0.2],\n",
       "        [5. , 3.5, 1.3, 0.3],\n",
       "        [4.5, 2.3, 1.3, 0.3],\n",
       "        [4.4, 3.2, 1.3, 0.2],\n",
       "        [5. , 3.5, 1.6, 0.6],\n",
       "        [5.1, 3.8, 1.9, 0.4],\n",
       "        [4.8, 3. , 1.4, 0.3],\n",
       "        [5.1, 3.8, 1.6, 0.2],\n",
       "        [4.6, 3.2, 1.4, 0.2],\n",
       "        [5.3, 3.7, 1.5, 0.2],\n",
       "        [5. , 3.3, 1.4, 0.2],\n",
       "        [7. , 3.2, 4.7, 1.4],\n",
       "        [6.4, 3.2, 4.5, 1.5],\n",
       "        [6.9, 3.1, 4.9, 1.5],\n",
       "        [5.5, 2.3, 4. , 1.3],\n",
       "        [6.5, 2.8, 4.6, 1.5],\n",
       "        [5.7, 2.8, 4.5, 1.3],\n",
       "        [6.3, 3.3, 4.7, 1.6],\n",
       "        [4.9, 2.4, 3.3, 1. ],\n",
       "        [6.6, 2.9, 4.6, 1.3],\n",
       "        [5.2, 2.7, 3.9, 1.4],\n",
       "        [5. , 2. , 3.5, 1. ],\n",
       "        [5.9, 3. , 4.2, 1.5],\n",
       "        [6. , 2.2, 4. , 1. ],\n",
       "        [6.1, 2.9, 4.7, 1.4],\n",
       "        [5.6, 2.9, 3.6, 1.3],\n",
       "        [6.7, 3.1, 4.4, 1.4],\n",
       "        [5.6, 3. , 4.5, 1.5],\n",
       "        [5.8, 2.7, 4.1, 1. ],\n",
       "        [6.2, 2.2, 4.5, 1.5],\n",
       "        [5.6, 2.5, 3.9, 1.1],\n",
       "        [5.9, 3.2, 4.8, 1.8],\n",
       "        [6.1, 2.8, 4. , 1.3],\n",
       "        [6.3, 2.5, 4.9, 1.5],\n",
       "        [6.1, 2.8, 4.7, 1.2],\n",
       "        [6.4, 2.9, 4.3, 1.3],\n",
       "        [6.6, 3. , 4.4, 1.4],\n",
       "        [6.8, 2.8, 4.8, 1.4],\n",
       "        [6.7, 3. , 5. , 1.7],\n",
       "        [6. , 2.9, 4.5, 1.5],\n",
       "        [5.7, 2.6, 3.5, 1. ],\n",
       "        [5.5, 2.4, 3.8, 1.1],\n",
       "        [5.5, 2.4, 3.7, 1. ],\n",
       "        [5.8, 2.7, 3.9, 1.2],\n",
       "        [6. , 2.7, 5.1, 1.6],\n",
       "        [5.4, 3. , 4.5, 1.5],\n",
       "        [6. , 3.4, 4.5, 1.6],\n",
       "        [6.7, 3.1, 4.7, 1.5],\n",
       "        [6.3, 2.3, 4.4, 1.3],\n",
       "        [5.6, 3. , 4.1, 1.3],\n",
       "        [5.5, 2.5, 4. , 1.3],\n",
       "        [5.5, 2.6, 4.4, 1.2],\n",
       "        [6.1, 3. , 4.6, 1.4],\n",
       "        [5.8, 2.6, 4. , 1.2],\n",
       "        [5. , 2.3, 3.3, 1. ],\n",
       "        [5.6, 2.7, 4.2, 1.3],\n",
       "        [5.7, 3. , 4.2, 1.2],\n",
       "        [5.7, 2.9, 4.2, 1.3],\n",
       "        [6.2, 2.9, 4.3, 1.3],\n",
       "        [5.1, 2.5, 3. , 1.1],\n",
       "        [5.7, 2.8, 4.1, 1.3],\n",
       "        [6.3, 3.3, 6. , 2.5],\n",
       "        [5.8, 2.7, 5.1, 1.9],\n",
       "        [7.1, 3. , 5.9, 2.1],\n",
       "        [6.3, 2.9, 5.6, 1.8],\n",
       "        [6.5, 3. , 5.8, 2.2],\n",
       "        [7.6, 3. , 6.6, 2.1],\n",
       "        [4.9, 2.5, 4.5, 1.7],\n",
       "        [7.3, 2.9, 6.3, 1.8],\n",
       "        [6.7, 2.5, 5.8, 1.8],\n",
       "        [7.2, 3.6, 6.1, 2.5],\n",
       "        [6.5, 3.2, 5.1, 2. ],\n",
       "        [6.4, 2.7, 5.3, 1.9],\n",
       "        [6.8, 3. , 5.5, 2.1],\n",
       "        [5.7, 2.5, 5. , 2. ],\n",
       "        [5.8, 2.8, 5.1, 2.4],\n",
       "        [6.4, 3.2, 5.3, 2.3],\n",
       "        [6.5, 3. , 5.5, 1.8],\n",
       "        [7.7, 3.8, 6.7, 2.2],\n",
       "        [7.7, 2.6, 6.9, 2.3],\n",
       "        [6. , 2.2, 5. , 1.5],\n",
       "        [6.9, 3.2, 5.7, 2.3],\n",
       "        [5.6, 2.8, 4.9, 2. ],\n",
       "        [7.7, 2.8, 6.7, 2. ],\n",
       "        [6.3, 2.7, 4.9, 1.8],\n",
       "        [6.7, 3.3, 5.7, 2.1],\n",
       "        [7.2, 3.2, 6. , 1.8],\n",
       "        [6.2, 2.8, 4.8, 1.8],\n",
       "        [6.1, 3. , 4.9, 1.8],\n",
       "        [6.4, 2.8, 5.6, 2.1],\n",
       "        [7.2, 3. , 5.8, 1.6],\n",
       "        [7.4, 2.8, 6.1, 1.9],\n",
       "        [7.9, 3.8, 6.4, 2. ],\n",
       "        [6.4, 2.8, 5.6, 2.2],\n",
       "        [6.3, 2.8, 5.1, 1.5],\n",
       "        [6.1, 2.6, 5.6, 1.4],\n",
       "        [7.7, 3. , 6.1, 2.3],\n",
       "        [6.3, 3.4, 5.6, 2.4],\n",
       "        [6.4, 3.1, 5.5, 1.8],\n",
       "        [6. , 3. , 4.8, 1.8],\n",
       "        [6.9, 3.1, 5.4, 2.1],\n",
       "        [6.7, 3.1, 5.6, 2.4],\n",
       "        [6.9, 3.1, 5.1, 2.3],\n",
       "        [5.8, 2.7, 5.1, 1.9],\n",
       "        [6.8, 3.2, 5.9, 2.3],\n",
       "        [6.7, 3.3, 5.7, 2.5],\n",
       "        [6.7, 3. , 5.2, 2.3],\n",
       "        [6.3, 2.5, 5. , 1.9],\n",
       "        [6.5, 3. , 5.2, 2. ],\n",
       "        [6.2, 3.4, 5.4, 2.3],\n",
       "        [5.9, 3. , 5.1, 1.8]]),\n",
       " 'target': array([0, 0, 0, 0, 0, 0, 0, 0, 0, 0, 0, 0, 0, 0, 0, 0, 0, 0, 0, 0, 0, 0,\n",
       "        0, 0, 0, 0, 0, 0, 0, 0, 0, 0, 0, 0, 0, 0, 0, 0, 0, 0, 0, 0, 0, 0,\n",
       "        0, 0, 0, 0, 0, 0, 1, 1, 1, 1, 1, 1, 1, 1, 1, 1, 1, 1, 1, 1, 1, 1,\n",
       "        1, 1, 1, 1, 1, 1, 1, 1, 1, 1, 1, 1, 1, 1, 1, 1, 1, 1, 1, 1, 1, 1,\n",
       "        1, 1, 1, 1, 1, 1, 1, 1, 1, 1, 1, 1, 2, 2, 2, 2, 2, 2, 2, 2, 2, 2,\n",
       "        2, 2, 2, 2, 2, 2, 2, 2, 2, 2, 2, 2, 2, 2, 2, 2, 2, 2, 2, 2, 2, 2,\n",
       "        2, 2, 2, 2, 2, 2, 2, 2, 2, 2, 2, 2, 2, 2, 2, 2, 2, 2]),\n",
       " 'frame': None,\n",
       " 'target_names': array(['setosa', 'versicolor', 'virginica'], dtype='<U10'),\n",
       " 'DESCR': '.. _iris_dataset:\\n\\nIris plants dataset\\n--------------------\\n\\n**Data Set Characteristics:**\\n\\n    :Number of Instances: 150 (50 in each of three classes)\\n    :Number of Attributes: 4 numeric, predictive attributes and the class\\n    :Attribute Information:\\n        - sepal length in cm\\n        - sepal width in cm\\n        - petal length in cm\\n        - petal width in cm\\n        - class:\\n                - Iris-Setosa\\n                - Iris-Versicolour\\n                - Iris-Virginica\\n                \\n    :Summary Statistics:\\n\\n    ============== ==== ==== ======= ===== ====================\\n                    Min  Max   Mean    SD   Class Correlation\\n    ============== ==== ==== ======= ===== ====================\\n    sepal length:   4.3  7.9   5.84   0.83    0.7826\\n    sepal width:    2.0  4.4   3.05   0.43   -0.4194\\n    petal length:   1.0  6.9   3.76   1.76    0.9490  (high!)\\n    petal width:    0.1  2.5   1.20   0.76    0.9565  (high!)\\n    ============== ==== ==== ======= ===== ====================\\n\\n    :Missing Attribute Values: None\\n    :Class Distribution: 33.3% for each of 3 classes.\\n    :Creator: R.A. Fisher\\n    :Donor: Michael Marshall (MARSHALL%PLU@io.arc.nasa.gov)\\n    :Date: July, 1988\\n\\nThe famous Iris database, first used by Sir R.A. Fisher. The dataset is taken\\nfrom Fisher\\'s paper. Note that it\\'s the same as in R, but not as in the UCI\\nMachine Learning Repository, which has two wrong data points.\\n\\nThis is perhaps the best known database to be found in the\\npattern recognition literature.  Fisher\\'s paper is a classic in the field and\\nis referenced frequently to this day.  (See Duda & Hart, for example.)  The\\ndata set contains 3 classes of 50 instances each, where each class refers to a\\ntype of iris plant.  One class is linearly separable from the other 2; the\\nlatter are NOT linearly separable from each other.\\n\\n.. topic:: References\\n\\n   - Fisher, R.A. \"The use of multiple measurements in taxonomic problems\"\\n     Annual Eugenics, 7, Part II, 179-188 (1936); also in \"Contributions to\\n     Mathematical Statistics\" (John Wiley, NY, 1950).\\n   - Duda, R.O., & Hart, P.E. (1973) Pattern Classification and Scene Analysis.\\n     (Q327.D83) John Wiley & Sons.  ISBN 0-471-22361-1.  See page 218.\\n   - Dasarathy, B.V. (1980) \"Nosing Around the Neighborhood: A New System\\n     Structure and Classification Rule for Recognition in Partially Exposed\\n     Environments\".  IEEE Transactions on Pattern Analysis and Machine\\n     Intelligence, Vol. PAMI-2, No. 1, 67-71.\\n   - Gates, G.W. (1972) \"The Reduced Nearest Neighbor Rule\".  IEEE Transactions\\n     on Information Theory, May 1972, 431-433.\\n   - See also: 1988 MLC Proceedings, 54-64.  Cheeseman et al\"s AUTOCLASS II\\n     conceptual clustering system finds 3 classes in the data.\\n   - Many, many more ...',\n",
       " 'feature_names': ['sepal length (cm)',\n",
       "  'sepal width (cm)',\n",
       "  'petal length (cm)',\n",
       "  'petal width (cm)'],\n",
       " 'filename': 'iris.csv',\n",
       " 'data_module': 'sklearn.datasets.data'}"
      ]
     },
     "execution_count": 69,
     "metadata": {},
     "output_type": "execute_result"
    }
   ],
   "source": [
    "# Load iris data set available on sklearn.\n",
    "import numpy as np\n",
    "from sklearn.datasets import load_iris\n",
    "iris_dataset = load_iris()\n",
    "iris_dataset"
   ]
  },
  {
   "cell_type": "code",
   "execution_count": 70,
   "metadata": {},
   "outputs": [
    {
     "data": {
      "text/html": [
       "<div>\n",
       "<style scoped>\n",
       "    .dataframe tbody tr th:only-of-type {\n",
       "        vertical-align: middle;\n",
       "    }\n",
       "\n",
       "    .dataframe tbody tr th {\n",
       "        vertical-align: top;\n",
       "    }\n",
       "\n",
       "    .dataframe thead th {\n",
       "        text-align: right;\n",
       "    }\n",
       "</style>\n",
       "<table border=\"1\" class=\"dataframe\">\n",
       "  <thead>\n",
       "    <tr style=\"text-align: right;\">\n",
       "      <th></th>\n",
       "      <th>sepal length (cm)</th>\n",
       "      <th>sepal width (cm)</th>\n",
       "      <th>petal length (cm)</th>\n",
       "      <th>petal width (cm)</th>\n",
       "      <th>target</th>\n",
       "    </tr>\n",
       "  </thead>\n",
       "  <tbody>\n",
       "    <tr>\n",
       "      <th>0</th>\n",
       "      <td>5.1</td>\n",
       "      <td>3.5</td>\n",
       "      <td>1.4</td>\n",
       "      <td>0.2</td>\n",
       "      <td>0.0</td>\n",
       "    </tr>\n",
       "    <tr>\n",
       "      <th>1</th>\n",
       "      <td>4.9</td>\n",
       "      <td>3.0</td>\n",
       "      <td>1.4</td>\n",
       "      <td>0.2</td>\n",
       "      <td>0.0</td>\n",
       "    </tr>\n",
       "    <tr>\n",
       "      <th>2</th>\n",
       "      <td>4.7</td>\n",
       "      <td>3.2</td>\n",
       "      <td>1.3</td>\n",
       "      <td>0.2</td>\n",
       "      <td>0.0</td>\n",
       "    </tr>\n",
       "    <tr>\n",
       "      <th>3</th>\n",
       "      <td>4.6</td>\n",
       "      <td>3.1</td>\n",
       "      <td>1.5</td>\n",
       "      <td>0.2</td>\n",
       "      <td>0.0</td>\n",
       "    </tr>\n",
       "    <tr>\n",
       "      <th>4</th>\n",
       "      <td>5.0</td>\n",
       "      <td>3.6</td>\n",
       "      <td>1.4</td>\n",
       "      <td>0.2</td>\n",
       "      <td>0.0</td>\n",
       "    </tr>\n",
       "  </tbody>\n",
       "</table>\n",
       "</div>"
      ],
      "text/plain": [
       "   sepal length (cm)  sepal width (cm)  petal length (cm)  petal width (cm)  \\\n",
       "0                5.1               3.5                1.4               0.2   \n",
       "1                4.9               3.0                1.4               0.2   \n",
       "2                4.7               3.2                1.3               0.2   \n",
       "3                4.6               3.1                1.5               0.2   \n",
       "4                5.0               3.6                1.4               0.2   \n",
       "\n",
       "   target  \n",
       "0     0.0  \n",
       "1     0.0  \n",
       "2     0.0  \n",
       "3     0.0  \n",
       "4     0.0  "
      ]
     },
     "execution_count": 70,
     "metadata": {},
     "output_type": "execute_result"
    }
   ],
   "source": [
    "# NB: 0 in the target data stands for first category which is Setosa, 1 represents Versicolor, and 2 represents Virginica\n",
    "\n",
    "df = pd.DataFrame(data= np.c_[iris_dataset['data'], iris_dataset['target']],\n",
    "                 columns= iris_dataset['feature_names'] + ['target'])\n",
    "df.head()"
   ]
  },
  {
   "cell_type": "code",
   "execution_count": 71,
   "metadata": {},
   "outputs": [
    {
     "data": {
      "text/plain": [
       "target\n",
       "0.0    50\n",
       "1.0    50\n",
       "2.0    50\n",
       "Name: count, dtype: int64"
      ]
     },
     "execution_count": 71,
     "metadata": {},
     "output_type": "execute_result"
    }
   ],
   "source": [
    "df['target'].value_counts()"
   ]
  },
  {
   "cell_type": "code",
   "execution_count": 72,
   "metadata": {},
   "outputs": [
    {
     "name": "stderr",
     "output_type": "stream",
     "text": [
      "C:\\Users\\Trish\\anaconda3\\Lib\\site-packages\\seaborn\\axisgrid.py:118: UserWarning: The figure layout has changed to tight\n",
      "  self._figure.tight_layout(*args, **kwargs)\n"
     ]
    },
    {
     "data": {
      "text/plain": [
       "<seaborn.axisgrid.FacetGrid at 0x21f1eb79090>"
      ]
     },
     "execution_count": 72,
     "metadata": {},
     "output_type": "execute_result"
    },
    {
     "data": {
      "image/png": "[encoded data removed]",
      "text/plain": [
       "<Figure size 872.125x800 with 1 Axes>"
      ]
     },
     "metadata": {},
     "output_type": "display_data"
    }
   ],
   "source": [
    "# NB: Visualising the data helps to clarify that the Setosa class is easily separable from the other two classes \n",
    "# as its a cluster far away on its own. \n",
    "# Blue are identified as Setosa. Orange represent Versicolor and Green are virginica.\n",
    "    \n",
    "sns.FacetGrid(df, hue=\"target\",height=8).map(plt.scatter, \"petal length (cm)\", \"petal width (cm)\").add_legend()"
   ]
  },
  {
   "cell_type": "markdown",
   "metadata": {},
   "source": [
    "# NaN\n",
    "In numerical arrays or DataFrames, respectively, missing values are represented by NaN in Python using the numpy and pandas modules. Missing values can impact the performance and accuracy of models, therefore handling them is critical in data analysis and machine learning activities.[20]\n",
    "Appropriate handling of missing variables is crucial since it affects the dependability and accuracy of your model or analysis. The type of data you have, the quantity of missing data, and the effect of imputation on the analysis or model training will all influence how you handle NaN values.[21]\n",
    "Pandas tries to be adaptable when it comes to managing missing data because data can take many different forms. For computational efficiency and simplicity, NaN is the default missing value marker; nevertheless, we must be able to quickly identify this value with a variety of data types, including floating point, integer, boolean, and general object data. But frequently, the Python None will appear, and we also want to take into consideration that \"missing,\" \"not available,\" or \"NA.\"[22] The isna() and notna() procedures, which are also methods on Series and DataFrame objects, are provided by pandas to make missing value detection simpler (and across many array dtypes)[22]\n",
    "Another option is to use fillna with an alignable series or dict. The columns of the frame you want to fill must match the labels of the Series' dict or index. The purpose of this is to use the column mean to fill a DataFrame.[22]\n",
    "the dropna() function in Pandas is incredibly useful for handling missing values by dropping rows or columns containing NaN values.[23]\n",
    "Caution must be used when applying these techniques, since they may result in the loss of potentially important information if rows or columns with missing values are dropped. This is particularly true if the dataset is small or if the missing data is systematic or instructive.[20]"
   ]
  },
  {
   "cell_type": "code",
   "execution_count": 73,
   "metadata": {},
   "outputs": [
    {
     "data": {
      "text/html": [
       "<div>\n",
       "<style scoped>\n",
       "    .dataframe tbody tr th:only-of-type {\n",
       "        vertical-align: middle;\n",
       "    }\n",
       "\n",
       "    .dataframe tbody tr th {\n",
       "        vertical-align: top;\n",
       "    }\n",
       "\n",
       "    .dataframe thead th {\n",
       "        text-align: right;\n",
       "    }\n",
       "</style>\n",
       "<table border=\"1\" class=\"dataframe\">\n",
       "  <thead>\n",
       "    <tr style=\"text-align: right;\">\n",
       "      <th></th>\n",
       "      <th>sepal length (cm)</th>\n",
       "      <th>sepal width (cm)</th>\n",
       "      <th>petal length (cm)</th>\n",
       "      <th>petal width (cm)</th>\n",
       "      <th>target</th>\n",
       "    </tr>\n",
       "  </thead>\n",
       "  <tbody>\n",
       "    <tr>\n",
       "      <th>0</th>\n",
       "      <td>False</td>\n",
       "      <td>False</td>\n",
       "      <td>False</td>\n",
       "      <td>False</td>\n",
       "      <td>False</td>\n",
       "    </tr>\n",
       "    <tr>\n",
       "      <th>1</th>\n",
       "      <td>False</td>\n",
       "      <td>False</td>\n",
       "      <td>False</td>\n",
       "      <td>False</td>\n",
       "      <td>False</td>\n",
       "    </tr>\n",
       "    <tr>\n",
       "      <th>2</th>\n",
       "      <td>False</td>\n",
       "      <td>False</td>\n",
       "      <td>False</td>\n",
       "      <td>False</td>\n",
       "      <td>False</td>\n",
       "    </tr>\n",
       "    <tr>\n",
       "      <th>3</th>\n",
       "      <td>False</td>\n",
       "      <td>False</td>\n",
       "      <td>False</td>\n",
       "      <td>False</td>\n",
       "      <td>False</td>\n",
       "    </tr>\n",
       "    <tr>\n",
       "      <th>4</th>\n",
       "      <td>False</td>\n",
       "      <td>False</td>\n",
       "      <td>False</td>\n",
       "      <td>False</td>\n",
       "      <td>False</td>\n",
       "    </tr>\n",
       "    <tr>\n",
       "      <th>...</th>\n",
       "      <td>...</td>\n",
       "      <td>...</td>\n",
       "      <td>...</td>\n",
       "      <td>...</td>\n",
       "      <td>...</td>\n",
       "    </tr>\n",
       "    <tr>\n",
       "      <th>145</th>\n",
       "      <td>False</td>\n",
       "      <td>False</td>\n",
       "      <td>False</td>\n",
       "      <td>False</td>\n",
       "      <td>False</td>\n",
       "    </tr>\n",
       "    <tr>\n",
       "      <th>146</th>\n",
       "      <td>False</td>\n",
       "      <td>False</td>\n",
       "      <td>False</td>\n",
       "      <td>False</td>\n",
       "      <td>False</td>\n",
       "    </tr>\n",
       "    <tr>\n",
       "      <th>147</th>\n",
       "      <td>False</td>\n",
       "      <td>False</td>\n",
       "      <td>False</td>\n",
       "      <td>False</td>\n",
       "      <td>False</td>\n",
       "    </tr>\n",
       "    <tr>\n",
       "      <th>148</th>\n",
       "      <td>False</td>\n",
       "      <td>False</td>\n",
       "      <td>False</td>\n",
       "      <td>False</td>\n",
       "      <td>False</td>\n",
       "    </tr>\n",
       "    <tr>\n",
       "      <th>149</th>\n",
       "      <td>False</td>\n",
       "      <td>False</td>\n",
       "      <td>False</td>\n",
       "      <td>False</td>\n",
       "      <td>False</td>\n",
       "    </tr>\n",
       "  </tbody>\n",
       "</table>\n",
       "<p>150 rows × 5 columns</p>\n",
       "</div>"
      ],
      "text/plain": [
       "     sepal length (cm)  sepal width (cm)  petal length (cm)  petal width (cm)  \\\n",
       "0                False             False              False             False   \n",
       "1                False             False              False             False   \n",
       "2                False             False              False             False   \n",
       "3                False             False              False             False   \n",
       "4                False             False              False             False   \n",
       "..                 ...               ...                ...               ...   \n",
       "145              False             False              False             False   \n",
       "146              False             False              False             False   \n",
       "147              False             False              False             False   \n",
       "148              False             False              False             False   \n",
       "149              False             False              False             False   \n",
       "\n",
       "     target  \n",
       "0     False  \n",
       "1     False  \n",
       "2     False  \n",
       "3     False  \n",
       "4     False  \n",
       "..      ...  \n",
       "145   False  \n",
       "146   False  \n",
       "147   False  \n",
       "148   False  \n",
       "149   False  \n",
       "\n",
       "[150 rows x 5 columns]"
      ]
     },
     "execution_count": 73,
     "metadata": {},
     "output_type": "execute_result"
    }
   ],
   "source": [
    "# Look for NaNs.\n",
    "# There are no missing values in the Iris Dataset\n",
    "df.isna()"
   ]
  },
  {
   "cell_type": "code",
   "execution_count": 74,
   "metadata": {},
   "outputs": [
    {
     "data": {
      "text/html": [
       "<div>\n",
       "<style scoped>\n",
       "    .dataframe tbody tr th:only-of-type {\n",
       "        vertical-align: middle;\n",
       "    }\n",
       "\n",
       "    .dataframe tbody tr th {\n",
       "        vertical-align: top;\n",
       "    }\n",
       "\n",
       "    .dataframe thead th {\n",
       "        text-align: right;\n",
       "    }\n",
       "</style>\n",
       "<table border=\"1\" class=\"dataframe\">\n",
       "  <thead>\n",
       "    <tr style=\"text-align: right;\">\n",
       "      <th></th>\n",
       "      <th>sepal length (cm)</th>\n",
       "      <th>sepal width (cm)</th>\n",
       "      <th>petal length (cm)</th>\n",
       "      <th>petal width (cm)</th>\n",
       "      <th>target</th>\n",
       "    </tr>\n",
       "  </thead>\n",
       "  <tbody>\n",
       "    <tr>\n",
       "      <th>0</th>\n",
       "      <td>5.1</td>\n",
       "      <td>3.5</td>\n",
       "      <td>1.4</td>\n",
       "      <td>0.2</td>\n",
       "      <td>0.0</td>\n",
       "    </tr>\n",
       "    <tr>\n",
       "      <th>1</th>\n",
       "      <td>4.9</td>\n",
       "      <td>3.0</td>\n",
       "      <td>1.4</td>\n",
       "      <td>0.2</td>\n",
       "      <td>0.0</td>\n",
       "    </tr>\n",
       "    <tr>\n",
       "      <th>2</th>\n",
       "      <td>4.7</td>\n",
       "      <td>3.2</td>\n",
       "      <td>1.3</td>\n",
       "      <td>0.2</td>\n",
       "      <td>0.0</td>\n",
       "    </tr>\n",
       "    <tr>\n",
       "      <th>3</th>\n",
       "      <td>4.6</td>\n",
       "      <td>3.1</td>\n",
       "      <td>1.5</td>\n",
       "      <td>0.2</td>\n",
       "      <td>0.0</td>\n",
       "    </tr>\n",
       "    <tr>\n",
       "      <th>4</th>\n",
       "      <td>5.0</td>\n",
       "      <td>3.6</td>\n",
       "      <td>1.4</td>\n",
       "      <td>0.2</td>\n",
       "      <td>0.0</td>\n",
       "    </tr>\n",
       "    <tr>\n",
       "      <th>...</th>\n",
       "      <td>...</td>\n",
       "      <td>...</td>\n",
       "      <td>...</td>\n",
       "      <td>...</td>\n",
       "      <td>...</td>\n",
       "    </tr>\n",
       "    <tr>\n",
       "      <th>145</th>\n",
       "      <td>6.7</td>\n",
       "      <td>3.0</td>\n",
       "      <td>5.2</td>\n",
       "      <td>2.3</td>\n",
       "      <td>2.0</td>\n",
       "    </tr>\n",
       "    <tr>\n",
       "      <th>146</th>\n",
       "      <td>6.3</td>\n",
       "      <td>2.5</td>\n",
       "      <td>5.0</td>\n",
       "      <td>1.9</td>\n",
       "      <td>2.0</td>\n",
       "    </tr>\n",
       "    <tr>\n",
       "      <th>147</th>\n",
       "      <td>6.5</td>\n",
       "      <td>3.0</td>\n",
       "      <td>5.2</td>\n",
       "      <td>2.0</td>\n",
       "      <td>2.0</td>\n",
       "    </tr>\n",
       "    <tr>\n",
       "      <th>148</th>\n",
       "      <td>6.2</td>\n",
       "      <td>3.4</td>\n",
       "      <td>5.4</td>\n",
       "      <td>2.3</td>\n",
       "      <td>2.0</td>\n",
       "    </tr>\n",
       "    <tr>\n",
       "      <th>149</th>\n",
       "      <td>5.9</td>\n",
       "      <td>3.0</td>\n",
       "      <td>5.1</td>\n",
       "      <td>1.8</td>\n",
       "      <td>2.0</td>\n",
       "    </tr>\n",
       "  </tbody>\n",
       "</table>\n",
       "<p>150 rows × 5 columns</p>\n",
       "</div>"
      ],
      "text/plain": [
       "     sepal length (cm)  sepal width (cm)  petal length (cm)  petal width (cm)  \\\n",
       "0                  5.1               3.5                1.4               0.2   \n",
       "1                  4.9               3.0                1.4               0.2   \n",
       "2                  4.7               3.2                1.3               0.2   \n",
       "3                  4.6               3.1                1.5               0.2   \n",
       "4                  5.0               3.6                1.4               0.2   \n",
       "..                 ...               ...                ...               ...   \n",
       "145                6.7               3.0                5.2               2.3   \n",
       "146                6.3               2.5                5.0               1.9   \n",
       "147                6.5               3.0                5.2               2.0   \n",
       "148                6.2               3.4                5.4               2.3   \n",
       "149                5.9               3.0                5.1               1.8   \n",
       "\n",
       "     target  \n",
       "0       0.0  \n",
       "1       0.0  \n",
       "2       0.0  \n",
       "3       0.0  \n",
       "4       0.0  \n",
       "..      ...  \n",
       "145     2.0  \n",
       "146     2.0  \n",
       "147     2.0  \n",
       "148     2.0  \n",
       "149     2.0  \n",
       "\n",
       "[150 rows x 5 columns]"
      ]
     },
     "execution_count": 74,
     "metadata": {},
     "output_type": "execute_result"
    }
   ],
   "source": [
    "# As seen above there are no missing values in the Iris Dataset. If there were missing values you could drop rows with NaNs (anywhere).\n",
    "df_nona = df.dropna()\n",
    "\n",
    "# Show.\n",
    "df_nona"
   ]
  },
  {
   "cell_type": "code",
   "execution_count": 75,
   "metadata": {},
   "outputs": [
    {
     "data": {
      "text/html": [
       "<div>\n",
       "<style scoped>\n",
       "    .dataframe tbody tr th:only-of-type {\n",
       "        vertical-align: middle;\n",
       "    }\n",
       "\n",
       "    .dataframe tbody tr th {\n",
       "        vertical-align: top;\n",
       "    }\n",
       "\n",
       "    .dataframe thead th {\n",
       "        text-align: right;\n",
       "    }\n",
       "</style>\n",
       "<table border=\"1\" class=\"dataframe\">\n",
       "  <thead>\n",
       "    <tr style=\"text-align: right;\">\n",
       "      <th></th>\n",
       "      <th>sepal length (cm)</th>\n",
       "      <th>sepal width (cm)</th>\n",
       "      <th>petal length (cm)</th>\n",
       "      <th>petal width (cm)</th>\n",
       "    </tr>\n",
       "  </thead>\n",
       "  <tbody>\n",
       "    <tr>\n",
       "      <th>0</th>\n",
       "      <td>5.1</td>\n",
       "      <td>3.5</td>\n",
       "      <td>1.4</td>\n",
       "      <td>0.2</td>\n",
       "    </tr>\n",
       "    <tr>\n",
       "      <th>1</th>\n",
       "      <td>4.9</td>\n",
       "      <td>3.0</td>\n",
       "      <td>1.4</td>\n",
       "      <td>0.2</td>\n",
       "    </tr>\n",
       "    <tr>\n",
       "      <th>2</th>\n",
       "      <td>4.7</td>\n",
       "      <td>3.2</td>\n",
       "      <td>1.3</td>\n",
       "      <td>0.2</td>\n",
       "    </tr>\n",
       "    <tr>\n",
       "      <th>3</th>\n",
       "      <td>4.6</td>\n",
       "      <td>3.1</td>\n",
       "      <td>1.5</td>\n",
       "      <td>0.2</td>\n",
       "    </tr>\n",
       "    <tr>\n",
       "      <th>4</th>\n",
       "      <td>5.0</td>\n",
       "      <td>3.6</td>\n",
       "      <td>1.4</td>\n",
       "      <td>0.2</td>\n",
       "    </tr>\n",
       "    <tr>\n",
       "      <th>...</th>\n",
       "      <td>...</td>\n",
       "      <td>...</td>\n",
       "      <td>...</td>\n",
       "      <td>...</td>\n",
       "    </tr>\n",
       "    <tr>\n",
       "      <th>145</th>\n",
       "      <td>6.7</td>\n",
       "      <td>3.0</td>\n",
       "      <td>5.2</td>\n",
       "      <td>2.3</td>\n",
       "    </tr>\n",
       "    <tr>\n",
       "      <th>146</th>\n",
       "      <td>6.3</td>\n",
       "      <td>2.5</td>\n",
       "      <td>5.0</td>\n",
       "      <td>1.9</td>\n",
       "    </tr>\n",
       "    <tr>\n",
       "      <th>147</th>\n",
       "      <td>6.5</td>\n",
       "      <td>3.0</td>\n",
       "      <td>5.2</td>\n",
       "      <td>2.0</td>\n",
       "    </tr>\n",
       "    <tr>\n",
       "      <th>148</th>\n",
       "      <td>6.2</td>\n",
       "      <td>3.4</td>\n",
       "      <td>5.4</td>\n",
       "      <td>2.3</td>\n",
       "    </tr>\n",
       "    <tr>\n",
       "      <th>149</th>\n",
       "      <td>5.9</td>\n",
       "      <td>3.0</td>\n",
       "      <td>5.1</td>\n",
       "      <td>1.8</td>\n",
       "    </tr>\n",
       "  </tbody>\n",
       "</table>\n",
       "<p>150 rows × 4 columns</p>\n",
       "</div>"
      ],
      "text/plain": [
       "     sepal length (cm)  sepal width (cm)  petal length (cm)  petal width (cm)\n",
       "0                  5.1               3.5                1.4               0.2\n",
       "1                  4.9               3.0                1.4               0.2\n",
       "2                  4.7               3.2                1.3               0.2\n",
       "3                  4.6               3.1                1.5               0.2\n",
       "4                  5.0               3.6                1.4               0.2\n",
       "..                 ...               ...                ...               ...\n",
       "145                6.7               3.0                5.2               2.3\n",
       "146                6.3               2.5                5.0               1.9\n",
       "147                6.5               3.0                5.2               2.0\n",
       "148                6.2               3.4                5.4               2.3\n",
       "149                5.9               3.0                5.1               1.8\n",
       "\n",
       "[150 rows x 4 columns]"
      ]
     },
     "execution_count": 75,
     "metadata": {},
     "output_type": "execute_result"
    }
   ],
   "source": [
    "# The X values.\n",
    "X = df_nona[['sepal length (cm)', 'sepal width (cm)', 'petal length (cm)', 'petal width (cm)']]\n",
    "\n",
    "# Show.\n",
    "X"
   ]
  },
  {
   "cell_type": "code",
   "execution_count": 76,
   "metadata": {},
   "outputs": [
    {
     "data": {
      "text/plain": [
       "0      0.0\n",
       "1      0.0\n",
       "2      0.0\n",
       "3      0.0\n",
       "4      0.0\n",
       "      ... \n",
       "145    2.0\n",
       "146    2.0\n",
       "147    2.0\n",
       "148    2.0\n",
       "149    2.0\n",
       "Name: target, Length: 150, dtype: float64"
      ]
     },
     "execution_count": 76,
     "metadata": {},
     "output_type": "execute_result"
    }
   ],
   "source": [
    "# y values.\n",
    "y = df_nona['target']\n",
    "\n",
    "# Show.\n",
    "y"
   ]
  },
  {
   "cell_type": "code",
   "execution_count": 77,
   "metadata": {},
   "outputs": [
    {
     "data": {
      "text/html": [
       "<style>#sk-container-id-2 {color: black;}#sk-container-id-2 pre{padding: 0;}#sk-container-id-2 div.sk-toggleable {background-color: white;}#sk-container-id-2 label.sk-toggleable__label {cursor: pointer;display: block;width: 100%;margin-bottom: 0;padding: 0.3em;box-sizing: border-box;text-align: center;}#sk-container-id-2 label.sk-toggleable__label-arrow:before {content: \"▸\";float: left;margin-right: 0.25em;color: #696969;}#sk-container-id-2 label.sk-toggleable__label-arrow:hover:before {color: black;}#sk-container-id-2 div.sk-estimator:hover label.sk-toggleable__label-arrow:before {color: black;}#sk-container-id-2 div.sk-toggleable__content {max-height: 0;max-width: 0;overflow: hidden;text-align: left;background-color: #f0f8ff;}#sk-container-id-2 div.sk-toggleable__content pre {margin: 0.2em;color: black;border-radius: 0.25em;background-color: #f0f8ff;}#sk-container-id-2 input.sk-toggleable__control:checked~div.sk-toggleable__content {max-height: 200px;max-width: 100%;overflow: auto;}#sk-container-id-2 input.sk-toggleable__control:checked~label.sk-toggleable__label-arrow:before {content: \"▾\";}#sk-container-id-2 div.sk-estimator input.sk-toggleable__control:checked~label.sk-toggleable__label {background-color: #d4ebff;}#sk-container-id-2 div.sk-label input.sk-toggleable__control:checked~label.sk-toggleable__label {background-color: #d4ebff;}#sk-container-id-2 input.sk-hidden--visually {border: 0;clip: rect(1px 1px 1px 1px);clip: rect(1px, 1px, 1px, 1px);height: 1px;margin: -1px;overflow: hidden;padding: 0;position: absolute;width: 1px;}#sk-container-id-2 div.sk-estimator {font-family: monospace;background-color: #f0f8ff;border: 1px dotted black;border-radius: 0.25em;box-sizing: border-box;margin-bottom: 0.5em;}#sk-container-id-2 div.sk-estimator:hover {background-color: #d4ebff;}#sk-container-id-2 div.sk-parallel-item::after {content: \"\";width: 100%;border-bottom: 1px solid gray;flex-grow: 1;}#sk-container-id-2 div.sk-label:hover label.sk-toggleable__label {background-color: #d4ebff;}#sk-container-id-2 div.sk-serial::before {content: \"\";position: absolute;border-left: 1px solid gray;box-sizing: border-box;top: 0;bottom: 0;left: 50%;z-index: 0;}#sk-container-id-2 div.sk-serial {display: flex;flex-direction: column;align-items: center;background-color: white;padding-right: 0.2em;padding-left: 0.2em;position: relative;}#sk-container-id-2 div.sk-item {position: relative;z-index: 1;}#sk-container-id-2 div.sk-parallel {display: flex;align-items: stretch;justify-content: center;background-color: white;position: relative;}#sk-container-id-2 div.sk-item::before, #sk-container-id-2 div.sk-parallel-item::before {content: \"\";position: absolute;border-left: 1px solid gray;box-sizing: border-box;top: 0;bottom: 0;left: 50%;z-index: -1;}#sk-container-id-2 div.sk-parallel-item {display: flex;flex-direction: column;z-index: 1;position: relative;background-color: white;}#sk-container-id-2 div.sk-parallel-item:first-child::after {align-self: flex-end;width: 50%;}#sk-container-id-2 div.sk-parallel-item:last-child::after {align-self: flex-start;width: 50%;}#sk-container-id-2 div.sk-parallel-item:only-child::after {width: 0;}#sk-container-id-2 div.sk-dashed-wrapped {border: 1px dashed gray;margin: 0 0.4em 0.5em 0.4em;box-sizing: border-box;padding-bottom: 0.4em;background-color: white;}#sk-container-id-2 div.sk-label label {font-family: monospace;font-weight: bold;display: inline-block;line-height: 1.2em;}#sk-container-id-2 div.sk-label-container {text-align: center;}#sk-container-id-2 div.sk-container {/* jupyter's `normalize.less` sets `[hidden] { display: none; }` but bootstrap.min.css set `[hidden] { display: none !important; }` so we also need the `!important` here to be able to override the default hidden behavior on the sphinx rendered scikit-learn.org. See: https://github.com/scikit-learn/scikit-learn/issues/21755 */display: inline-block !important;position: relative;}#sk-container-id-2 div.sk-text-repr-fallback {display: none;}</style><div id=\"sk-container-id-2\" class=\"sk-top-container\"><div class=\"sk-text-repr-fallback\"><pre>KNeighborsClassifier()</pre><b>In a Jupyter environment, please rerun this cell to show the HTML representation or trust the notebook. <br />On GitHub, the HTML representation is unable to render, please try loading this page with nbviewer.org.</b></div><div class=\"sk-container\" hidden><div class=\"sk-item\"><div class=\"sk-estimator sk-toggleable\"><input class=\"sk-toggleable__control sk-hidden--visually\" id=\"sk-estimator-id-2\" type=\"checkbox\" checked><label for=\"sk-estimator-id-2\" class=\"sk-toggleable__label sk-toggleable__label-arrow\">KNeighborsClassifier</label><div class=\"sk-toggleable__content\"><pre>KNeighborsClassifier()</pre></div></div></div></div></div>"
      ],
      "text/plain": [
       "KNeighborsClassifier()"
      ]
     },
     "execution_count": 77,
     "metadata": {},
     "output_type": "execute_result"
    }
   ],
   "source": [
    "# Create a new instance of a classifier.\n",
    "clf = sk.neighbors.KNeighborsClassifier()\n",
    "\n",
    "# Fit the data.\n",
    "clf.fit(X, y)"
   ]
  },
  {
   "cell_type": "code",
   "execution_count": 78,
   "metadata": {},
   "outputs": [
    {
     "data": {
      "text/plain": [
       "sepal length (cm)    5.1\n",
       "sepal width (cm)     3.5\n",
       "petal length (cm)    1.4\n",
       "petal width (cm)     0.2\n",
       "target               0.0\n",
       "Name: 0, dtype: float64"
      ]
     },
     "execution_count": 78,
     "metadata": {},
     "output_type": "execute_result"
    }
   ],
   "source": [
    "df_nona.iloc[0]"
   ]
  },
  {
   "cell_type": "code",
   "execution_count": 79,
   "metadata": {},
   "outputs": [
    {
     "data": {
      "text/plain": [
       "sepal length (cm)    5.1\n",
       "sepal width (cm)     3.5\n",
       "petal length (cm)    1.4\n",
       "petal width (cm)     0.2\n",
       "Name: 0, dtype: float64"
      ]
     },
     "execution_count": 79,
     "metadata": {},
     "output_type": "execute_result"
    }
   ],
   "source": [
    "# The first row of X.\n",
    "X.iloc[0]"
   ]
  },
  {
   "cell_type": "code",
   "execution_count": 80,
   "metadata": {},
   "outputs": [
    {
     "data": {
      "text/html": [
       "<div>\n",
       "<style scoped>\n",
       "    .dataframe tbody tr th:only-of-type {\n",
       "        vertical-align: middle;\n",
       "    }\n",
       "\n",
       "    .dataframe tbody tr th {\n",
       "        vertical-align: top;\n",
       "    }\n",
       "\n",
       "    .dataframe thead th {\n",
       "        text-align: right;\n",
       "    }\n",
       "</style>\n",
       "<table border=\"1\" class=\"dataframe\">\n",
       "  <thead>\n",
       "    <tr style=\"text-align: right;\">\n",
       "      <th></th>\n",
       "      <th>sepal length (cm)</th>\n",
       "      <th>sepal width (cm)</th>\n",
       "      <th>petal length (cm)</th>\n",
       "      <th>petal width (cm)</th>\n",
       "    </tr>\n",
       "  </thead>\n",
       "  <tbody>\n",
       "    <tr>\n",
       "      <th>0</th>\n",
       "      <td>5.1</td>\n",
       "      <td>3.5</td>\n",
       "      <td>1.4</td>\n",
       "      <td>0.2</td>\n",
       "    </tr>\n",
       "    <tr>\n",
       "      <th>1</th>\n",
       "      <td>4.9</td>\n",
       "      <td>3.0</td>\n",
       "      <td>1.4</td>\n",
       "      <td>0.2</td>\n",
       "    </tr>\n",
       "    <tr>\n",
       "      <th>2</th>\n",
       "      <td>4.7</td>\n",
       "      <td>3.2</td>\n",
       "      <td>1.3</td>\n",
       "      <td>0.2</td>\n",
       "    </tr>\n",
       "    <tr>\n",
       "      <th>3</th>\n",
       "      <td>4.6</td>\n",
       "      <td>3.1</td>\n",
       "      <td>1.5</td>\n",
       "      <td>0.2</td>\n",
       "    </tr>\n",
       "    <tr>\n",
       "      <th>4</th>\n",
       "      <td>5.0</td>\n",
       "      <td>3.6</td>\n",
       "      <td>1.4</td>\n",
       "      <td>0.2</td>\n",
       "    </tr>\n",
       "  </tbody>\n",
       "</table>\n",
       "</div>"
      ],
      "text/plain": [
       "   sepal length (cm)  sepal width (cm)  petal length (cm)  petal width (cm)\n",
       "0                5.1               3.5                1.4               0.2\n",
       "1                4.9               3.0                1.4               0.2\n",
       "2                4.7               3.2                1.3               0.2\n",
       "3                4.6               3.1                1.5               0.2\n",
       "4                5.0               3.6                1.4               0.2"
      ]
     },
     "execution_count": 80,
     "metadata": {},
     "output_type": "execute_result"
    }
   ],
   "source": [
    "X.iloc[:5]"
   ]
  },
  {
   "cell_type": "code",
   "execution_count": 81,
   "metadata": {},
   "outputs": [
    {
     "data": {
      "text/plain": [
       "array([0., 0., 0., 0., 0., 0., 0., 0., 0., 0., 0., 0., 0., 0., 0., 0., 0.,\n",
       "       0., 0., 0., 0., 0., 0., 0., 0., 0., 0., 0., 0., 0., 0., 0., 0., 0.,\n",
       "       0., 0., 0., 0., 0., 0., 0., 0., 0., 0., 0., 0., 0., 0., 0., 0., 1.,\n",
       "       1., 1., 1., 1., 1., 1., 1., 1., 1., 1., 1., 1., 1., 1., 1., 1., 1.,\n",
       "       1., 1., 2., 1., 2., 1., 1., 1., 1., 1., 1., 1., 1., 1., 1., 2., 1.,\n",
       "       1., 1., 1., 1., 1., 1., 1., 1., 1., 1., 1., 1., 1., 1., 1., 2., 2.,\n",
       "       2., 2., 2., 2., 1., 2., 2., 2., 2., 2., 2., 2., 2., 2., 2., 2., 2.,\n",
       "       1., 2., 2., 2., 2., 2., 2., 2., 2., 2., 2., 2., 2., 2., 2., 2., 2.,\n",
       "       2., 2., 2., 2., 2., 2., 2., 2., 2., 2., 2., 2., 2., 2.])"
      ]
     },
     "execution_count": 81,
     "metadata": {},
     "output_type": "execute_result"
    }
   ],
   "source": [
    "# Quick check that the classifier correctly predicts first X sample.\n",
    "clf.predict(X)"
   ]
  },
  {
   "cell_type": "code",
   "execution_count": 82,
   "metadata": {},
   "outputs": [
    {
     "data": {
      "text/plain": [
       "0.0"
      ]
     },
     "execution_count": 82,
     "metadata": {},
     "output_type": "execute_result"
    }
   ],
   "source": [
    "# The actual output for the first sample.\n",
    "y.iloc[1]"
   ]
  },
  {
   "cell_type": "markdown",
   "metadata": {},
   "source": [
    "## Applying KNN\n",
    "\n",
    "## Absolute Values\n",
    "\n",
    "In order to guarantee that distances are measured along axes or dimensions without taking the direction into account, absolute values are utilized in distance calculations.[24]\n",
    "\n",
    "## Euclidean Distance\n",
    "\n",
    "The straight-line distance in a Euclidean space between two places is called the Euclidean distance. It is frequently used in geometry to determine the distances between points in two- or three-dimensional space and is derived from the Pythagorean theorem. It works especially well in continuous areas when mobility is possible in all directions. It's frequently employed in geometric issues, such as regression analysis and grouping methods like k-means.[25]\n",
    "\n",
    "## F1 Score\n",
    "\n",
    "Although they provide useful information about how well a classification model is performing, confusion matrices and precision scores are not always more accurate than the F1 score.[26]\n",
    "\n",
    "One statistic used to assess a classification model's accuracy is the F1 score. It evaluates a test's correctness by taking into account the model's recall and precision.\n",
    "\n",
    "The ratio of accurately predicted positive observations to the total number of predicted positives is known as precision. It gauges how accurate the optimistic forecasts were.[27]\n",
    "\n",
    "Recall is the ratio of accurately predicted positive observations to all actual positives. It is sometimes referred to as sensitivity or true positive rate. It gauges how well the model can locate all pertinent examples. The F1 score provides a single score that balances both precision and recall by taking the harmonic mean of the two.[27]"
   ]
  },
  {
   "cell_type": "code",
   "execution_count": 83,
   "metadata": {},
   "outputs": [
    {
     "data": {
      "text/html": [
       "<style>#sk-container-id-3 {color: black;}#sk-container-id-3 pre{padding: 0;}#sk-container-id-3 div.sk-toggleable {background-color: white;}#sk-container-id-3 label.sk-toggleable__label {cursor: pointer;display: block;width: 100%;margin-bottom: 0;padding: 0.3em;box-sizing: border-box;text-align: center;}#sk-container-id-3 label.sk-toggleable__label-arrow:before {content: \"▸\";float: left;margin-right: 0.25em;color: #696969;}#sk-container-id-3 label.sk-toggleable__label-arrow:hover:before {color: black;}#sk-container-id-3 div.sk-estimator:hover label.sk-toggleable__label-arrow:before {color: black;}#sk-container-id-3 div.sk-toggleable__content {max-height: 0;max-width: 0;overflow: hidden;text-align: left;background-color: #f0f8ff;}#sk-container-id-3 div.sk-toggleable__content pre {margin: 0.2em;color: black;border-radius: 0.25em;background-color: #f0f8ff;}#sk-container-id-3 input.sk-toggleable__control:checked~div.sk-toggleable__content {max-height: 200px;max-width: 100%;overflow: auto;}#sk-container-id-3 input.sk-toggleable__control:checked~label.sk-toggleable__label-arrow:before {content: \"▾\";}#sk-container-id-3 div.sk-estimator input.sk-toggleable__control:checked~label.sk-toggleable__label {background-color: #d4ebff;}#sk-container-id-3 div.sk-label input.sk-toggleable__control:checked~label.sk-toggleable__label {background-color: #d4ebff;}#sk-container-id-3 input.sk-hidden--visually {border: 0;clip: rect(1px 1px 1px 1px);clip: rect(1px, 1px, 1px, 1px);height: 1px;margin: -1px;overflow: hidden;padding: 0;position: absolute;width: 1px;}#sk-container-id-3 div.sk-estimator {font-family: monospace;background-color: #f0f8ff;border: 1px dotted black;border-radius: 0.25em;box-sizing: border-box;margin-bottom: 0.5em;}#sk-container-id-3 div.sk-estimator:hover {background-color: #d4ebff;}#sk-container-id-3 div.sk-parallel-item::after {content: \"\";width: 100%;border-bottom: 1px solid gray;flex-grow: 1;}#sk-container-id-3 div.sk-label:hover label.sk-toggleable__label {background-color: #d4ebff;}#sk-container-id-3 div.sk-serial::before {content: \"\";position: absolute;border-left: 1px solid gray;box-sizing: border-box;top: 0;bottom: 0;left: 50%;z-index: 0;}#sk-container-id-3 div.sk-serial {display: flex;flex-direction: column;align-items: center;background-color: white;padding-right: 0.2em;padding-left: 0.2em;position: relative;}#sk-container-id-3 div.sk-item {position: relative;z-index: 1;}#sk-container-id-3 div.sk-parallel {display: flex;align-items: stretch;justify-content: center;background-color: white;position: relative;}#sk-container-id-3 div.sk-item::before, #sk-container-id-3 div.sk-parallel-item::before {content: \"\";position: absolute;border-left: 1px solid gray;box-sizing: border-box;top: 0;bottom: 0;left: 50%;z-index: -1;}#sk-container-id-3 div.sk-parallel-item {display: flex;flex-direction: column;z-index: 1;position: relative;background-color: white;}#sk-container-id-3 div.sk-parallel-item:first-child::after {align-self: flex-end;width: 50%;}#sk-container-id-3 div.sk-parallel-item:last-child::after {align-self: flex-start;width: 50%;}#sk-container-id-3 div.sk-parallel-item:only-child::after {width: 0;}#sk-container-id-3 div.sk-dashed-wrapped {border: 1px dashed gray;margin: 0 0.4em 0.5em 0.4em;box-sizing: border-box;padding-bottom: 0.4em;background-color: white;}#sk-container-id-3 div.sk-label label {font-family: monospace;font-weight: bold;display: inline-block;line-height: 1.2em;}#sk-container-id-3 div.sk-label-container {text-align: center;}#sk-container-id-3 div.sk-container {/* jupyter's `normalize.less` sets `[hidden] { display: none; }` but bootstrap.min.css set `[hidden] { display: none !important; }` so we also need the `!important` here to be able to override the default hidden behavior on the sphinx rendered scikit-learn.org. See: https://github.com/scikit-learn/scikit-learn/issues/21755 */display: inline-block !important;position: relative;}#sk-container-id-3 div.sk-text-repr-fallback {display: none;}</style><div id=\"sk-container-id-3\" class=\"sk-top-container\"><div class=\"sk-text-repr-fallback\"><pre>KNeighborsClassifier(n_neighbors=3)</pre><b>In a Jupyter environment, please rerun this cell to show the HTML representation or trust the notebook. <br />On GitHub, the HTML representation is unable to render, please try loading this page with nbviewer.org.</b></div><div class=\"sk-container\" hidden><div class=\"sk-item\"><div class=\"sk-estimator sk-toggleable\"><input class=\"sk-toggleable__control sk-hidden--visually\" id=\"sk-estimator-id-3\" type=\"checkbox\" checked><label for=\"sk-estimator-id-3\" class=\"sk-toggleable__label sk-toggleable__label-arrow\">KNeighborsClassifier</label><div class=\"sk-toggleable__content\"><pre>KNeighborsClassifier(n_neighbors=3)</pre></div></div></div></div></div>"
      ],
      "text/plain": [
       "KNeighborsClassifier(n_neighbors=3)"
      ]
     },
     "execution_count": 83,
     "metadata": {},
     "output_type": "execute_result"
    }
   ],
   "source": [
    "# Use Parameter Tuning to fit a k-nearest neighbour model to the data. It needs to be an odd number. \n",
    "# Change the number to view differerent predictions.However, score is not a good way to calculate the accuracy of a model.\n",
    "\n",
    "model = KNeighborsClassifier(n_neighbors=3)\n",
    "model.fit(iris_dataset.data, iris_dataset.target)\n",
    "KNeighborsClassifier(n_neighbors=3)"
   ]
  },
  {
   "cell_type": "code",
   "execution_count": 84,
   "metadata": {},
   "outputs": [
    {
     "data": {
      "text/plain": [
       "0.96"
      ]
     },
     "execution_count": 84,
     "metadata": {},
     "output_type": "execute_result"
    }
   ],
   "source": [
    "# Predicting the data\n",
    "\n",
    "predicted = model.predict(iris_dataset.data)\n",
    "expected = iris_dataset.target\n",
    "model.score(iris_dataset.data, iris_dataset.target)"
   ]
  },
  {
   "cell_type": "code",
   "execution_count": 85,
   "metadata": {},
   "outputs": [
    {
     "data": {
      "text/plain": [
       "sepal length (cm)    5.1\n",
       "sepal width (cm)     3.5\n",
       "petal length (cm)    1.4\n",
       "petal width (cm)     0.2\n",
       "Name: 0, dtype: float64"
      ]
     },
     "execution_count": 85,
     "metadata": {},
     "output_type": "execute_result"
    }
   ],
   "source": [
    "# Point a.\n",
    "a = X.iloc[0]\n",
    "\n",
    "# Show.\n",
    "a"
   ]
  },
  {
   "cell_type": "code",
   "execution_count": 86,
   "metadata": {},
   "outputs": [
    {
     "data": {
      "text/plain": [
       "sepal length (cm)    4.9\n",
       "sepal width (cm)     3.0\n",
       "petal length (cm)    1.4\n",
       "petal width (cm)     0.2\n",
       "Name: 1, dtype: float64"
      ]
     },
     "execution_count": 86,
     "metadata": {},
     "output_type": "execute_result"
    }
   ],
   "source": [
    "# Point b.\n",
    "b = X.iloc[1]\n",
    "\n",
    "# Show b.\n",
    "b"
   ]
  },
  {
   "cell_type": "code",
   "execution_count": 87,
   "metadata": {},
   "outputs": [
    {
     "data": {
      "text/plain": [
       "sepal length (cm)    0.2\n",
       "sepal width (cm)     0.5\n",
       "petal length (cm)    0.0\n",
       "petal width (cm)     0.0\n",
       "dtype: float64"
      ]
     },
     "execution_count": 87,
     "metadata": {},
     "output_type": "execute_result"
    }
   ],
   "source": [
    "# Differences - straight forward subtraction. \n",
    "# The difference in sepal Length from a to b is 0.2cm bigger than b \n",
    "# and difference in sepal width is 0.5cm biugger than b.\n",
    "a - b"
   ]
  },
  {
   "cell_type": "code",
   "execution_count": 88,
   "metadata": {},
   "outputs": [
    {
     "data": {
      "text/plain": [
       "0.6999999999999993"
      ]
     },
     "execution_count": 88,
     "metadata": {},
     "output_type": "execute_result"
    }
   ],
   "source": [
    "# Total difference between A and B.\n",
    "(a - b).sum()"
   ]
  },
  {
   "cell_type": "code",
   "execution_count": 89,
   "metadata": {},
   "outputs": [
    {
     "data": {
      "text/plain": [
       "sepal length (cm)   -0.2\n",
       "sepal width (cm)    -0.5\n",
       "petal length (cm)    0.0\n",
       "petal width (cm)     0.0\n",
       "dtype: float64"
      ]
     },
     "execution_count": 89,
     "metadata": {},
     "output_type": "execute_result"
    }
   ],
   "source": [
    "# Differences - straight forward subtraction. This gives you the negative of each of these values.\n",
    "b - a"
   ]
  },
  {
   "cell_type": "code",
   "execution_count": 90,
   "metadata": {},
   "outputs": [
    {
     "data": {
      "text/plain": [
       "-0.6999999999999993"
      ]
     },
     "execution_count": 90,
     "metadata": {},
     "output_type": "execute_result"
    }
   ],
   "source": [
    "# Total difference. If you have both negative and positive values - this calculation would not be a good representation of the data\n",
    "(b - a).sum()"
   ]
  },
  {
   "cell_type": "code",
   "execution_count": 91,
   "metadata": {},
   "outputs": [
    {
     "data": {
      "text/plain": [
       "sepal length (cm)    0.2\n",
       "sepal width (cm)     0.5\n",
       "petal length (cm)    0.0\n",
       "petal width (cm)     0.0\n",
       "dtype: float64"
      ]
     },
     "execution_count": 91,
     "metadata": {},
     "output_type": "execute_result"
    }
   ],
   "source": [
    "# Absolute values - differences. It doesnt matter if they are positive or negatives.\n",
    "(b - a).abs()"
   ]
  },
  {
   "cell_type": "code",
   "execution_count": 92,
   "metadata": {},
   "outputs": [
    {
     "data": {
      "text/plain": [
       "0.6999999999999993"
      ]
     },
     "execution_count": 92,
     "metadata": {},
     "output_type": "execute_result"
    }
   ],
   "source": [
    "# Total difference - absolute values also known as Manhattan Distance\n",
    "(b - a).abs().sum()"
   ]
  },
  {
   "cell_type": "code",
   "execution_count": 93,
   "metadata": {},
   "outputs": [
    {
     "data": {
      "text/plain": [
       "0.5385164807134502"
      ]
     },
     "execution_count": 93,
     "metadata": {},
     "output_type": "execute_result"
    }
   ],
   "source": [
    "# A more common distance known as the Euclidean distance. You can swap the order of A and B - it wont make a difference\n",
    "((b - a)**2).sum()**0.5"
   ]
  },
  {
   "cell_type": "code",
   "execution_count": 94,
   "metadata": {},
   "outputs": [
    {
     "data": {
      "text/plain": [
       "array([0., 0., 0., 0., 0., 0., 0., 0., 0., 0., 0., 0., 0., 0., 0., 0., 0.,\n",
       "       0., 0., 0., 0., 0., 0., 0., 0., 0., 0., 0., 0., 0., 0., 0., 0., 0.,\n",
       "       0., 0., 0., 0., 0., 0., 0., 0., 0., 0., 0., 0., 0., 0., 0., 0., 1.,\n",
       "       1., 1., 1., 1., 1., 1., 1., 1., 1., 1., 1., 1., 1., 1., 1., 1., 1.,\n",
       "       1., 1., 2., 1., 2., 1., 1., 1., 1., 1., 1., 1., 1., 1., 1., 2., 1.,\n",
       "       1., 1., 1., 1., 1., 1., 1., 1., 1., 1., 1., 1., 1., 1., 1., 2., 2.,\n",
       "       2., 2., 2., 2., 1., 2., 2., 2., 2., 2., 2., 2., 2., 2., 2., 2., 2.,\n",
       "       1., 2., 2., 2., 2., 2., 2., 2., 2., 2., 2., 2., 2., 2., 2., 2., 2.,\n",
       "       2., 2., 2., 2., 2., 2., 2., 2., 2., 2., 2., 2., 2., 2.])"
      ]
     },
     "execution_count": 94,
     "metadata": {},
     "output_type": "execute_result"
    }
   ],
   "source": [
    "# Ask the classifier to predict the outputs for the training set inputs.\n",
    "# (Usually a bad idea.)\n",
    "clf.predict(X)"
   ]
  },
  {
   "cell_type": "code",
   "execution_count": 95,
   "metadata": {},
   "outputs": [
    {
     "data": {
      "text/plain": [
       "0      True\n",
       "1      True\n",
       "2      True\n",
       "3      True\n",
       "4      True\n",
       "       ... \n",
       "145    True\n",
       "146    True\n",
       "147    True\n",
       "148    True\n",
       "149    True\n",
       "Name: target, Length: 150, dtype: bool"
      ]
     },
     "execution_count": 95,
     "metadata": {},
     "output_type": "execute_result"
    }
   ],
   "source": [
    "# Compare to the expected outputs.\n",
    "clf.predict(X) == y"
   ]
  },
  {
   "cell_type": "code",
   "execution_count": 96,
   "metadata": {},
   "outputs": [
    {
     "data": {
      "text/plain": [
       "145"
      ]
     },
     "execution_count": 96,
     "metadata": {},
     "output_type": "execute_result"
    }
   ],
   "source": [
    "# Count the values that are correct.\n",
    "(clf.predict(X) == y).sum()"
   ]
  },
  {
   "cell_type": "code",
   "execution_count": 97,
   "metadata": {},
   "outputs": [
    {
     "data": {
      "text/plain": [
       "150"
      ]
     },
     "execution_count": 97,
     "metadata": {},
     "output_type": "execute_result"
    }
   ],
   "source": [
    "# Totla number of cases.\n",
    "X.shape[0]"
   ]
  },
  {
   "cell_type": "code",
   "execution_count": 98,
   "metadata": {},
   "outputs": [
    {
     "data": {
      "text/plain": [
       "0.9666666666666667"
      ]
     },
     "execution_count": 98,
     "metadata": {},
     "output_type": "execute_result"
    }
   ],
   "source": [
    "# Correct proportion.\n",
    "(clf.predict(X) == y).sum() / X.shape[0]"
   ]
  },
  {
   "cell_type": "code",
   "execution_count": 99,
   "metadata": {},
   "outputs": [],
   "source": [
    "# Keep some samples back for testing, train on the others.\n",
    "X_train, X_test, y_train, y_test = sk.model_selection.train_test_split(X, y)"
   ]
  },
  {
   "cell_type": "code",
   "execution_count": 100,
   "metadata": {},
   "outputs": [
    {
     "data": {
      "text/html": [
       "<div>\n",
       "<style scoped>\n",
       "    .dataframe tbody tr th:only-of-type {\n",
       "        vertical-align: middle;\n",
       "    }\n",
       "\n",
       "    .dataframe tbody tr th {\n",
       "        vertical-align: top;\n",
       "    }\n",
       "\n",
       "    .dataframe thead th {\n",
       "        text-align: right;\n",
       "    }\n",
       "</style>\n",
       "<table border=\"1\" class=\"dataframe\">\n",
       "  <thead>\n",
       "    <tr style=\"text-align: right;\">\n",
       "      <th></th>\n",
       "      <th>sepal length (cm)</th>\n",
       "      <th>sepal width (cm)</th>\n",
       "      <th>petal length (cm)</th>\n",
       "      <th>petal width (cm)</th>\n",
       "    </tr>\n",
       "  </thead>\n",
       "  <tbody>\n",
       "    <tr>\n",
       "      <th>56</th>\n",
       "      <td>6.3</td>\n",
       "      <td>3.3</td>\n",
       "      <td>4.7</td>\n",
       "      <td>1.6</td>\n",
       "    </tr>\n",
       "    <tr>\n",
       "      <th>31</th>\n",
       "      <td>5.4</td>\n",
       "      <td>3.4</td>\n",
       "      <td>1.5</td>\n",
       "      <td>0.4</td>\n",
       "    </tr>\n",
       "    <tr>\n",
       "      <th>12</th>\n",
       "      <td>4.8</td>\n",
       "      <td>3.0</td>\n",
       "      <td>1.4</td>\n",
       "      <td>0.1</td>\n",
       "    </tr>\n",
       "    <tr>\n",
       "      <th>55</th>\n",
       "      <td>5.7</td>\n",
       "      <td>2.8</td>\n",
       "      <td>4.5</td>\n",
       "      <td>1.3</td>\n",
       "    </tr>\n",
       "    <tr>\n",
       "      <th>63</th>\n",
       "      <td>6.1</td>\n",
       "      <td>2.9</td>\n",
       "      <td>4.7</td>\n",
       "      <td>1.4</td>\n",
       "    </tr>\n",
       "    <tr>\n",
       "      <th>...</th>\n",
       "      <td>...</td>\n",
       "      <td>...</td>\n",
       "      <td>...</td>\n",
       "      <td>...</td>\n",
       "    </tr>\n",
       "    <tr>\n",
       "      <th>107</th>\n",
       "      <td>7.3</td>\n",
       "      <td>2.9</td>\n",
       "      <td>6.3</td>\n",
       "      <td>1.8</td>\n",
       "    </tr>\n",
       "    <tr>\n",
       "      <th>24</th>\n",
       "      <td>4.8</td>\n",
       "      <td>3.4</td>\n",
       "      <td>1.9</td>\n",
       "      <td>0.2</td>\n",
       "    </tr>\n",
       "    <tr>\n",
       "      <th>141</th>\n",
       "      <td>6.9</td>\n",
       "      <td>3.1</td>\n",
       "      <td>5.1</td>\n",
       "      <td>2.3</td>\n",
       "    </tr>\n",
       "    <tr>\n",
       "      <th>88</th>\n",
       "      <td>5.6</td>\n",
       "      <td>3.0</td>\n",
       "      <td>4.1</td>\n",
       "      <td>1.3</td>\n",
       "    </tr>\n",
       "    <tr>\n",
       "      <th>8</th>\n",
       "      <td>4.4</td>\n",
       "      <td>2.9</td>\n",
       "      <td>1.4</td>\n",
       "      <td>0.2</td>\n",
       "    </tr>\n",
       "  </tbody>\n",
       "</table>\n",
       "<p>112 rows × 4 columns</p>\n",
       "</div>"
      ],
      "text/plain": [
       "     sepal length (cm)  sepal width (cm)  petal length (cm)  petal width (cm)\n",
       "56                 6.3               3.3                4.7               1.6\n",
       "31                 5.4               3.4                1.5               0.4\n",
       "12                 4.8               3.0                1.4               0.1\n",
       "55                 5.7               2.8                4.5               1.3\n",
       "63                 6.1               2.9                4.7               1.4\n",
       "..                 ...               ...                ...               ...\n",
       "107                7.3               2.9                6.3               1.8\n",
       "24                 4.8               3.4                1.9               0.2\n",
       "141                6.9               3.1                5.1               2.3\n",
       "88                 5.6               3.0                4.1               1.3\n",
       "8                  4.4               2.9                1.4               0.2\n",
       "\n",
       "[112 rows x 4 columns]"
      ]
     },
     "execution_count": 100,
     "metadata": {},
     "output_type": "execute_result"
    }
   ],
   "source": [
    "# Training inputs.\n",
    "X_train"
   ]
  },
  {
   "cell_type": "code",
   "execution_count": 101,
   "metadata": {},
   "outputs": [
    {
     "data": {
      "text/plain": [
       "56     1.0\n",
       "31     0.0\n",
       "12     0.0\n",
       "55     1.0\n",
       "63     1.0\n",
       "      ... \n",
       "107    2.0\n",
       "24     0.0\n",
       "141    2.0\n",
       "88     1.0\n",
       "8      0.0\n",
       "Name: target, Length: 112, dtype: float64"
      ]
     },
     "execution_count": 101,
     "metadata": {},
     "output_type": "execute_result"
    }
   ],
   "source": [
    "# Training outputs.\n",
    "y_train"
   ]
  },
  {
   "cell_type": "code",
   "execution_count": 102,
   "metadata": {},
   "outputs": [
    {
     "data": {
      "text/html": [
       "<style>#sk-container-id-4 {color: black;}#sk-container-id-4 pre{padding: 0;}#sk-container-id-4 div.sk-toggleable {background-color: white;}#sk-container-id-4 label.sk-toggleable__label {cursor: pointer;display: block;width: 100%;margin-bottom: 0;padding: 0.3em;box-sizing: border-box;text-align: center;}#sk-container-id-4 label.sk-toggleable__label-arrow:before {content: \"▸\";float: left;margin-right: 0.25em;color: #696969;}#sk-container-id-4 label.sk-toggleable__label-arrow:hover:before {color: black;}#sk-container-id-4 div.sk-estimator:hover label.sk-toggleable__label-arrow:before {color: black;}#sk-container-id-4 div.sk-toggleable__content {max-height: 0;max-width: 0;overflow: hidden;text-align: left;background-color: #f0f8ff;}#sk-container-id-4 div.sk-toggleable__content pre {margin: 0.2em;color: black;border-radius: 0.25em;background-color: #f0f8ff;}#sk-container-id-4 input.sk-toggleable__control:checked~div.sk-toggleable__content {max-height: 200px;max-width: 100%;overflow: auto;}#sk-container-id-4 input.sk-toggleable__control:checked~label.sk-toggleable__label-arrow:before {content: \"▾\";}#sk-container-id-4 div.sk-estimator input.sk-toggleable__control:checked~label.sk-toggleable__label {background-color: #d4ebff;}#sk-container-id-4 div.sk-label input.sk-toggleable__control:checked~label.sk-toggleable__label {background-color: #d4ebff;}#sk-container-id-4 input.sk-hidden--visually {border: 0;clip: rect(1px 1px 1px 1px);clip: rect(1px, 1px, 1px, 1px);height: 1px;margin: -1px;overflow: hidden;padding: 0;position: absolute;width: 1px;}#sk-container-id-4 div.sk-estimator {font-family: monospace;background-color: #f0f8ff;border: 1px dotted black;border-radius: 0.25em;box-sizing: border-box;margin-bottom: 0.5em;}#sk-container-id-4 div.sk-estimator:hover {background-color: #d4ebff;}#sk-container-id-4 div.sk-parallel-item::after {content: \"\";width: 100%;border-bottom: 1px solid gray;flex-grow: 1;}#sk-container-id-4 div.sk-label:hover label.sk-toggleable__label {background-color: #d4ebff;}#sk-container-id-4 div.sk-serial::before {content: \"\";position: absolute;border-left: 1px solid gray;box-sizing: border-box;top: 0;bottom: 0;left: 50%;z-index: 0;}#sk-container-id-4 div.sk-serial {display: flex;flex-direction: column;align-items: center;background-color: white;padding-right: 0.2em;padding-left: 0.2em;position: relative;}#sk-container-id-4 div.sk-item {position: relative;z-index: 1;}#sk-container-id-4 div.sk-parallel {display: flex;align-items: stretch;justify-content: center;background-color: white;position: relative;}#sk-container-id-4 div.sk-item::before, #sk-container-id-4 div.sk-parallel-item::before {content: \"\";position: absolute;border-left: 1px solid gray;box-sizing: border-box;top: 0;bottom: 0;left: 50%;z-index: -1;}#sk-container-id-4 div.sk-parallel-item {display: flex;flex-direction: column;z-index: 1;position: relative;background-color: white;}#sk-container-id-4 div.sk-parallel-item:first-child::after {align-self: flex-end;width: 50%;}#sk-container-id-4 div.sk-parallel-item:last-child::after {align-self: flex-start;width: 50%;}#sk-container-id-4 div.sk-parallel-item:only-child::after {width: 0;}#sk-container-id-4 div.sk-dashed-wrapped {border: 1px dashed gray;margin: 0 0.4em 0.5em 0.4em;box-sizing: border-box;padding-bottom: 0.4em;background-color: white;}#sk-container-id-4 div.sk-label label {font-family: monospace;font-weight: bold;display: inline-block;line-height: 1.2em;}#sk-container-id-4 div.sk-label-container {text-align: center;}#sk-container-id-4 div.sk-container {/* jupyter's `normalize.less` sets `[hidden] { display: none; }` but bootstrap.min.css set `[hidden] { display: none !important; }` so we also need the `!important` here to be able to override the default hidden behavior on the sphinx rendered scikit-learn.org. See: https://github.com/scikit-learn/scikit-learn/issues/21755 */display: inline-block !important;position: relative;}#sk-container-id-4 div.sk-text-repr-fallback {display: none;}</style><div id=\"sk-container-id-4\" class=\"sk-top-container\"><div class=\"sk-text-repr-fallback\"><pre>KNeighborsClassifier()</pre><b>In a Jupyter environment, please rerun this cell to show the HTML representation or trust the notebook. <br />On GitHub, the HTML representation is unable to render, please try loading this page with nbviewer.org.</b></div><div class=\"sk-container\" hidden><div class=\"sk-item\"><div class=\"sk-estimator sk-toggleable\"><input class=\"sk-toggleable__control sk-hidden--visually\" id=\"sk-estimator-id-4\" type=\"checkbox\" checked><label for=\"sk-estimator-id-4\" class=\"sk-toggleable__label sk-toggleable__label-arrow\">KNeighborsClassifier</label><div class=\"sk-toggleable__content\"><pre>KNeighborsClassifier()</pre></div></div></div></div></div>"
      ],
      "text/plain": [
       "KNeighborsClassifier()"
      ]
     },
     "execution_count": 102,
     "metadata": {},
     "output_type": "execute_result"
    }
   ],
   "source": [
    "# Create a new instance of a classifier.\n",
    "clf = sk.neighbors.KNeighborsClassifier()\n",
    "\n",
    "# Fit the data.\n",
    "clf.fit(X_train, y_train)"
   ]
  },
  {
   "cell_type": "code",
   "execution_count": 103,
   "metadata": {},
   "outputs": [
    {
     "data": {
      "text/plain": [
       "array([0., 1., 0., 2., 2., 0., 2., 1., 2., 1., 2., 0., 1., 0., 0., 1., 2.,\n",
       "       2., 0., 1., 2., 1., 1., 2., 0., 0., 2., 2., 0., 1., 0., 0., 2., 0.,\n",
       "       2., 1., 2., 1.])"
      ]
     },
     "execution_count": 103,
     "metadata": {},
     "output_type": "execute_result"
    }
   ],
   "source": [
    "# Predict based on test set.\n",
    "clf.predict(X_test)"
   ]
  },
  {
   "cell_type": "code",
   "execution_count": 104,
   "metadata": {},
   "outputs": [
    {
     "data": {
      "text/plain": [
       "0.9736842105263158"
      ]
     },
     "execution_count": 104,
     "metadata": {},
     "output_type": "execute_result"
    }
   ],
   "source": [
    "# Proportion of correct classifications on test set.\n",
    "(clf.predict(X_test) == y_test).sum() / X_test.shape[0]"
   ]
  },
  {
   "cell_type": "code",
   "execution_count": 105,
   "metadata": {},
   "outputs": [
    {
     "name": "stdout",
     "output_type": "stream",
     "text": [
      "              precision    recall  f1-score   support\n",
      "\n",
      "           0       1.00      1.00      1.00        50\n",
      "           1       0.94      0.94      0.94        50\n",
      "           2       0.94      0.94      0.94        50\n",
      "\n",
      "    accuracy                           0.96       150\n",
      "   macro avg       0.96      0.96      0.96       150\n",
      "weighted avg       0.96      0.96      0.96       150\n",
      "\n",
      "[[50  0  0]\n",
      " [ 0 47  3]\n",
      " [ 0  3 47]]\n"
     ]
    }
   ],
   "source": [
    "# summarize the fit of the model\n",
    "# Confusion matrix and precision scores are more accurate\n",
    "# Column 1 - 50/50 datasets are identified as Setosa and 0 for the other two datasets are correctly identified.\n",
    "print(metrics.classification_report(expected, predicted))\n",
    "print(metrics.confusion_matrix(expected, predicted))"
   ]
  },
  {
   "cell_type": "markdown",
   "metadata": {},
   "source": [
    "# Data Visualisation"
   ]
  },
  {
   "cell_type": "markdown",
   "metadata": {},
   "source": [
    "# Scatter Plot"
   ]
  },
  {
   "cell_type": "code",
   "execution_count": 111,
   "metadata": {},
   "outputs": [
    {
     "ename": "TypeError",
     "evalue": "'data' must be pandas DataFrame object, not: <class 'sklearn.utils._bunch.Bunch'>",
     "output_type": "error",
     "traceback": [
      "\u001b[1;31m---------------------------------------------------------------------------\u001b[0m",
      "\u001b[1;31mTypeError\u001b[0m                                 Traceback (most recent call last)",
      "Cell \u001b[1;32mIn[111], line 3\u001b[0m\n\u001b[0;32m      1\u001b[0m \u001b[38;5;28;01mimport\u001b[39;00m \u001b[38;5;21;01mmatplotlib\u001b[39;00m\u001b[38;5;21;01m.\u001b[39;00m\u001b[38;5;21;01mpyplot\u001b[39;00m \u001b[38;5;28;01mas\u001b[39;00m \u001b[38;5;21;01mplot_lib\u001b[39;00m\n\u001b[1;32m----> 3\u001b[0m sns\u001b[38;5;241m.\u001b[39mpairplot(iris_dataset,hue\u001b[38;5;241m=\u001b[39m\u001b[38;5;124m\"\u001b[39m\u001b[38;5;124mspecies\u001b[39m\u001b[38;5;124m\"\u001b[39m, height\u001b[38;5;241m=\u001b[39m\u001b[38;5;241m3\u001b[39m)\n\u001b[0;32m      6\u001b[0m \u001b[38;5;28;01mdef\u001b[39;00m \u001b[38;5;21mscatter_plot\u001b[39m(x_value, y_value, x_label,y_label,image_name):\n\u001b[0;32m      8\u001b[0m     plot_lib\u001b[38;5;241m.\u001b[39mfigure(figsize\u001b[38;5;241m=\u001b[39m(\u001b[38;5;241m16\u001b[39m,\u001b[38;5;241m9\u001b[39m))\n",
      "File \u001b[1;32m~\\anaconda3\\Lib\\site-packages\\seaborn\\axisgrid.py:2098\u001b[0m, in \u001b[0;36mpairplot\u001b[1;34m(data, hue, hue_order, palette, vars, x_vars, y_vars, kind, diag_kind, markers, height, aspect, corner, dropna, plot_kws, diag_kws, grid_kws, size)\u001b[0m\n\u001b[0;32m   2095\u001b[0m     warnings\u001b[38;5;241m.\u001b[39mwarn(msg, \u001b[38;5;167;01mUserWarning\u001b[39;00m)\n\u001b[0;32m   2097\u001b[0m \u001b[38;5;28;01mif\u001b[39;00m \u001b[38;5;129;01mnot\u001b[39;00m \u001b[38;5;28misinstance\u001b[39m(data, pd\u001b[38;5;241m.\u001b[39mDataFrame):\n\u001b[1;32m-> 2098\u001b[0m     \u001b[38;5;28;01mraise\u001b[39;00m \u001b[38;5;167;01mTypeError\u001b[39;00m(\n\u001b[0;32m   2099\u001b[0m         \u001b[38;5;124mf\u001b[39m\u001b[38;5;124m\"\u001b[39m\u001b[38;5;124m'\u001b[39m\u001b[38;5;124mdata\u001b[39m\u001b[38;5;124m'\u001b[39m\u001b[38;5;124m must be pandas DataFrame object, not: \u001b[39m\u001b[38;5;132;01m{\u001b[39;00m\u001b[38;5;28mtype\u001b[39m(data)\u001b[38;5;132;01m}\u001b[39;00m\u001b[38;5;124m\"\u001b[39m)\n\u001b[0;32m   2101\u001b[0m plot_kws \u001b[38;5;241m=\u001b[39m {} \u001b[38;5;28;01mif\u001b[39;00m plot_kws \u001b[38;5;129;01mis\u001b[39;00m \u001b[38;5;28;01mNone\u001b[39;00m \u001b[38;5;28;01melse\u001b[39;00m plot_kws\u001b[38;5;241m.\u001b[39mcopy()\n\u001b[0;32m   2102\u001b[0m diag_kws \u001b[38;5;241m=\u001b[39m {} \u001b[38;5;28;01mif\u001b[39;00m diag_kws \u001b[38;5;129;01mis\u001b[39;00m \u001b[38;5;28;01mNone\u001b[39;00m \u001b[38;5;28;01melse\u001b[39;00m diag_kws\u001b[38;5;241m.\u001b[39mcopy()\n",
      "\u001b[1;31mTypeError\u001b[0m: 'data' must be pandas DataFrame object, not: <class 'sklearn.utils._bunch.Bunch'>"
     ]
    }
   ],
   "source": [
    "import matplotlib.pyplot as plot_lib\n",
    "\n",
    "sns.pairplot(iris_dataset,hue=\"species\", height=3)\n",
    "\n",
    "\n",
    "def scatter_plot(x_value, y_value, x_label,y_label,image_name):\n",
    "\n",
    "    plot_lib.figure(figsize=(16,9))\n",
    "    plot_lib.title(\"Scatter Plot\")\n",
    "    plot_lib.scatter(x_value,y_value, color=\"green\", label=\"scatter plot series\")\n",
    "    plot_lib.xlabel(x_label)\n",
    "    plot_lib.ylabel(y_label)\n",
    "    plot_lib.legend(loc=\"best\")\n",
    "    plot_lib.show()\n",
    "    plot_lib.savefig(image_name)"
   ]
  },
  {
   "cell_type": "code",
   "execution_count": 110,
   "metadata": {},
   "outputs": [
    {
     "ename": "NameError",
     "evalue": "name 'neighbors' is not defined",
     "output_type": "error",
     "traceback": [
      "\u001b[1;31m---------------------------------------------------------------------------\u001b[0m",
      "\u001b[1;31mNameError\u001b[0m                                 Traceback (most recent call last)",
      "Cell \u001b[1;32mIn[110], line 43\u001b[0m\n\u001b[0;32m     40\u001b[0m     pl\u001b[38;5;241m.\u001b[39mylabel(\u001b[38;5;124m'\u001b[39m\u001b[38;5;124msepal width (cm)\u001b[39m\u001b[38;5;124m'\u001b[39m)\n\u001b[0;32m     41\u001b[0m     pl\u001b[38;5;241m.\u001b[39maxis(\u001b[38;5;124m'\u001b[39m\u001b[38;5;124mtight\u001b[39m\u001b[38;5;124m'\u001b[39m)\n\u001b[1;32m---> 43\u001b[0m plot_iris_dataset_knn()\n",
      "Cell \u001b[1;32mIn[110], line 23\u001b[0m, in \u001b[0;36mplot_iris_dataset_knn\u001b[1;34m()\u001b[0m\n\u001b[0;32m     20\u001b[0m X \u001b[38;5;241m=\u001b[39m iris_dataset\u001b[38;5;241m.\u001b[39mdata[:, :\u001b[38;5;241m2\u001b[39m]  \u001b[38;5;66;03m# we only take the first two features.\u001b[39;00m\n\u001b[0;32m     21\u001b[0m y \u001b[38;5;241m=\u001b[39m iris_dataset\u001b[38;5;241m.\u001b[39mtarget\n\u001b[1;32m---> 23\u001b[0m knn \u001b[38;5;241m=\u001b[39m neighbors\u001b[38;5;241m.\u001b[39mKNeighborsClassifier(n_neighbors\u001b[38;5;241m=\u001b[39m\u001b[38;5;241m3\u001b[39m)\n\u001b[0;32m     24\u001b[0m knn\u001b[38;5;241m.\u001b[39mfit(X, y)\n\u001b[0;32m     26\u001b[0m x_min, x_max \u001b[38;5;241m=\u001b[39m X[:, \u001b[38;5;241m0\u001b[39m]\u001b[38;5;241m.\u001b[39mmin() \u001b[38;5;241m-\u001b[39m \u001b[38;5;241m.1\u001b[39m, X[:, \u001b[38;5;241m0\u001b[39m]\u001b[38;5;241m.\u001b[39mmax() \u001b[38;5;241m+\u001b[39m \u001b[38;5;241m.1\u001b[39m\n",
      "\u001b[1;31mNameError\u001b[0m: name 'neighbors' is not defined"
     ]
    }
   ],
   "source": [
    "# Create color maps for 3-class classification problem, as with iris\n",
    "import pylab as pl\n",
    "import matplotlib.pyplot as plt\n",
    "from matplotlib.colors import ListedColormap\n",
    "from sklearn.datasets import load_iris\n",
    "#iris_dataset = load_iris()\n",
    "#iris_dataset\n",
    "# \n",
    "#model = KNeighborsClassifier(n_neighbors=3)\n",
    "#model.fit(iris_dataset.data, iris_dataset.target)\n",
    "#KNeighborsClassifier(n_neighbors=3)\n",
    "#from sklearn.neighbors import KNeighborsClassifier\n",
    "#model = sklearn.neighbors.KNeighborsClassifier(n_neighbors=3) \n",
    "\n",
    "cmap_light = ListedColormap(['#FFAAAA', '#AAFFAA', '#AAAAFF'])\n",
    "cmap_bold = ListedColormap(['#FF0000', '#00FF00', '#0000FF'])\n",
    "\n",
    "def plot_iris_dataset_knn():\n",
    "    iris_dataset = load_iris()\n",
    "    X = iris_dataset.data[:, :2]  # we only take the first two features.\n",
    "    y = iris_dataset.target\n",
    "\n",
    "    knn = neighbors.KNeighborsClassifier(n_neighbors=3)\n",
    "    knn.fit(X, y)\n",
    "\n",
    "    x_min, x_max = X[:, 0].min() - .1, X[:, 0].max() + .1\n",
    "    y_min, y_max = X[:, 1].min() - .1, X[:, 1].max() + .1\n",
    "    xx, yy = np.meshgrid(np.linspace(x_min, x_max, 100),\n",
    "                         np.linspace(y_min, y_max, 100))\n",
    "    Z = knn.predict(np.c_[xx.ravel(), yy.ravel()])\n",
    "\n",
    "    # Put the result into a color plot\n",
    "    Z = Z.reshape(xx.shape)\n",
    "    pl.figure()\n",
    "    pl.pcolormesh(xx, yy, Z, cmap=cmap_light)\n",
    "\n",
    "    # Plot also the training points\n",
    "    pl.scatter(X[:, 0], X[:, 1], c=y, cmap=cmap_bold)\n",
    "    pl.xlabel('sepal length (cm)')\n",
    "    pl.ylabel('sepal width (cm)')\n",
    "    pl.axis('tight')\n",
    "    \n",
    "plot_iris_dataset_knn()"
   ]
  },
  {
   "cell_type": "code",
   "execution_count": null,
   "metadata": {},
   "outputs": [],
   "source": []
  },
  {
   "cell_type": "markdown",
   "metadata": {},
   "source": [
    "***\n",
    "\n",
    "## End"
   ]
  },
  {
   "cell_type": "markdown",
   "metadata": {},
   "source": [
    "## References:\n",
    "\n",
    "1. https://statistics.laerd.com/spss-tutorials/chi-square-test-for-association-using-spss-statistics.php\n",
    "2. https://en.wikipedia.org/wiki/Chi-squared_distribution\n",
    "3.  https://www.jmp.com/en_us/statistics-knowledge-portal/chi-square-test.htltml\n",
    "4.  https://www.geeksforgeeks.org/contingency-table-in-python/\n",
    "5.  https://docs.scipy.org/doc/scipy//reference/generated/scipy.stats.contingency.crosstab.html\n",
    "6.  https://docs.scipy.org/doc/scipy/reference/generated/scipy.stats.chi2_contingency.html\n",
    "7. https://docs.scipy.org/doc/scipy/reference/generated/scipy.stats.contingency.expected_freq.html#scipy.stats.contingency.expected_freq\n",
    "8. https://en.wikipedia.org/wiki/Student%27s_t-test\n",
    "9. https://statistics.laerd.com/spss-tutorials/independent-t-test-using-spss-statistics.php\n",
    "10. Choosing and Using Statistics: A Biologist's Guide, 3rd Edition, Dytham.C (2011)\n",
    "11. https://en.wikipedia.org/wiki/Normal_distribution\n",
    "12. https://en.wikipedia.org/wiki/Sampling_distribution\n",
    "13. https://en.wikipedia.org/wiki/Independent_and_identically_distributed_random_variables \n",
    "14. https://statistics.laerd.com/statistical-guides/independent-t-test-statistical-guide.php\n",
    "15. https://en.wikipedia.org/wiki/Scikit-learn\n",
    "16. https://scikit-learn.org/stable/getting_started.html\n",
    "17. https://scikit-learn.org/stable/modules/generated/sklearn.neighbors.KNeighborsClassifier.html\n",
    "18. https://en.wikipedia.org/wiki/K-nearest_neighbors_algorithm\n",
    "19. https://www.ibm.com/topics/knn\n",
    "20. https://en.wikipedia.org/wiki/NaN\n",
    "21. https://pandas.pydata.org/docs/user_guide/missing_data.html\n",
    "22. https://pandas.pydata.org/docs/reference/api/pandas.DataFrame.isna.html\n",
    "23. https://pandas.pydata.org/docs/reference/api/pandas.DataFrame.dropna.html#pandas.DataFrame.dropna\n",
    "24. https://en.wikipedia.org/wiki/Absolute_value\n",
    "25. https://en.wikipedia.org/wiki/Euclidean_distance\n",
    "26. https://en.wikipedia.org/wiki/Confusion_matrix\n",
    "27. https://en.wikipedia.org/wiki/F-score\n"
   ]
  }
 ],
 "metadata": {
  "kernelspec": {
   "display_name": "Python 3 (ipykernel)",
   "language": "python",
   "name": "python3"
  },
  "language_info": {
   "codemirror_mode": {
    "name": "ipython",
    "version": 3
   },
   "file_extension": ".py",
   "mimetype": "text/x-python",
   "name": "python",
   "nbconvert_exporter": "python",
   "pygments_lexer": "ipython3",
   "version": "3.11.5"
  }
 },
 "nbformat": 4,
 "nbformat_minor": 4
}
